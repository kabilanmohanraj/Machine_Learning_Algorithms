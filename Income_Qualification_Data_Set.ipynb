{
  "nbformat": 4,
  "nbformat_minor": 0,
  "metadata": {
    "kernelspec": {
      "display_name": "Python 3",
      "language": "python",
      "name": "python3"
    },
    "language_info": {
      "codemirror_mode": {
        "name": "ipython",
        "version": 3
      },
      "file_extension": ".py",
      "mimetype": "text/x-python",
      "name": "python",
      "nbconvert_exporter": "python",
      "pygments_lexer": "ipython3",
      "version": "3.7.1"
    },
    "colab": {
      "name": "Income_Qualification_Data_Set.ipynb",
      "provenance": []
    }
  },
  "cells": [
    {
      "cell_type": "code",
      "metadata": {
        "id": "v2RqSYpPdnJp",
        "colab_type": "code",
        "colab": {}
      },
      "source": [
        "import numpy as np\n",
        "import pandas as pd\n",
        "import matplotlib.pyplot as plt\n",
        "# %inline matplotlib\n",
        "import seaborn as sns"
      ],
      "execution_count": 0,
      "outputs": []
    },
    {
      "cell_type": "code",
      "metadata": {
        "id": "M_6DbdTZdnJ7",
        "colab_type": "code",
        "colab": {}
      },
      "source": [
        "import warnings\n",
        "warnings.filterwarnings('ignore')"
      ],
      "execution_count": 0,
      "outputs": []
    },
    {
      "cell_type": "markdown",
      "metadata": {
        "id": "1KeKDCMIdnKL",
        "colab_type": "text"
      },
      "source": [
        "### Reading the dataset"
      ]
    },
    {
      "cell_type": "code",
      "metadata": {
        "id": "1C5TTXaXdnKM",
        "colab_type": "code",
        "colab": {},
        "outputId": "ddc98ff7-a5aa-4a93-cdf8-c4273d295131"
      },
      "source": [
        "train_data = pd.read_csv('train.csv')\n",
        "test_data = pd.read_csv('test.csv')\n",
        "train_data.head()"
      ],
      "execution_count": 0,
      "outputs": [
        {
          "output_type": "execute_result",
          "data": {
            "text/html": [
              "<div>\n",
              "<style scoped>\n",
              "    .dataframe tbody tr th:only-of-type {\n",
              "        vertical-align: middle;\n",
              "    }\n",
              "\n",
              "    .dataframe tbody tr th {\n",
              "        vertical-align: top;\n",
              "    }\n",
              "\n",
              "    .dataframe thead th {\n",
              "        text-align: right;\n",
              "    }\n",
              "</style>\n",
              "<table border=\"1\" class=\"dataframe\">\n",
              "  <thead>\n",
              "    <tr style=\"text-align: right;\">\n",
              "      <th></th>\n",
              "      <th>Id</th>\n",
              "      <th>v2a1</th>\n",
              "      <th>hacdor</th>\n",
              "      <th>rooms</th>\n",
              "      <th>hacapo</th>\n",
              "      <th>v14a</th>\n",
              "      <th>refrig</th>\n",
              "      <th>v18q</th>\n",
              "      <th>v18q1</th>\n",
              "      <th>r4h1</th>\n",
              "      <th>...</th>\n",
              "      <th>SQBescolari</th>\n",
              "      <th>SQBage</th>\n",
              "      <th>SQBhogar_total</th>\n",
              "      <th>SQBedjefe</th>\n",
              "      <th>SQBhogar_nin</th>\n",
              "      <th>SQBovercrowding</th>\n",
              "      <th>SQBdependency</th>\n",
              "      <th>SQBmeaned</th>\n",
              "      <th>agesq</th>\n",
              "      <th>Target</th>\n",
              "    </tr>\n",
              "  </thead>\n",
              "  <tbody>\n",
              "    <tr>\n",
              "      <th>0</th>\n",
              "      <td>ID_279628684</td>\n",
              "      <td>190000.0</td>\n",
              "      <td>0</td>\n",
              "      <td>3</td>\n",
              "      <td>0</td>\n",
              "      <td>1</td>\n",
              "      <td>1</td>\n",
              "      <td>0</td>\n",
              "      <td>NaN</td>\n",
              "      <td>0</td>\n",
              "      <td>...</td>\n",
              "      <td>100</td>\n",
              "      <td>1849</td>\n",
              "      <td>1</td>\n",
              "      <td>100</td>\n",
              "      <td>0</td>\n",
              "      <td>1.000000</td>\n",
              "      <td>0.0</td>\n",
              "      <td>100.0</td>\n",
              "      <td>1849</td>\n",
              "      <td>4</td>\n",
              "    </tr>\n",
              "    <tr>\n",
              "      <th>1</th>\n",
              "      <td>ID_f29eb3ddd</td>\n",
              "      <td>135000.0</td>\n",
              "      <td>0</td>\n",
              "      <td>4</td>\n",
              "      <td>0</td>\n",
              "      <td>1</td>\n",
              "      <td>1</td>\n",
              "      <td>1</td>\n",
              "      <td>1.0</td>\n",
              "      <td>0</td>\n",
              "      <td>...</td>\n",
              "      <td>144</td>\n",
              "      <td>4489</td>\n",
              "      <td>1</td>\n",
              "      <td>144</td>\n",
              "      <td>0</td>\n",
              "      <td>1.000000</td>\n",
              "      <td>64.0</td>\n",
              "      <td>144.0</td>\n",
              "      <td>4489</td>\n",
              "      <td>4</td>\n",
              "    </tr>\n",
              "    <tr>\n",
              "      <th>2</th>\n",
              "      <td>ID_68de51c94</td>\n",
              "      <td>NaN</td>\n",
              "      <td>0</td>\n",
              "      <td>8</td>\n",
              "      <td>0</td>\n",
              "      <td>1</td>\n",
              "      <td>1</td>\n",
              "      <td>0</td>\n",
              "      <td>NaN</td>\n",
              "      <td>0</td>\n",
              "      <td>...</td>\n",
              "      <td>121</td>\n",
              "      <td>8464</td>\n",
              "      <td>1</td>\n",
              "      <td>0</td>\n",
              "      <td>0</td>\n",
              "      <td>0.250000</td>\n",
              "      <td>64.0</td>\n",
              "      <td>121.0</td>\n",
              "      <td>8464</td>\n",
              "      <td>4</td>\n",
              "    </tr>\n",
              "    <tr>\n",
              "      <th>3</th>\n",
              "      <td>ID_d671db89c</td>\n",
              "      <td>180000.0</td>\n",
              "      <td>0</td>\n",
              "      <td>5</td>\n",
              "      <td>0</td>\n",
              "      <td>1</td>\n",
              "      <td>1</td>\n",
              "      <td>1</td>\n",
              "      <td>1.0</td>\n",
              "      <td>0</td>\n",
              "      <td>...</td>\n",
              "      <td>81</td>\n",
              "      <td>289</td>\n",
              "      <td>16</td>\n",
              "      <td>121</td>\n",
              "      <td>4</td>\n",
              "      <td>1.777778</td>\n",
              "      <td>1.0</td>\n",
              "      <td>121.0</td>\n",
              "      <td>289</td>\n",
              "      <td>4</td>\n",
              "    </tr>\n",
              "    <tr>\n",
              "      <th>4</th>\n",
              "      <td>ID_d56d6f5f5</td>\n",
              "      <td>180000.0</td>\n",
              "      <td>0</td>\n",
              "      <td>5</td>\n",
              "      <td>0</td>\n",
              "      <td>1</td>\n",
              "      <td>1</td>\n",
              "      <td>1</td>\n",
              "      <td>1.0</td>\n",
              "      <td>0</td>\n",
              "      <td>...</td>\n",
              "      <td>121</td>\n",
              "      <td>1369</td>\n",
              "      <td>16</td>\n",
              "      <td>121</td>\n",
              "      <td>4</td>\n",
              "      <td>1.777778</td>\n",
              "      <td>1.0</td>\n",
              "      <td>121.0</td>\n",
              "      <td>1369</td>\n",
              "      <td>4</td>\n",
              "    </tr>\n",
              "  </tbody>\n",
              "</table>\n",
              "<p>5 rows × 143 columns</p>\n",
              "</div>"
            ],
            "text/plain": [
              "             Id      v2a1  hacdor  rooms  hacapo  v14a  refrig  v18q  v18q1  \\\n",
              "0  ID_279628684  190000.0       0      3       0     1       1     0    NaN   \n",
              "1  ID_f29eb3ddd  135000.0       0      4       0     1       1     1    1.0   \n",
              "2  ID_68de51c94       NaN       0      8       0     1       1     0    NaN   \n",
              "3  ID_d671db89c  180000.0       0      5       0     1       1     1    1.0   \n",
              "4  ID_d56d6f5f5  180000.0       0      5       0     1       1     1    1.0   \n",
              "\n",
              "   r4h1   ...    SQBescolari  SQBage  SQBhogar_total  SQBedjefe  SQBhogar_nin  \\\n",
              "0     0   ...            100    1849               1        100             0   \n",
              "1     0   ...            144    4489               1        144             0   \n",
              "2     0   ...            121    8464               1          0             0   \n",
              "3     0   ...             81     289              16        121             4   \n",
              "4     0   ...            121    1369              16        121             4   \n",
              "\n",
              "   SQBovercrowding  SQBdependency  SQBmeaned  agesq  Target  \n",
              "0         1.000000            0.0      100.0   1849       4  \n",
              "1         1.000000           64.0      144.0   4489       4  \n",
              "2         0.250000           64.0      121.0   8464       4  \n",
              "3         1.777778            1.0      121.0    289       4  \n",
              "4         1.777778            1.0      121.0   1369       4  \n",
              "\n",
              "[5 rows x 143 columns]"
            ]
          },
          "metadata": {
            "tags": []
          },
          "execution_count": 181
        }
      ]
    },
    {
      "cell_type": "markdown",
      "metadata": {
        "id": "5P2_R6B_dnKa",
        "colab_type": "text"
      },
      "source": [
        "### Basic exploration of the dataset"
      ]
    },
    {
      "cell_type": "code",
      "metadata": {
        "id": "JiAe2eVPdnKb",
        "colab_type": "code",
        "colab": {},
        "outputId": "7df0ac7c-d800-4241-d615-fa014fd09e6c"
      },
      "source": [
        "train_data.info()"
      ],
      "execution_count": 0,
      "outputs": [
        {
          "output_type": "stream",
          "text": [
            "<class 'pandas.core.frame.DataFrame'>\n",
            "RangeIndex: 9557 entries, 0 to 9556\n",
            "Columns: 143 entries, Id to Target\n",
            "dtypes: float64(8), int64(130), object(5)\n",
            "memory usage: 10.4+ MB\n"
          ],
          "name": "stdout"
        }
      ]
    },
    {
      "cell_type": "code",
      "metadata": {
        "id": "vuEeyGGsdnKm",
        "colab_type": "code",
        "colab": {},
        "outputId": "8fa05d8a-13f8-4406-ed21-f96bd819aaf9"
      },
      "source": [
        "train_data.shape"
      ],
      "execution_count": 0,
      "outputs": [
        {
          "output_type": "execute_result",
          "data": {
            "text/plain": [
              "(9557, 143)"
            ]
          },
          "metadata": {
            "tags": []
          },
          "execution_count": 6
        }
      ]
    },
    {
      "cell_type": "code",
      "metadata": {
        "id": "erd0qR77dnK6",
        "colab_type": "code",
        "colab": {},
        "outputId": "377bd4a9-6f50-434a-e50c-7dc35c4b25aa"
      },
      "source": [
        "train_data['Target'].unique()"
      ],
      "execution_count": 0,
      "outputs": [
        {
          "output_type": "execute_result",
          "data": {
            "text/plain": [
              "array([4, 2, 3, 1], dtype=int64)"
            ]
          },
          "metadata": {
            "tags": []
          },
          "execution_count": 7
        }
      ]
    },
    {
      "cell_type": "code",
      "metadata": {
        "id": "AabKCTsMdnLF",
        "colab_type": "code",
        "colab": {},
        "outputId": "bb2d401f-8585-47da-d7e2-fdc7f798b040"
      },
      "source": [
        "len(train_data['Id'].unique())"
      ],
      "execution_count": 0,
      "outputs": [
        {
          "output_type": "execute_result",
          "data": {
            "text/plain": [
              "9552"
            ]
          },
          "metadata": {
            "tags": []
          },
          "execution_count": 134
        }
      ]
    },
    {
      "cell_type": "markdown",
      "metadata": {
        "id": "-o8uIwvddnLO",
        "colab_type": "text"
      },
      "source": [
        "#### Since the target column has 4 distinct values, it is a classification problem with 4 categories"
      ]
    },
    {
      "cell_type": "code",
      "metadata": {
        "id": "S3eMLuEGdnLP",
        "colab_type": "code",
        "colab": {},
        "outputId": "bc5d392b-4b45-4673-b1ad-81dd6d11d540"
      },
      "source": [
        "train_data['Target'].count()"
      ],
      "execution_count": 0,
      "outputs": [
        {
          "output_type": "execute_result",
          "data": {
            "text/plain": [
              "9557"
            ]
          },
          "metadata": {
            "tags": []
          },
          "execution_count": 14
        }
      ]
    },
    {
      "cell_type": "code",
      "metadata": {
        "id": "U2MM10-wdnLY",
        "colab_type": "code",
        "colab": {},
        "outputId": "17ebf43b-bc7d-49b1-ba78-9f7a746a2839"
      },
      "source": [
        "train_data['v18q1'].unique()"
      ],
      "execution_count": 0,
      "outputs": [
        {
          "output_type": "execute_result",
          "data": {
            "text/plain": [
              "array([nan,  1.,  2.,  3.,  4.,  5.,  6.])"
            ]
          },
          "metadata": {
            "tags": []
          },
          "execution_count": 12
        }
      ]
    },
    {
      "cell_type": "markdown",
      "metadata": {
        "id": "qMlQ22V7dnLg",
        "colab_type": "text"
      },
      "source": [
        "### Dropping columns having more than 30% null values"
      ]
    },
    {
      "cell_type": "code",
      "metadata": {
        "id": "6FiOwGPKdnLh",
        "colab_type": "code",
        "colab": {},
        "outputId": "6b11382c-edb7-426c-cd10-058497ee8c2f"
      },
      "source": [
        "np.ceil(train_data['Target'].count()*0.3)"
      ],
      "execution_count": 0,
      "outputs": [
        {
          "output_type": "execute_result",
          "data": {
            "text/plain": [
              "2868.0"
            ]
          },
          "metadata": {
            "tags": []
          },
          "execution_count": 16
        }
      ]
    },
    {
      "cell_type": "code",
      "metadata": {
        "id": "fGDT8f4ZdnLr",
        "colab_type": "code",
        "colab": {},
        "outputId": "c9881fe1-acbc-4296-b1bd-731a9b070f3d"
      },
      "source": [
        "train_data.dropna(axis = 1, thresh=np.ceil(train_data['Target'].count()*0.3), inplace = True)\n",
        "train_data.shape"
      ],
      "execution_count": 0,
      "outputs": [
        {
          "output_type": "execute_result",
          "data": {
            "text/plain": [
              "(9557, 140)"
            ]
          },
          "metadata": {
            "tags": []
          },
          "execution_count": 162
        }
      ]
    },
    {
      "cell_type": "markdown",
      "metadata": {
        "id": "fCGVhRdXdnLy",
        "colab_type": "text"
      },
      "source": [
        "#### 3 columns were dropped"
      ]
    },
    {
      "cell_type": "code",
      "metadata": {
        "id": "22fky9n-dnL0",
        "colab_type": "code",
        "colab": {},
        "outputId": "bf093c1e-6d77-4cfc-eb52-fc5b7b25a75b"
      },
      "source": [
        "train_data.info()"
      ],
      "execution_count": 0,
      "outputs": [
        {
          "output_type": "stream",
          "text": [
            "<class 'pandas.core.frame.DataFrame'>\n",
            "RangeIndex: 9557 entries, 0 to 9556\n",
            "Columns: 140 entries, Id to Target\n",
            "dtypes: float64(5), int64(130), object(5)\n",
            "memory usage: 10.2+ MB\n"
          ],
          "name": "stdout"
        }
      ]
    },
    {
      "cell_type": "code",
      "metadata": {
        "id": "wTDoY_EGdnL9",
        "colab_type": "code",
        "colab": {},
        "outputId": "efefeb2f-e401-4f00-cf66-335d37c30ad9"
      },
      "source": [
        "for column in list(train_data.columns)[:-1]:\n",
        "    print(column, train_data[column].count())"
      ],
      "execution_count": 0,
      "outputs": [
        {
          "output_type": "stream",
          "text": [
            "Id 9557\n",
            "v2a1 2697\n",
            "hacdor 9557\n",
            "rooms 9557\n",
            "hacapo 9557\n",
            "v14a 9557\n",
            "refrig 9557\n",
            "v18q 9557\n",
            "v18q1 2215\n",
            "r4h1 9557\n",
            "r4h2 9557\n",
            "r4h3 9557\n",
            "r4m1 9557\n",
            "r4m2 9557\n",
            "r4m3 9557\n",
            "r4t1 9557\n",
            "r4t2 9557\n",
            "r4t3 9557\n",
            "tamhog 9557\n",
            "tamviv 9557\n",
            "escolari 9557\n",
            "rez_esc 1629\n",
            "hhsize 9557\n",
            "paredblolad 9557\n",
            "paredzocalo 9557\n",
            "paredpreb 9557\n",
            "pareddes 9557\n",
            "paredmad 9557\n",
            "paredzinc 9557\n",
            "paredfibras 9557\n",
            "paredother 9557\n",
            "pisomoscer 9557\n",
            "pisocemento 9557\n",
            "pisoother 9557\n",
            "pisonatur 9557\n",
            "pisonotiene 9557\n",
            "pisomadera 9557\n",
            "techozinc 9557\n",
            "techoentrepiso 9557\n",
            "techocane 9557\n",
            "techootro 9557\n",
            "cielorazo 9557\n",
            "abastaguadentro 9557\n",
            "abastaguafuera 9557\n",
            "abastaguano 9557\n",
            "public 9557\n",
            "planpri 9557\n",
            "noelec 9557\n",
            "coopele 9557\n",
            "sanitario1 9557\n",
            "sanitario2 9557\n",
            "sanitario3 9557\n",
            "sanitario5 9557\n",
            "sanitario6 9557\n",
            "energcocinar1 9557\n",
            "energcocinar2 9557\n",
            "energcocinar3 9557\n",
            "energcocinar4 9557\n",
            "elimbasu1 9557\n",
            "elimbasu2 9557\n",
            "elimbasu3 9557\n",
            "elimbasu4 9557\n",
            "elimbasu5 9557\n",
            "elimbasu6 9557\n",
            "epared1 9557\n",
            "epared2 9557\n",
            "epared3 9557\n",
            "etecho1 9557\n",
            "etecho2 9557\n",
            "etecho3 9557\n",
            "eviv1 9557\n",
            "eviv2 9557\n",
            "eviv3 9557\n",
            "dis 9557\n",
            "male 9557\n",
            "female 9557\n",
            "estadocivil1 9557\n",
            "estadocivil2 9557\n",
            "estadocivil3 9557\n",
            "estadocivil4 9557\n",
            "estadocivil5 9557\n",
            "estadocivil6 9557\n",
            "estadocivil7 9557\n",
            "parentesco1 9557\n",
            "parentesco2 9557\n",
            "parentesco3 9557\n",
            "parentesco4 9557\n",
            "parentesco5 9557\n",
            "parentesco6 9557\n",
            "parentesco7 9557\n",
            "parentesco8 9557\n",
            "parentesco9 9557\n",
            "parentesco10 9557\n",
            "parentesco11 9557\n",
            "parentesco12 9557\n",
            "idhogar 9557\n",
            "hogar_nin 9557\n",
            "hogar_adul 9557\n",
            "hogar_mayor 9557\n",
            "hogar_total 9557\n",
            "dependency 9557\n",
            "edjefe 9557\n",
            "edjefa 9557\n",
            "meaneduc 9552\n",
            "instlevel1 9557\n",
            "instlevel2 9557\n",
            "instlevel3 9557\n",
            "instlevel4 9557\n",
            "instlevel5 9557\n",
            "instlevel6 9557\n",
            "instlevel7 9557\n",
            "instlevel8 9557\n",
            "instlevel9 9557\n",
            "bedrooms 9557\n",
            "overcrowding 9557\n",
            "tipovivi1 9557\n",
            "tipovivi2 9557\n",
            "tipovivi3 9557\n",
            "tipovivi4 9557\n",
            "tipovivi5 9557\n",
            "computer 9557\n",
            "television 9557\n",
            "mobilephone 9557\n",
            "qmobilephone 9557\n",
            "lugar1 9557\n",
            "lugar2 9557\n",
            "lugar3 9557\n",
            "lugar4 9557\n",
            "lugar5 9557\n",
            "lugar6 9557\n",
            "area1 9557\n",
            "area2 9557\n",
            "age 9557\n",
            "SQBescolari 9557\n",
            "SQBage 9557\n",
            "SQBhogar_total 9557\n",
            "SQBedjefe 9557\n",
            "SQBhogar_nin 9557\n",
            "SQBovercrowding 9557\n",
            "SQBdependency 9557\n",
            "SQBmeaned 9552\n",
            "agesq 9557\n"
          ],
          "name": "stdout"
        }
      ]
    },
    {
      "cell_type": "code",
      "metadata": {
        "id": "fy1ZykoAdnMF",
        "colab_type": "code",
        "colab": {},
        "outputId": "4d2a43c6-fe11-49fa-8cdc-711d05198688"
      },
      "source": [
        "for column in list(train_data.columns)[:-1]:\n",
        "    if(train_data[column].dtype in ['object']):\n",
        "        print(column, train_data[column].count())\n",
        "        print(column, train_data[column].unique())"
      ],
      "execution_count": 0,
      "outputs": [
        {
          "output_type": "stream",
          "text": [
            "Id 9557\n",
            "Id ['ID_279628684' 'ID_f29eb3ddd' 'ID_68de51c94' ... 'ID_85fc658f8'\n",
            " 'ID_ced540c61' 'ID_a38c64491']\n",
            "idhogar 9557\n",
            "idhogar ['21eb7fcc1' '0e5d7a658' '2c7317ea8' ... 'a8eeafc29' '212db6f6c'\n",
            " 'd6c086aa3']\n",
            "dependency 9557\n",
            "dependency ['no' '8' 'yes' '3' '.5' '.25' '2' '.66666669' '.33333334' '1.5'\n",
            " '.40000001' '.75' '1.25' '.2' '2.5' '1.2' '4' '1.3333334' '2.25'\n",
            " '.22222222' '5' '.83333331' '.80000001' '6' '3.5' '1.6666666' '.2857143'\n",
            " '1.75' '.71428573' '.16666667' '.60000002']\n",
            "edjefe 9557\n",
            "edjefe ['10' '12' 'no' '11' '9' '15' '4' '6' '8' '17' '7' '16' '14' '5' '21' '2'\n",
            " '19' 'yes' '3' '18' '13' '20']\n",
            "edjefa 9557\n",
            "edjefa ['no' '11' '4' '10' '9' '15' '7' '14' '13' '8' '17' '6' '5' '3' '16' '19'\n",
            " 'yes' '21' '12' '2' '20' '18']\n"
          ],
          "name": "stdout"
        }
      ]
    },
    {
      "cell_type": "code",
      "metadata": {
        "id": "fWepVZYQdnMM",
        "colab_type": "code",
        "colab": {},
        "outputId": "539f580f-97e8-49f5-84ca-7039bbea8ab0"
      },
      "source": [
        "len(train_data['idhogar'].unique())"
      ],
      "execution_count": 0,
      "outputs": [
        {
          "output_type": "execute_result",
          "data": {
            "text/plain": [
              "2985"
            ]
          },
          "metadata": {
            "tags": []
          },
          "execution_count": 149
        }
      ]
    },
    {
      "cell_type": "markdown",
      "metadata": {
        "id": "7MXpFWs-dnMT",
        "colab_type": "text"
      },
      "source": [
        "#### As for the dataset, it has both numerical and categorical variables, but in number format with an exception of 5 columns(String datatype). Out of them 3 columns have been found to have inconsistencies. Because of these inconsistencies, the datatype of the whole column was changed. Replacing the inconsistent values can be done by using min and max of that particular column.\n",
        "\n",
        "#### Why are we replacing instead of dropping - 'yes' could mean the maximum and 'no' could mean the min value from that column. These columns refer to education years of the male and female members of the family. The column description directs us to replace 'yes' by 1 amd 'no' by 0."
      ]
    },
    {
      "cell_type": "code",
      "metadata": {
        "id": "ACrsijVwdnMV",
        "colab_type": "code",
        "colab": {}
      },
      "source": [
        "for column in ['edjefa', 'edjefe']:\n",
        "    train_data[column][train_data[column]=='yes'] = 1\n",
        "    train_data[column][train_data[column]=='no'] = 0"
      ],
      "execution_count": 0,
      "outputs": []
    },
    {
      "cell_type": "code",
      "metadata": {
        "id": "FpwIoepvdnMb",
        "colab_type": "code",
        "colab": {}
      },
      "source": [
        "for column in ['edjefa', 'edjefe']:\n",
        "    test_data[column][test_data[column]=='yes'] = 1\n",
        "    test_data[column][test_data[column]=='no'] = 0"
      ],
      "execution_count": 0,
      "outputs": []
    },
    {
      "cell_type": "code",
      "metadata": {
        "id": "X3KH0f3fdnMg",
        "colab_type": "code",
        "colab": {}
      },
      "source": [
        "train_data['dependency'][train_data['dependency']=='yes'] = (train_data['hogar_nin']+train_data['hogar_mayor'])/(train_data['hogar_total']-(train_data['hogar_nin']+train_data['hogar_mayor']))"
      ],
      "execution_count": 0,
      "outputs": []
    },
    {
      "cell_type": "code",
      "metadata": {
        "id": "WMWI2ididnMm",
        "colab_type": "code",
        "colab": {}
      },
      "source": [
        "train_data['dependency'][train_data['dependency']=='no'] = (train_data['hogar_nin']+train_data['hogar_mayor'])/(train_data['hogar_total']-(train_data['hogar_nin']+train_data['hogar_mayor']))"
      ],
      "execution_count": 0,
      "outputs": []
    },
    {
      "cell_type": "code",
      "metadata": {
        "id": "w4tgjGVEdnMs",
        "colab_type": "code",
        "colab": {}
      },
      "source": [
        "test_data['dependency'][test_data['dependency']=='yes'] = (test_data['hogar_nin']+test_data['hogar_mayor'])/(test_data['hogar_total']-(test_data['hogar_nin']+test_data['hogar_mayor']))"
      ],
      "execution_count": 0,
      "outputs": []
    },
    {
      "cell_type": "code",
      "metadata": {
        "id": "yd5Opkh5dnMy",
        "colab_type": "code",
        "colab": {}
      },
      "source": [
        "test_data['dependency'][test_data['dependency']=='no'] = (test_data['hogar_nin']+test_data['hogar_mayor'])/(test_data['hogar_total']-(test_data['hogar_nin']+test_data['hogar_mayor']))"
      ],
      "execution_count": 0,
      "outputs": []
    },
    {
      "cell_type": "markdown",
      "metadata": {
        "id": "WzlAY7nGdnM6",
        "colab_type": "text"
      },
      "source": [
        "#### The inconsistent values were replaced accordingly (from directions in the column description)"
      ]
    },
    {
      "cell_type": "code",
      "metadata": {
        "id": "WMuH-xEZdnM8",
        "colab_type": "code",
        "colab": {},
        "outputId": "a46483bb-cfbf-4029-b6de-98f82a00b292"
      },
      "source": [
        "for column in ['edjefa', 'edjefe', 'dependency']:\n",
        "    if(train_data[column].dtype in ['object']):\n",
        "        print(column, train_data[column].unique())"
      ],
      "execution_count": 0,
      "outputs": [
        {
          "output_type": "stream",
          "text": [
            "edjefa [0 '11' '4' '10' '9' '15' '7' '14' '13' '8' '17' '6' '5' '3' '16' '19' 1\n",
            " '21' '12' '2' '20' '18']\n",
            "edjefe ['10' '12' 0 '11' '9' '15' '4' '6' '8' '17' '7' '16' '14' '5' '21' '2'\n",
            " '19' 1 '3' '18' '13' '20']\n",
            "dependency [0.0 '8' 1.0 '3' '.5' '.25' '2' '.66666669' '.33333334' '1.5' '.40000001'\n",
            " '.75' '1.25' '.2' '2.5' '1.2' '4' '1.3333334' '2.25' '.22222222' '5'\n",
            " '.83333331' '.80000001' '6' '3.5' '1.6666666' '.2857143' '1.75'\n",
            " '.71428573' '.16666667' '.60000002']\n"
          ],
          "name": "stdout"
        }
      ]
    },
    {
      "cell_type": "code",
      "metadata": {
        "id": "Rv6_noBYdnNB",
        "colab_type": "code",
        "colab": {},
        "outputId": "6a1e645e-b9a7-4e92-d99b-b3fe89f02acf"
      },
      "source": [
        "train_data['meaneduc'].count()"
      ],
      "execution_count": 0,
      "outputs": [
        {
          "output_type": "execute_result",
          "data": {
            "text/plain": [
              "9552"
            ]
          },
          "metadata": {
            "tags": []
          },
          "execution_count": 130
        }
      ]
    },
    {
      "cell_type": "code",
      "metadata": {
        "id": "u3a7eOT1dnNH",
        "colab_type": "code",
        "colab": {}
      },
      "source": [
        "train_data = train_data.dropna(inplace=False)"
      ],
      "execution_count": 0,
      "outputs": []
    },
    {
      "cell_type": "code",
      "metadata": {
        "id": "ZTm3DAEjdnNN",
        "colab_type": "code",
        "colab": {},
        "outputId": "bc62a868-b7f1-44f6-b5ff-5f70bf9a9e01"
      },
      "source": [
        "train_data.shape"
      ],
      "execution_count": 0,
      "outputs": [
        {
          "output_type": "execute_result",
          "data": {
            "text/plain": [
              "(9552, 140)"
            ]
          },
          "metadata": {
            "tags": []
          },
          "execution_count": 167
        }
      ]
    },
    {
      "cell_type": "markdown",
      "metadata": {
        "id": "GUTEbsk9dnNU",
        "colab_type": "text"
      },
      "source": [
        "### Whether the dataset is biased or not"
      ]
    },
    {
      "cell_type": "code",
      "metadata": {
        "id": "i7KzlLQxdnNV",
        "colab_type": "code",
        "colab": {},
        "outputId": "5af47ddd-4dfd-48b3-c8f6-76a9101461c6"
      },
      "source": [
        "plt.figure()\n",
        "plt.hist(train_data['Target'])\n",
        "plt.show()"
      ],
      "execution_count": 0,
      "outputs": [
        {
          "output_type": "display_data",
          "data": {
            "image/png": "[encoded data removed]",
            "text/plain": [
              "<Figure size 432x288 with 1 Axes>"
            ]
          },
          "metadata": {
            "tags": [],
            "needs_background": "light"
          }
        }
      ]
    },
    {
      "cell_type": "markdown",
      "metadata": {
        "id": "_erTKkcDdnNa",
        "colab_type": "text"
      },
      "source": [
        "### The above is a histogram of values of the target variable"
      ]
    },
    {
      "cell_type": "markdown",
      "metadata": {
        "id": "KBw21pm7dnNb",
        "colab_type": "text"
      },
      "source": [
        "#### As we can see, the data is biased towards the poverty level-4. Therefore we can expect a highly biased output as well. Suitable ways to tackle this could be sample boosting(generating duplicates in order to balance the data distribuiton)"
      ]
    },
    {
      "cell_type": "code",
      "metadata": {
        "id": "pS6Vt4etdnNd",
        "colab_type": "code",
        "colab": {}
      },
      "source": [
        "from scipy.stats import itemfreq"
      ],
      "execution_count": 0,
      "outputs": []
    },
    {
      "cell_type": "code",
      "metadata": {
        "id": "rppTsAi1dnNi",
        "colab_type": "code",
        "colab": {},
        "outputId": "ba9a553e-fabb-49b9-a874-2265840a147b"
      },
      "source": [
        "freq_target = itemfreq(train_data['Target'])\n",
        "freq_target"
      ],
      "execution_count": 0,
      "outputs": [
        {
          "output_type": "execute_result",
          "data": {
            "text/plain": [
              "array([[   1,  755],\n",
              "       [   2, 1597],\n",
              "       [   3, 1209],\n",
              "       [   4, 5996]], dtype=int64)"
            ]
          },
          "metadata": {
            "tags": []
          },
          "execution_count": 82
        }
      ]
    },
    {
      "cell_type": "markdown",
      "metadata": {
        "id": "FUOPGDYodnNn",
        "colab_type": "text"
      },
      "source": [
        "### Proof of biasness of the data"
      ]
    },
    {
      "cell_type": "code",
      "metadata": {
        "id": "MU6GvNimdnNo",
        "colab_type": "code",
        "colab": {},
        "outputId": "d886072a-f913-4cf4-e9b7-ba3b4be5abf3"
      },
      "source": [
        "pd.DataFrame(freq_target, columns=['value', 'frequency']).plot(kind='bar', x='value', y='frequency')"
      ],
      "execution_count": 0,
      "outputs": [
        {
          "output_type": "execute_result",
          "data": {
            "text/plain": [
              "<matplotlib.axes._subplots.AxesSubplot at 0x250d8d2a7b8>"
            ]
          },
          "metadata": {
            "tags": []
          },
          "execution_count": 169
        },
        {
          "output_type": "display_data",
          "data": {
            "image/png": "[encoded data removed]",
            "text/plain": [
              "<Figure size 432x288 with 1 Axes>"
            ]
          },
          "metadata": {
            "tags": [],
            "needs_background": "light"
          }
        }
      ]
    },
    {
      "cell_type": "markdown",
      "metadata": {
        "id": "1ve7KBrNdnNy",
        "colab_type": "text"
      },
      "source": [
        "### Whether all members of the house have the same poverty level"
      ]
    },
    {
      "cell_type": "code",
      "metadata": {
        "id": "fMPXhUy8dnNz",
        "colab_type": "code",
        "colab": {}
      },
      "source": [
        ""
      ],
      "execution_count": 0,
      "outputs": []
    },
    {
      "cell_type": "markdown",
      "metadata": {
        "id": "yHzJq6nVdnN5",
        "colab_type": "text"
      },
      "source": [
        "### If there is a house without a family head"
      ]
    },
    {
      "cell_type": "code",
      "metadata": {
        "id": "qUwCnJmHdnN5",
        "colab_type": "code",
        "colab": {},
        "outputId": "04c63f2f-a992-4c10-92c4-a0fa5d60b1db"
      },
      "source": [
        "train_data['parentesco1'].unique()"
      ],
      "execution_count": 0,
      "outputs": [
        {
          "output_type": "execute_result",
          "data": {
            "text/plain": [
              "array([1, 0], dtype=int64)"
            ]
          },
          "metadata": {
            "tags": []
          },
          "execution_count": 136
        }
      ]
    },
    {
      "cell_type": "code",
      "metadata": {
        "id": "fywCq8_wdnN9",
        "colab_type": "code",
        "colab": {},
        "outputId": "26067709-1e5e-434e-b84a-73e05647cb33"
      },
      "source": [
        "freq_fam_head = itemfreq(train_data['parentesco1'])\n",
        "freq_fam_head"
      ],
      "execution_count": 0,
      "outputs": [
        {
          "output_type": "execute_result",
          "data": {
            "text/plain": [
              "array([[   0, 6582],\n",
              "       [   1, 2970]], dtype=int64)"
            ]
          },
          "metadata": {
            "tags": []
          },
          "execution_count": 137
        }
      ]
    },
    {
      "cell_type": "markdown",
      "metadata": {
        "id": "r-On_HKLdnOF",
        "colab_type": "text"
      },
      "source": [
        "#### From this we can infer that there are 6582 houses without a family head."
      ]
    },
    {
      "cell_type": "markdown",
      "metadata": {
        "id": "jvqw16d9dnOH",
        "colab_type": "text"
      },
      "source": [
        "### Feature Engineering"
      ]
    },
    {
      "cell_type": "code",
      "metadata": {
        "id": "-kn_ZQRDdnOI",
        "colab_type": "code",
        "colab": {}
      },
      "source": [
        "from sklearn.preprocessing import MinMaxScaler"
      ],
      "execution_count": 0,
      "outputs": []
    },
    {
      "cell_type": "code",
      "metadata": {
        "id": "pDFPgjAgdnON",
        "colab_type": "code",
        "colab": {}
      },
      "source": [
        "for column in ['edjefa', 'edjefe', 'dependency']:\n",
        "    train_data[column] = pd.to_numeric(train_data[column])"
      ],
      "execution_count": 0,
      "outputs": []
    },
    {
      "cell_type": "code",
      "metadata": {
        "id": "xXGyfYDddnOQ",
        "colab_type": "code",
        "colab": {},
        "outputId": "352f41b1-1f71-4215-c635-fdbbc3b32e75"
      },
      "source": [
        "scaler = MinMaxScaler()\n",
        "\n",
        "for column in list(train_data.columns)[:-1]:\n",
        "    if(train_data[column].dtype not in ['object']):\n",
        "        train_data[column] = scaler.fit_transform(train_data[[column]])\n",
        "train_data.head()"
      ],
      "execution_count": 0,
      "outputs": [
        {
          "output_type": "execute_result",
          "data": {
            "text/html": [
              "<div>\n",
              "<style scoped>\n",
              "    .dataframe tbody tr th:only-of-type {\n",
              "        vertical-align: middle;\n",
              "    }\n",
              "\n",
              "    .dataframe tbody tr th {\n",
              "        vertical-align: top;\n",
              "    }\n",
              "\n",
              "    .dataframe thead th {\n",
              "        text-align: right;\n",
              "    }\n",
              "</style>\n",
              "<table border=\"1\" class=\"dataframe\">\n",
              "  <thead>\n",
              "    <tr style=\"text-align: right;\">\n",
              "      <th></th>\n",
              "      <th>Id</th>\n",
              "      <th>hacdor</th>\n",
              "      <th>rooms</th>\n",
              "      <th>hacapo</th>\n",
              "      <th>v14a</th>\n",
              "      <th>refrig</th>\n",
              "      <th>v18q</th>\n",
              "      <th>r4h1</th>\n",
              "      <th>r4h2</th>\n",
              "      <th>r4h3</th>\n",
              "      <th>...</th>\n",
              "      <th>SQBescolari</th>\n",
              "      <th>SQBage</th>\n",
              "      <th>SQBhogar_total</th>\n",
              "      <th>SQBedjefe</th>\n",
              "      <th>SQBhogar_nin</th>\n",
              "      <th>SQBovercrowding</th>\n",
              "      <th>SQBdependency</th>\n",
              "      <th>SQBmeaned</th>\n",
              "      <th>agesq</th>\n",
              "      <th>Target</th>\n",
              "    </tr>\n",
              "  </thead>\n",
              "  <tbody>\n",
              "    <tr>\n",
              "      <th>0</th>\n",
              "      <td>ID_279628684</td>\n",
              "      <td>0.0</td>\n",
              "      <td>0.2</td>\n",
              "      <td>0.0</td>\n",
              "      <td>1.0</td>\n",
              "      <td>1.0</td>\n",
              "      <td>0.0</td>\n",
              "      <td>0.0</td>\n",
              "      <td>0.125</td>\n",
              "      <td>0.125</td>\n",
              "      <td>...</td>\n",
              "      <td>0.226757</td>\n",
              "      <td>0.196514</td>\n",
              "      <td>0.000000</td>\n",
              "      <td>0.226757</td>\n",
              "      <td>0.000000</td>\n",
              "      <td>0.026087</td>\n",
              "      <td>0.000000</td>\n",
              "      <td>0.073046</td>\n",
              "      <td>0.196514</td>\n",
              "      <td>4</td>\n",
              "    </tr>\n",
              "    <tr>\n",
              "      <th>1</th>\n",
              "      <td>ID_f29eb3ddd</td>\n",
              "      <td>0.0</td>\n",
              "      <td>0.3</td>\n",
              "      <td>0.0</td>\n",
              "      <td>1.0</td>\n",
              "      <td>1.0</td>\n",
              "      <td>1.0</td>\n",
              "      <td>0.0</td>\n",
              "      <td>0.125</td>\n",
              "      <td>0.125</td>\n",
              "      <td>...</td>\n",
              "      <td>0.326531</td>\n",
              "      <td>0.477096</td>\n",
              "      <td>0.000000</td>\n",
              "      <td>0.326531</td>\n",
              "      <td>0.000000</td>\n",
              "      <td>0.026087</td>\n",
              "      <td>1.000000</td>\n",
              "      <td>0.105186</td>\n",
              "      <td>0.477096</td>\n",
              "      <td>4</td>\n",
              "    </tr>\n",
              "    <tr>\n",
              "      <th>2</th>\n",
              "      <td>ID_68de51c94</td>\n",
              "      <td>0.0</td>\n",
              "      <td>0.7</td>\n",
              "      <td>0.0</td>\n",
              "      <td>1.0</td>\n",
              "      <td>1.0</td>\n",
              "      <td>0.0</td>\n",
              "      <td>0.0</td>\n",
              "      <td>0.000</td>\n",
              "      <td>0.000</td>\n",
              "      <td>...</td>\n",
              "      <td>0.274376</td>\n",
              "      <td>0.899564</td>\n",
              "      <td>0.000000</td>\n",
              "      <td>0.000000</td>\n",
              "      <td>0.000000</td>\n",
              "      <td>0.005217</td>\n",
              "      <td>1.000000</td>\n",
              "      <td>0.088386</td>\n",
              "      <td>0.899564</td>\n",
              "      <td>4</td>\n",
              "    </tr>\n",
              "    <tr>\n",
              "      <th>3</th>\n",
              "      <td>ID_d671db89c</td>\n",
              "      <td>0.0</td>\n",
              "      <td>0.4</td>\n",
              "      <td>0.0</td>\n",
              "      <td>1.0</td>\n",
              "      <td>1.0</td>\n",
              "      <td>1.0</td>\n",
              "      <td>0.0</td>\n",
              "      <td>0.250</td>\n",
              "      <td>0.250</td>\n",
              "      <td>...</td>\n",
              "      <td>0.183673</td>\n",
              "      <td>0.030715</td>\n",
              "      <td>0.089286</td>\n",
              "      <td>0.274376</td>\n",
              "      <td>0.049383</td>\n",
              "      <td>0.047729</td>\n",
              "      <td>0.015625</td>\n",
              "      <td>0.088386</td>\n",
              "      <td>0.030715</td>\n",
              "      <td>4</td>\n",
              "    </tr>\n",
              "    <tr>\n",
              "      <th>4</th>\n",
              "      <td>ID_d56d6f5f5</td>\n",
              "      <td>0.0</td>\n",
              "      <td>0.4</td>\n",
              "      <td>0.0</td>\n",
              "      <td>1.0</td>\n",
              "      <td>1.0</td>\n",
              "      <td>1.0</td>\n",
              "      <td>0.0</td>\n",
              "      <td>0.250</td>\n",
              "      <td>0.250</td>\n",
              "      <td>...</td>\n",
              "      <td>0.274376</td>\n",
              "      <td>0.145499</td>\n",
              "      <td>0.089286</td>\n",
              "      <td>0.274376</td>\n",
              "      <td>0.049383</td>\n",
              "      <td>0.047729</td>\n",
              "      <td>0.015625</td>\n",
              "      <td>0.088386</td>\n",
              "      <td>0.145499</td>\n",
              "      <td>4</td>\n",
              "    </tr>\n",
              "  </tbody>\n",
              "</table>\n",
              "<p>5 rows × 140 columns</p>\n",
              "</div>"
            ],
            "text/plain": [
              "             Id  hacdor  rooms  hacapo  v14a  refrig  v18q  r4h1   r4h2  \\\n",
              "0  ID_279628684     0.0    0.2     0.0   1.0     1.0   0.0   0.0  0.125   \n",
              "1  ID_f29eb3ddd     0.0    0.3     0.0   1.0     1.0   1.0   0.0  0.125   \n",
              "2  ID_68de51c94     0.0    0.7     0.0   1.0     1.0   0.0   0.0  0.000   \n",
              "3  ID_d671db89c     0.0    0.4     0.0   1.0     1.0   1.0   0.0  0.250   \n",
              "4  ID_d56d6f5f5     0.0    0.4     0.0   1.0     1.0   1.0   0.0  0.250   \n",
              "\n",
              "    r4h3   ...    SQBescolari    SQBage  SQBhogar_total  SQBedjefe  \\\n",
              "0  0.125   ...       0.226757  0.196514        0.000000   0.226757   \n",
              "1  0.125   ...       0.326531  0.477096        0.000000   0.326531   \n",
              "2  0.000   ...       0.274376  0.899564        0.000000   0.000000   \n",
              "3  0.250   ...       0.183673  0.030715        0.089286   0.274376   \n",
              "4  0.250   ...       0.274376  0.145499        0.089286   0.274376   \n",
              "\n",
              "   SQBhogar_nin  SQBovercrowding  SQBdependency  SQBmeaned     agesq  Target  \n",
              "0      0.000000         0.026087       0.000000   0.073046  0.196514       4  \n",
              "1      0.000000         0.026087       1.000000   0.105186  0.477096       4  \n",
              "2      0.000000         0.005217       1.000000   0.088386  0.899564       4  \n",
              "3      0.049383         0.047729       0.015625   0.088386  0.030715       4  \n",
              "4      0.049383         0.047729       0.015625   0.088386  0.145499       4  \n",
              "\n",
              "[5 rows x 140 columns]"
            ]
          },
          "metadata": {
            "tags": []
          },
          "execution_count": 171
        }
      ]
    },
    {
      "cell_type": "code",
      "metadata": {
        "id": "2DVcXxS9dnOV",
        "colab_type": "code",
        "colab": {}
      },
      "source": [
        "from sklearn.preprocessing import LabelEncoder"
      ],
      "execution_count": 0,
      "outputs": []
    },
    {
      "cell_type": "code",
      "metadata": {
        "id": "V4tFn7-ddnOZ",
        "colab_type": "code",
        "colab": {}
      },
      "source": [
        "encoder = LabelEncoder()\n",
        "train_data['idhogar'] = encoder.fit_transform(train_data[['idhogar']])"
      ],
      "execution_count": 0,
      "outputs": []
    },
    {
      "cell_type": "code",
      "metadata": {
        "id": "HnvlfjdGdnOe",
        "colab_type": "code",
        "colab": {}
      },
      "source": [
        "from sklearn.decomposition import PCA"
      ],
      "execution_count": 0,
      "outputs": []
    },
    {
      "cell_type": "code",
      "metadata": {
        "id": "HfpfDYHSdnOi",
        "colab_type": "code",
        "colab": {},
        "outputId": "65673663-7d08-4756-c918-814497d762c1"
      },
      "source": [
        "pca = PCA(n_components=5)\n",
        "pca_data = pca.fit_transform(train_data.iloc[:, 1:-1], train_data.iloc[:, -1])\n",
        "pca_data.shape"
      ],
      "execution_count": 0,
      "outputs": [
        {
          "output_type": "execute_result",
          "data": {
            "text/plain": [
              "(9552, 5)"
            ]
          },
          "metadata": {
            "tags": []
          },
          "execution_count": 173
        }
      ]
    },
    {
      "cell_type": "code",
      "metadata": {
        "id": "Tlu2W7r_dnOm",
        "colab_type": "code",
        "colab": {},
        "outputId": "f0d30063-fe63-4d7d-fb2e-8c474f08e8fe"
      },
      "source": [
        "pca_data_test = pca.fit_transform(test_data.iloc[:, 1:-1], test_data.iloc[:, -1])\n",
        "pca_data_test.shape"
      ],
      "execution_count": 0,
      "outputs": [
        {
          "output_type": "execute_result",
          "data": {
            "text/plain": [
              "(23856, 5)"
            ]
          },
          "metadata": {
            "tags": []
          },
          "execution_count": 196
        }
      ]
    },
    {
      "cell_type": "code",
      "metadata": {
        "id": "QRCB5dEkdnOq",
        "colab_type": "code",
        "colab": {},
        "outputId": "57f6e0fc-2306-4acc-97de-855e2c1d2161"
      },
      "source": [
        "pca.explained_variance_ratio_"
      ],
      "execution_count": 0,
      "outputs": [
        {
          "output_type": "execute_result",
          "data": {
            "text/plain": [
              "array([9.99986020e-01, 1.83777925e-06, 9.02436680e-07, 8.42180282e-07,\n",
              "       7.30079412e-07])"
            ]
          },
          "metadata": {
            "tags": []
          },
          "execution_count": 174
        }
      ]
    },
    {
      "cell_type": "markdown",
      "metadata": {
        "id": "DUBnaw0jdnOw",
        "colab_type": "text"
      },
      "source": [
        "### Training the model"
      ]
    },
    {
      "cell_type": "code",
      "metadata": {
        "id": "NunjN-LUdnOx",
        "colab_type": "code",
        "colab": {}
      },
      "source": [
        "from sklearn.ensemble import RandomForestClassifier"
      ],
      "execution_count": 0,
      "outputs": []
    },
    {
      "cell_type": "code",
      "metadata": {
        "id": "zeJTkv5idnO2",
        "colab_type": "code",
        "colab": {}
      },
      "source": [
        "random_forest = RandomForestClassifier()"
      ],
      "execution_count": 0,
      "outputs": []
    },
    {
      "cell_type": "code",
      "metadata": {
        "id": "anolfQWMdnO7",
        "colab_type": "code",
        "colab": {},
        "outputId": "5c610cad-170f-4d31-f7e1-acec50280221"
      },
      "source": [
        "random_forest.fit(pca_data, train_data.iloc[:, -1])"
      ],
      "execution_count": 0,
      "outputs": [
        {
          "output_type": "error",
          "ename": "ValueError",
          "evalue": "Number of labels=9557 does not match number of samples=9552",
          "traceback": [
            "\u001b[1;31m---------------------------------------------------------------------------\u001b[0m",
            "\u001b[1;31mValueError\u001b[0m                                Traceback (most recent call last)",
            "\u001b[1;32m<ipython-input-198-58dfa4c746b0>\u001b[0m in \u001b[0;36m<module>\u001b[1;34m\u001b[0m\n\u001b[1;32m----> 1\u001b[1;33m \u001b[0mrandom_forest\u001b[0m\u001b[1;33m.\u001b[0m\u001b[0mfit\u001b[0m\u001b[1;33m(\u001b[0m\u001b[0mpca_data\u001b[0m\u001b[1;33m,\u001b[0m \u001b[0mtrain_data\u001b[0m\u001b[1;33m.\u001b[0m\u001b[0miloc\u001b[0m\u001b[1;33m[\u001b[0m\u001b[1;33m:\u001b[0m\u001b[1;33m,\u001b[0m \u001b[1;33m-\u001b[0m\u001b[1;36m1\u001b[0m\u001b[1;33m]\u001b[0m\u001b[1;33m)\u001b[0m\u001b[1;33m\u001b[0m\u001b[1;33m\u001b[0m\u001b[0m\n\u001b[0m",
            "\u001b[1;32mC:\\Anaconda3\\lib\\site-packages\\sklearn\\ensemble\\forest.py\u001b[0m in \u001b[0;36mfit\u001b[1;34m(self, X, y, sample_weight)\u001b[0m\n\u001b[0;32m    331\u001b[0m                     \u001b[0mt\u001b[0m\u001b[1;33m,\u001b[0m \u001b[0mself\u001b[0m\u001b[1;33m,\u001b[0m \u001b[0mX\u001b[0m\u001b[1;33m,\u001b[0m \u001b[0my\u001b[0m\u001b[1;33m,\u001b[0m \u001b[0msample_weight\u001b[0m\u001b[1;33m,\u001b[0m \u001b[0mi\u001b[0m\u001b[1;33m,\u001b[0m \u001b[0mlen\u001b[0m\u001b[1;33m(\u001b[0m\u001b[0mtrees\u001b[0m\u001b[1;33m)\u001b[0m\u001b[1;33m,\u001b[0m\u001b[1;33m\u001b[0m\u001b[1;33m\u001b[0m\u001b[0m\n\u001b[0;32m    332\u001b[0m                     verbose=self.verbose, class_weight=self.class_weight)\n\u001b[1;32m--> 333\u001b[1;33m                 for i, t in enumerate(trees))\n\u001b[0m\u001b[0;32m    334\u001b[0m \u001b[1;33m\u001b[0m\u001b[0m\n\u001b[0;32m    335\u001b[0m             \u001b[1;31m# Collect newly grown trees\u001b[0m\u001b[1;33m\u001b[0m\u001b[1;33m\u001b[0m\u001b[1;33m\u001b[0m\u001b[0m\n",
            "\u001b[1;32mC:\\Anaconda3\\lib\\site-packages\\sklearn\\externals\\joblib\\parallel.py\u001b[0m in \u001b[0;36m__call__\u001b[1;34m(self, iterable)\u001b[0m\n\u001b[0;32m    915\u001b[0m             \u001b[1;31m# remaining jobs.\u001b[0m\u001b[1;33m\u001b[0m\u001b[1;33m\u001b[0m\u001b[1;33m\u001b[0m\u001b[0m\n\u001b[0;32m    916\u001b[0m             \u001b[0mself\u001b[0m\u001b[1;33m.\u001b[0m\u001b[0m_iterating\u001b[0m \u001b[1;33m=\u001b[0m \u001b[1;32mFalse\u001b[0m\u001b[1;33m\u001b[0m\u001b[1;33m\u001b[0m\u001b[0m\n\u001b[1;32m--> 917\u001b[1;33m             \u001b[1;32mif\u001b[0m \u001b[0mself\u001b[0m\u001b[1;33m.\u001b[0m\u001b[0mdispatch_one_batch\u001b[0m\u001b[1;33m(\u001b[0m\u001b[0miterator\u001b[0m\u001b[1;33m)\u001b[0m\u001b[1;33m:\u001b[0m\u001b[1;33m\u001b[0m\u001b[1;33m\u001b[0m\u001b[0m\n\u001b[0m\u001b[0;32m    918\u001b[0m                 \u001b[0mself\u001b[0m\u001b[1;33m.\u001b[0m\u001b[0m_iterating\u001b[0m \u001b[1;33m=\u001b[0m \u001b[0mself\u001b[0m\u001b[1;33m.\u001b[0m\u001b[0m_original_iterator\u001b[0m \u001b[1;32mis\u001b[0m \u001b[1;32mnot\u001b[0m \u001b[1;32mNone\u001b[0m\u001b[1;33m\u001b[0m\u001b[1;33m\u001b[0m\u001b[0m\n\u001b[0;32m    919\u001b[0m \u001b[1;33m\u001b[0m\u001b[0m\n",
            "\u001b[1;32mC:\\Anaconda3\\lib\\site-packages\\sklearn\\externals\\joblib\\parallel.py\u001b[0m in \u001b[0;36mdispatch_one_batch\u001b[1;34m(self, iterator)\u001b[0m\n\u001b[0;32m    757\u001b[0m                 \u001b[1;32mreturn\u001b[0m \u001b[1;32mFalse\u001b[0m\u001b[1;33m\u001b[0m\u001b[1;33m\u001b[0m\u001b[0m\n\u001b[0;32m    758\u001b[0m             \u001b[1;32melse\u001b[0m\u001b[1;33m:\u001b[0m\u001b[1;33m\u001b[0m\u001b[1;33m\u001b[0m\u001b[0m\n\u001b[1;32m--> 759\u001b[1;33m                 \u001b[0mself\u001b[0m\u001b[1;33m.\u001b[0m\u001b[0m_dispatch\u001b[0m\u001b[1;33m(\u001b[0m\u001b[0mtasks\u001b[0m\u001b[1;33m)\u001b[0m\u001b[1;33m\u001b[0m\u001b[1;33m\u001b[0m\u001b[0m\n\u001b[0m\u001b[0;32m    760\u001b[0m                 \u001b[1;32mreturn\u001b[0m \u001b[1;32mTrue\u001b[0m\u001b[1;33m\u001b[0m\u001b[1;33m\u001b[0m\u001b[0m\n\u001b[0;32m    761\u001b[0m \u001b[1;33m\u001b[0m\u001b[0m\n",
            "\u001b[1;32mC:\\Anaconda3\\lib\\site-packages\\sklearn\\externals\\joblib\\parallel.py\u001b[0m in \u001b[0;36m_dispatch\u001b[1;34m(self, batch)\u001b[0m\n\u001b[0;32m    714\u001b[0m         \u001b[1;32mwith\u001b[0m \u001b[0mself\u001b[0m\u001b[1;33m.\u001b[0m\u001b[0m_lock\u001b[0m\u001b[1;33m:\u001b[0m\u001b[1;33m\u001b[0m\u001b[1;33m\u001b[0m\u001b[0m\n\u001b[0;32m    715\u001b[0m             \u001b[0mjob_idx\u001b[0m \u001b[1;33m=\u001b[0m \u001b[0mlen\u001b[0m\u001b[1;33m(\u001b[0m\u001b[0mself\u001b[0m\u001b[1;33m.\u001b[0m\u001b[0m_jobs\u001b[0m\u001b[1;33m)\u001b[0m\u001b[1;33m\u001b[0m\u001b[1;33m\u001b[0m\u001b[0m\n\u001b[1;32m--> 716\u001b[1;33m             \u001b[0mjob\u001b[0m \u001b[1;33m=\u001b[0m \u001b[0mself\u001b[0m\u001b[1;33m.\u001b[0m\u001b[0m_backend\u001b[0m\u001b[1;33m.\u001b[0m\u001b[0mapply_async\u001b[0m\u001b[1;33m(\u001b[0m\u001b[0mbatch\u001b[0m\u001b[1;33m,\u001b[0m \u001b[0mcallback\u001b[0m\u001b[1;33m=\u001b[0m\u001b[0mcb\u001b[0m\u001b[1;33m)\u001b[0m\u001b[1;33m\u001b[0m\u001b[1;33m\u001b[0m\u001b[0m\n\u001b[0m\u001b[0;32m    717\u001b[0m             \u001b[1;31m# A job can complete so quickly than its callback is\u001b[0m\u001b[1;33m\u001b[0m\u001b[1;33m\u001b[0m\u001b[1;33m\u001b[0m\u001b[0m\n\u001b[0;32m    718\u001b[0m             \u001b[1;31m# called before we get here, causing self._jobs to\u001b[0m\u001b[1;33m\u001b[0m\u001b[1;33m\u001b[0m\u001b[1;33m\u001b[0m\u001b[0m\n",
            "\u001b[1;32mC:\\Anaconda3\\lib\\site-packages\\sklearn\\externals\\joblib\\_parallel_backends.py\u001b[0m in \u001b[0;36mapply_async\u001b[1;34m(self, func, callback)\u001b[0m\n\u001b[0;32m    180\u001b[0m     \u001b[1;32mdef\u001b[0m \u001b[0mapply_async\u001b[0m\u001b[1;33m(\u001b[0m\u001b[0mself\u001b[0m\u001b[1;33m,\u001b[0m \u001b[0mfunc\u001b[0m\u001b[1;33m,\u001b[0m \u001b[0mcallback\u001b[0m\u001b[1;33m=\u001b[0m\u001b[1;32mNone\u001b[0m\u001b[1;33m)\u001b[0m\u001b[1;33m:\u001b[0m\u001b[1;33m\u001b[0m\u001b[1;33m\u001b[0m\u001b[0m\n\u001b[0;32m    181\u001b[0m         \u001b[1;34m\"\"\"Schedule a func to be run\"\"\"\u001b[0m\u001b[1;33m\u001b[0m\u001b[1;33m\u001b[0m\u001b[0m\n\u001b[1;32m--> 182\u001b[1;33m         \u001b[0mresult\u001b[0m \u001b[1;33m=\u001b[0m \u001b[0mImmediateResult\u001b[0m\u001b[1;33m(\u001b[0m\u001b[0mfunc\u001b[0m\u001b[1;33m)\u001b[0m\u001b[1;33m\u001b[0m\u001b[1;33m\u001b[0m\u001b[0m\n\u001b[0m\u001b[0;32m    183\u001b[0m         \u001b[1;32mif\u001b[0m \u001b[0mcallback\u001b[0m\u001b[1;33m:\u001b[0m\u001b[1;33m\u001b[0m\u001b[1;33m\u001b[0m\u001b[0m\n\u001b[0;32m    184\u001b[0m             \u001b[0mcallback\u001b[0m\u001b[1;33m(\u001b[0m\u001b[0mresult\u001b[0m\u001b[1;33m)\u001b[0m\u001b[1;33m\u001b[0m\u001b[1;33m\u001b[0m\u001b[0m\n",
            "\u001b[1;32mC:\\Anaconda3\\lib\\site-packages\\sklearn\\externals\\joblib\\_parallel_backends.py\u001b[0m in \u001b[0;36m__init__\u001b[1;34m(self, batch)\u001b[0m\n\u001b[0;32m    547\u001b[0m         \u001b[1;31m# Don't delay the application, to avoid keeping the input\u001b[0m\u001b[1;33m\u001b[0m\u001b[1;33m\u001b[0m\u001b[1;33m\u001b[0m\u001b[0m\n\u001b[0;32m    548\u001b[0m         \u001b[1;31m# arguments in memory\u001b[0m\u001b[1;33m\u001b[0m\u001b[1;33m\u001b[0m\u001b[1;33m\u001b[0m\u001b[0m\n\u001b[1;32m--> 549\u001b[1;33m         \u001b[0mself\u001b[0m\u001b[1;33m.\u001b[0m\u001b[0mresults\u001b[0m \u001b[1;33m=\u001b[0m \u001b[0mbatch\u001b[0m\u001b[1;33m(\u001b[0m\u001b[1;33m)\u001b[0m\u001b[1;33m\u001b[0m\u001b[1;33m\u001b[0m\u001b[0m\n\u001b[0m\u001b[0;32m    550\u001b[0m \u001b[1;33m\u001b[0m\u001b[0m\n\u001b[0;32m    551\u001b[0m     \u001b[1;32mdef\u001b[0m \u001b[0mget\u001b[0m\u001b[1;33m(\u001b[0m\u001b[0mself\u001b[0m\u001b[1;33m)\u001b[0m\u001b[1;33m:\u001b[0m\u001b[1;33m\u001b[0m\u001b[1;33m\u001b[0m\u001b[0m\n",
            "\u001b[1;32mC:\\Anaconda3\\lib\\site-packages\\sklearn\\externals\\joblib\\parallel.py\u001b[0m in \u001b[0;36m__call__\u001b[1;34m(self)\u001b[0m\n\u001b[0;32m    223\u001b[0m         \u001b[1;32mwith\u001b[0m \u001b[0mparallel_backend\u001b[0m\u001b[1;33m(\u001b[0m\u001b[0mself\u001b[0m\u001b[1;33m.\u001b[0m\u001b[0m_backend\u001b[0m\u001b[1;33m,\u001b[0m \u001b[0mn_jobs\u001b[0m\u001b[1;33m=\u001b[0m\u001b[0mself\u001b[0m\u001b[1;33m.\u001b[0m\u001b[0m_n_jobs\u001b[0m\u001b[1;33m)\u001b[0m\u001b[1;33m:\u001b[0m\u001b[1;33m\u001b[0m\u001b[1;33m\u001b[0m\u001b[0m\n\u001b[0;32m    224\u001b[0m             return [func(*args, **kwargs)\n\u001b[1;32m--> 225\u001b[1;33m                     for func, args, kwargs in self.items]\n\u001b[0m\u001b[0;32m    226\u001b[0m \u001b[1;33m\u001b[0m\u001b[0m\n\u001b[0;32m    227\u001b[0m     \u001b[1;32mdef\u001b[0m \u001b[0m__len__\u001b[0m\u001b[1;33m(\u001b[0m\u001b[0mself\u001b[0m\u001b[1;33m)\u001b[0m\u001b[1;33m:\u001b[0m\u001b[1;33m\u001b[0m\u001b[1;33m\u001b[0m\u001b[0m\n",
            "\u001b[1;32mC:\\Anaconda3\\lib\\site-packages\\sklearn\\externals\\joblib\\parallel.py\u001b[0m in \u001b[0;36m<listcomp>\u001b[1;34m(.0)\u001b[0m\n\u001b[0;32m    223\u001b[0m         \u001b[1;32mwith\u001b[0m \u001b[0mparallel_backend\u001b[0m\u001b[1;33m(\u001b[0m\u001b[0mself\u001b[0m\u001b[1;33m.\u001b[0m\u001b[0m_backend\u001b[0m\u001b[1;33m,\u001b[0m \u001b[0mn_jobs\u001b[0m\u001b[1;33m=\u001b[0m\u001b[0mself\u001b[0m\u001b[1;33m.\u001b[0m\u001b[0m_n_jobs\u001b[0m\u001b[1;33m)\u001b[0m\u001b[1;33m:\u001b[0m\u001b[1;33m\u001b[0m\u001b[1;33m\u001b[0m\u001b[0m\n\u001b[0;32m    224\u001b[0m             return [func(*args, **kwargs)\n\u001b[1;32m--> 225\u001b[1;33m                     for func, args, kwargs in self.items]\n\u001b[0m\u001b[0;32m    226\u001b[0m \u001b[1;33m\u001b[0m\u001b[0m\n\u001b[0;32m    227\u001b[0m     \u001b[1;32mdef\u001b[0m \u001b[0m__len__\u001b[0m\u001b[1;33m(\u001b[0m\u001b[0mself\u001b[0m\u001b[1;33m)\u001b[0m\u001b[1;33m:\u001b[0m\u001b[1;33m\u001b[0m\u001b[1;33m\u001b[0m\u001b[0m\n",
            "\u001b[1;32mC:\\Anaconda3\\lib\\site-packages\\sklearn\\ensemble\\forest.py\u001b[0m in \u001b[0;36m_parallel_build_trees\u001b[1;34m(tree, forest, X, y, sample_weight, tree_idx, n_trees, verbose, class_weight)\u001b[0m\n\u001b[0;32m    117\u001b[0m             \u001b[0mcurr_sample_weight\u001b[0m \u001b[1;33m*=\u001b[0m \u001b[0mcompute_sample_weight\u001b[0m\u001b[1;33m(\u001b[0m\u001b[1;34m'balanced'\u001b[0m\u001b[1;33m,\u001b[0m \u001b[0my\u001b[0m\u001b[1;33m,\u001b[0m \u001b[0mindices\u001b[0m\u001b[1;33m)\u001b[0m\u001b[1;33m\u001b[0m\u001b[1;33m\u001b[0m\u001b[0m\n\u001b[0;32m    118\u001b[0m \u001b[1;33m\u001b[0m\u001b[0m\n\u001b[1;32m--> 119\u001b[1;33m         \u001b[0mtree\u001b[0m\u001b[1;33m.\u001b[0m\u001b[0mfit\u001b[0m\u001b[1;33m(\u001b[0m\u001b[0mX\u001b[0m\u001b[1;33m,\u001b[0m \u001b[0my\u001b[0m\u001b[1;33m,\u001b[0m \u001b[0msample_weight\u001b[0m\u001b[1;33m=\u001b[0m\u001b[0mcurr_sample_weight\u001b[0m\u001b[1;33m,\u001b[0m \u001b[0mcheck_input\u001b[0m\u001b[1;33m=\u001b[0m\u001b[1;32mFalse\u001b[0m\u001b[1;33m)\u001b[0m\u001b[1;33m\u001b[0m\u001b[1;33m\u001b[0m\u001b[0m\n\u001b[0m\u001b[0;32m    120\u001b[0m     \u001b[1;32melse\u001b[0m\u001b[1;33m:\u001b[0m\u001b[1;33m\u001b[0m\u001b[1;33m\u001b[0m\u001b[0m\n\u001b[0;32m    121\u001b[0m         \u001b[0mtree\u001b[0m\u001b[1;33m.\u001b[0m\u001b[0mfit\u001b[0m\u001b[1;33m(\u001b[0m\u001b[0mX\u001b[0m\u001b[1;33m,\u001b[0m \u001b[0my\u001b[0m\u001b[1;33m,\u001b[0m \u001b[0msample_weight\u001b[0m\u001b[1;33m=\u001b[0m\u001b[0msample_weight\u001b[0m\u001b[1;33m,\u001b[0m \u001b[0mcheck_input\u001b[0m\u001b[1;33m=\u001b[0m\u001b[1;32mFalse\u001b[0m\u001b[1;33m)\u001b[0m\u001b[1;33m\u001b[0m\u001b[1;33m\u001b[0m\u001b[0m\n",
            "\u001b[1;32mC:\\Anaconda3\\lib\\site-packages\\sklearn\\tree\\tree.py\u001b[0m in \u001b[0;36mfit\u001b[1;34m(self, X, y, sample_weight, check_input, X_idx_sorted)\u001b[0m\n\u001b[0;32m    799\u001b[0m             \u001b[0msample_weight\u001b[0m\u001b[1;33m=\u001b[0m\u001b[0msample_weight\u001b[0m\u001b[1;33m,\u001b[0m\u001b[1;33m\u001b[0m\u001b[1;33m\u001b[0m\u001b[0m\n\u001b[0;32m    800\u001b[0m             \u001b[0mcheck_input\u001b[0m\u001b[1;33m=\u001b[0m\u001b[0mcheck_input\u001b[0m\u001b[1;33m,\u001b[0m\u001b[1;33m\u001b[0m\u001b[1;33m\u001b[0m\u001b[0m\n\u001b[1;32m--> 801\u001b[1;33m             X_idx_sorted=X_idx_sorted)\n\u001b[0m\u001b[0;32m    802\u001b[0m         \u001b[1;32mreturn\u001b[0m \u001b[0mself\u001b[0m\u001b[1;33m\u001b[0m\u001b[1;33m\u001b[0m\u001b[0m\n\u001b[0;32m    803\u001b[0m \u001b[1;33m\u001b[0m\u001b[0m\n",
            "\u001b[1;32mC:\\Anaconda3\\lib\\site-packages\\sklearn\\tree\\tree.py\u001b[0m in \u001b[0;36mfit\u001b[1;34m(self, X, y, sample_weight, check_input, X_idx_sorted)\u001b[0m\n\u001b[0;32m    234\u001b[0m         \u001b[1;32mif\u001b[0m \u001b[0mlen\u001b[0m\u001b[1;33m(\u001b[0m\u001b[0my\u001b[0m\u001b[1;33m)\u001b[0m \u001b[1;33m!=\u001b[0m \u001b[0mn_samples\u001b[0m\u001b[1;33m:\u001b[0m\u001b[1;33m\u001b[0m\u001b[1;33m\u001b[0m\u001b[0m\n\u001b[0;32m    235\u001b[0m             raise ValueError(\"Number of labels=%d does not match \"\n\u001b[1;32m--> 236\u001b[1;33m                              \"number of samples=%d\" % (len(y), n_samples))\n\u001b[0m\u001b[0;32m    237\u001b[0m         \u001b[1;32mif\u001b[0m \u001b[1;32mnot\u001b[0m \u001b[1;36m0\u001b[0m \u001b[1;33m<=\u001b[0m \u001b[0mself\u001b[0m\u001b[1;33m.\u001b[0m\u001b[0mmin_weight_fraction_leaf\u001b[0m \u001b[1;33m<=\u001b[0m \u001b[1;36m0.5\u001b[0m\u001b[1;33m:\u001b[0m\u001b[1;33m\u001b[0m\u001b[1;33m\u001b[0m\u001b[0m\n\u001b[0;32m    238\u001b[0m             \u001b[1;32mraise\u001b[0m \u001b[0mValueError\u001b[0m\u001b[1;33m(\u001b[0m\u001b[1;34m\"min_weight_fraction_leaf must in [0, 0.5]\"\u001b[0m\u001b[1;33m)\u001b[0m\u001b[1;33m\u001b[0m\u001b[1;33m\u001b[0m\u001b[0m\n",
            "\u001b[1;31mValueError\u001b[0m: Number of labels=9557 does not match number of samples=9552"
          ]
        }
      ]
    },
    {
      "cell_type": "code",
      "metadata": {
        "id": "40wIbr00dnO_",
        "colab_type": "code",
        "colab": {},
        "outputId": "5ec698da-b519-4159-cf16-aab295067d9f"
      },
      "source": [
        "for column in list(train_data.columns)[:-1]:\n",
        "    if(test_data[column].dtype not in ['object']):\n",
        "        test_data[column] = scaler.fit_transform(test_data[[column]])\n",
        "test_data.head()"
      ],
      "execution_count": 0,
      "outputs": [
        {
          "output_type": "execute_result",
          "data": {
            "text/html": [
              "<div>\n",
              "<style scoped>\n",
              "    .dataframe tbody tr th:only-of-type {\n",
              "        vertical-align: middle;\n",
              "    }\n",
              "\n",
              "    .dataframe tbody tr th {\n",
              "        vertical-align: top;\n",
              "    }\n",
              "\n",
              "    .dataframe thead th {\n",
              "        text-align: right;\n",
              "    }\n",
              "</style>\n",
              "<table border=\"1\" class=\"dataframe\">\n",
              "  <thead>\n",
              "    <tr style=\"text-align: right;\">\n",
              "      <th></th>\n",
              "      <th>Id</th>\n",
              "      <th>v2a1</th>\n",
              "      <th>hacdor</th>\n",
              "      <th>rooms</th>\n",
              "      <th>hacapo</th>\n",
              "      <th>v14a</th>\n",
              "      <th>refrig</th>\n",
              "      <th>v18q</th>\n",
              "      <th>v18q1</th>\n",
              "      <th>r4h1</th>\n",
              "      <th>...</th>\n",
              "      <th>age</th>\n",
              "      <th>SQBescolari</th>\n",
              "      <th>SQBage</th>\n",
              "      <th>SQBhogar_total</th>\n",
              "      <th>SQBedjefe</th>\n",
              "      <th>SQBhogar_nin</th>\n",
              "      <th>SQBovercrowding</th>\n",
              "      <th>SQBdependency</th>\n",
              "      <th>SQBmeaned</th>\n",
              "      <th>agesq</th>\n",
              "    </tr>\n",
              "  </thead>\n",
              "  <tbody>\n",
              "    <tr>\n",
              "      <th>0</th>\n",
              "      <td>ID_2f6873615</td>\n",
              "      <td>NaN</td>\n",
              "      <td>0.0</td>\n",
              "      <td>0.285714</td>\n",
              "      <td>0.0</td>\n",
              "      <td>1.0</td>\n",
              "      <td>1.0</td>\n",
              "      <td>0.0</td>\n",
              "      <td>NaN</td>\n",
              "      <td>0.166667</td>\n",
              "      <td>...</td>\n",
              "      <td>0.041237</td>\n",
              "      <td>0.000000</td>\n",
              "      <td>0.001700</td>\n",
              "      <td>0.047619</td>\n",
              "      <td>0.000000</td>\n",
              "      <td>0.01</td>\n",
              "      <td>0.013194</td>\n",
              "      <td>0.003906</td>\n",
              "      <td>0.210069</td>\n",
              "      <td>0.001700</td>\n",
              "    </tr>\n",
              "    <tr>\n",
              "      <th>1</th>\n",
              "      <td>ID_1c78846d2</td>\n",
              "      <td>NaN</td>\n",
              "      <td>0.0</td>\n",
              "      <td>0.285714</td>\n",
              "      <td>0.0</td>\n",
              "      <td>1.0</td>\n",
              "      <td>1.0</td>\n",
              "      <td>0.0</td>\n",
              "      <td>NaN</td>\n",
              "      <td>0.166667</td>\n",
              "      <td>...</td>\n",
              "      <td>0.422680</td>\n",
              "      <td>0.580499</td>\n",
              "      <td>0.178659</td>\n",
              "      <td>0.047619</td>\n",
              "      <td>0.000000</td>\n",
              "      <td>0.01</td>\n",
              "      <td>0.013194</td>\n",
              "      <td>0.003906</td>\n",
              "      <td>0.210069</td>\n",
              "      <td>0.178659</td>\n",
              "    </tr>\n",
              "    <tr>\n",
              "      <th>2</th>\n",
              "      <td>ID_e5442cf6a</td>\n",
              "      <td>NaN</td>\n",
              "      <td>0.0</td>\n",
              "      <td>0.285714</td>\n",
              "      <td>0.0</td>\n",
              "      <td>1.0</td>\n",
              "      <td>1.0</td>\n",
              "      <td>0.0</td>\n",
              "      <td>NaN</td>\n",
              "      <td>0.166667</td>\n",
              "      <td>...</td>\n",
              "      <td>0.422680</td>\n",
              "      <td>0.655329</td>\n",
              "      <td>0.178659</td>\n",
              "      <td>0.047619</td>\n",
              "      <td>0.000000</td>\n",
              "      <td>0.01</td>\n",
              "      <td>0.013194</td>\n",
              "      <td>0.003906</td>\n",
              "      <td>0.210069</td>\n",
              "      <td>0.178659</td>\n",
              "    </tr>\n",
              "    <tr>\n",
              "      <th>3</th>\n",
              "      <td>ID_a8db26a79</td>\n",
              "      <td>NaN</td>\n",
              "      <td>0.0</td>\n",
              "      <td>0.928571</td>\n",
              "      <td>0.0</td>\n",
              "      <td>1.0</td>\n",
              "      <td>1.0</td>\n",
              "      <td>1.0</td>\n",
              "      <td>1.0</td>\n",
              "      <td>0.000000</td>\n",
              "      <td>...</td>\n",
              "      <td>0.608247</td>\n",
              "      <td>0.580499</td>\n",
              "      <td>0.369965</td>\n",
              "      <td>0.000000</td>\n",
              "      <td>0.580499</td>\n",
              "      <td>0.00</td>\n",
              "      <td>0.005797</td>\n",
              "      <td>0.000000</td>\n",
              "      <td>0.197531</td>\n",
              "      <td>0.369965</td>\n",
              "    </tr>\n",
              "    <tr>\n",
              "      <th>4</th>\n",
              "      <td>ID_a62966799</td>\n",
              "      <td>175000.0</td>\n",
              "      <td>0.0</td>\n",
              "      <td>0.214286</td>\n",
              "      <td>0.0</td>\n",
              "      <td>1.0</td>\n",
              "      <td>1.0</td>\n",
              "      <td>1.0</td>\n",
              "      <td>1.0</td>\n",
              "      <td>0.000000</td>\n",
              "      <td>...</td>\n",
              "      <td>0.185567</td>\n",
              "      <td>0.274376</td>\n",
              "      <td>0.034435</td>\n",
              "      <td>0.000000</td>\n",
              "      <td>0.000000</td>\n",
              "      <td>0.01</td>\n",
              "      <td>0.001359</td>\n",
              "      <td>1.000000</td>\n",
              "      <td>NaN</td>\n",
              "      <td>0.034435</td>\n",
              "    </tr>\n",
              "  </tbody>\n",
              "</table>\n",
              "<p>5 rows × 142 columns</p>\n",
              "</div>"
            ],
            "text/plain": [
              "             Id      v2a1  hacdor     rooms  hacapo  v14a  refrig  v18q  \\\n",
              "0  ID_2f6873615       NaN     0.0  0.285714     0.0   1.0     1.0   0.0   \n",
              "1  ID_1c78846d2       NaN     0.0  0.285714     0.0   1.0     1.0   0.0   \n",
              "2  ID_e5442cf6a       NaN     0.0  0.285714     0.0   1.0     1.0   0.0   \n",
              "3  ID_a8db26a79       NaN     0.0  0.928571     0.0   1.0     1.0   1.0   \n",
              "4  ID_a62966799  175000.0     0.0  0.214286     0.0   1.0     1.0   1.0   \n",
              "\n",
              "   v18q1      r4h1    ...          age  SQBescolari    SQBage  SQBhogar_total  \\\n",
              "0    NaN  0.166667    ...     0.041237     0.000000  0.001700        0.047619   \n",
              "1    NaN  0.166667    ...     0.422680     0.580499  0.178659        0.047619   \n",
              "2    NaN  0.166667    ...     0.422680     0.655329  0.178659        0.047619   \n",
              "3    1.0  0.000000    ...     0.608247     0.580499  0.369965        0.000000   \n",
              "4    1.0  0.000000    ...     0.185567     0.274376  0.034435        0.000000   \n",
              "\n",
              "   SQBedjefe  SQBhogar_nin  SQBovercrowding  SQBdependency  SQBmeaned  \\\n",
              "0   0.000000          0.01         0.013194       0.003906   0.210069   \n",
              "1   0.000000          0.01         0.013194       0.003906   0.210069   \n",
              "2   0.000000          0.01         0.013194       0.003906   0.210069   \n",
              "3   0.580499          0.00         0.005797       0.000000   0.197531   \n",
              "4   0.000000          0.01         0.001359       1.000000        NaN   \n",
              "\n",
              "      agesq  \n",
              "0  0.001700  \n",
              "1  0.178659  \n",
              "2  0.178659  \n",
              "3  0.369965  \n",
              "4  0.034435  \n",
              "\n",
              "[5 rows x 142 columns]"
            ]
          },
          "metadata": {
            "tags": []
          },
          "execution_count": 177
        }
      ]
    },
    {
      "cell_type": "code",
      "metadata": {
        "id": "Sc1oopXVdnPE",
        "colab_type": "code",
        "colab": {},
        "outputId": "65968874-70c0-4d1a-f071-b19e1dd8d963"
      },
      "source": [
        "test_data.dropna(axis = 1, thresh=np.ceil(train_data['Target'].count()*0.3), inplace = True)\n",
        "test_data.shape"
      ],
      "execution_count": 0,
      "outputs": [
        {
          "output_type": "execute_result",
          "data": {
            "text/plain": [
              "(23856, 142)"
            ]
          },
          "metadata": {
            "tags": []
          },
          "execution_count": 178
        }
      ]
    },
    {
      "cell_type": "code",
      "metadata": {
        "id": "Xy8ak60GdnPJ",
        "colab_type": "code",
        "colab": {},
        "outputId": "000c9be8-debe-4170-cb00-707d3f09ceed"
      },
      "source": [
        "train_data.columns"
      ],
      "execution_count": 0,
      "outputs": [
        {
          "output_type": "execute_result",
          "data": {
            "text/plain": [
              "Index(['Id', 'hacdor', 'rooms', 'hacapo', 'v14a', 'refrig', 'v18q', 'r4h1',\n",
              "       'r4h2', 'r4h3',\n",
              "       ...\n",
              "       'SQBescolari', 'SQBage', 'SQBhogar_total', 'SQBedjefe', 'SQBhogar_nin',\n",
              "       'SQBovercrowding', 'SQBdependency', 'SQBmeaned', 'agesq', 'Target'],\n",
              "      dtype='object', length=140)"
            ]
          },
          "metadata": {
            "tags": []
          },
          "execution_count": 180
        }
      ]
    },
    {
      "cell_type": "code",
      "metadata": {
        "id": "ux_8B8MBdnPP",
        "colab_type": "code",
        "colab": {}
      },
      "source": [
        "train_data['rez_esc']"
      ],
      "execution_count": 0,
      "outputs": []
    },
    {
      "cell_type": "code",
      "metadata": {
        "id": "pl5E-GWcdnPU",
        "colab_type": "code",
        "colab": {}
      },
      "source": [
        "test_data.drop(columns=['v2a1', 'v18q1', 'rez_esc'], inplace=True)"
      ],
      "execution_count": 0,
      "outputs": []
    },
    {
      "cell_type": "code",
      "metadata": {
        "id": "qemDPLxCdnPY",
        "colab_type": "code",
        "colab": {}
      },
      "source": [
        "test_data['idhogar'] = encoder.fit_transform(test_data[['idhogar']])"
      ],
      "execution_count": 0,
      "outputs": []
    },
    {
      "cell_type": "code",
      "metadata": {
        "id": "JG6kMaBTdnPc",
        "colab_type": "code",
        "colab": {},
        "outputId": "bb60bfa1-8f7a-4cb3-a170-eddbd38a0a42"
      },
      "source": [
        "random_forest.score(pca_data_test, test_data.iloc[:, -1])"
      ],
      "execution_count": 0,
      "outputs": [
        {
          "output_type": "execute_result",
          "data": {
            "text/plain": [
              "0.011653252850435948"
            ]
          },
          "metadata": {
            "tags": []
          },
          "execution_count": 197
        }
      ]
    },
    {
      "cell_type": "code",
      "metadata": {
        "id": "x6AZVHDadnPh",
        "colab_type": "code",
        "colab": {}
      },
      "source": [
        "for column in list(test_data.columns):\n",
        "    if(test_data[column].dtype not in ['object']):\n",
        "        test_data[column].fillna(test_data[column].median(), inplace=True)"
      ],
      "execution_count": 0,
      "outputs": []
    },
    {
      "cell_type": "code",
      "metadata": {
        "id": "BH0RsldwdnPn",
        "colab_type": "code",
        "colab": {}
      },
      "source": [
        ""
      ],
      "execution_count": 0,
      "outputs": []
    }
  ]
}