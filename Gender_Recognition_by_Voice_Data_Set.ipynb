{
  "nbformat": 4,
  "nbformat_minor": 0,
  "metadata": {
    "kernelspec": {
      "display_name": "Python 3",
      "language": "python",
      "name": "python3"
    },
    "language_info": {
      "codemirror_mode": {
        "name": "ipython",
        "version": 3
      },
      "file_extension": ".py",
      "mimetype": "text/x-python",
      "name": "python",
      "nbconvert_exporter": "python",
      "pygments_lexer": "ipython3",
      "version": "3.7.1"
    },
    "colab": {
      "name": "Gender_Recognition_by_Voice_Data_Set.ipynb",
      "provenance": [],
      "collapsed_sections": [
        "KAOQZilHgFdn",
        "anbKRMWsgFdp",
        "utDAeqjjgFdq",
        "bUo649hugFds",
        "UCuRpFWmgFeA",
        "9_jsK4rSgFeg",
        "hKYvMOObgFey",
        "O1jdlXHxgFfI",
        "7H0c5MSHgFfm",
        "puGadbRzgFgI",
        "E1A0yUlWgFgI",
        "yOYnjfVOgFgb",
        "Nb4dLM9NgFgn",
        "vhTHu-UmgFhT",
        "k68ApMPYgFhV",
        "6wl7lSsBgFhp",
        "xFqC_Mc6gFh1",
        "0Tdt96YLgFh2",
        "EXYaSFLNgFiW",
        "onWUNi2bgFie",
        "y-jPYIHBgFim",
        "Py6J2nAJgFjO",
        "xdqJ439-gFj0",
        "GSZABdFRgFj3"
      ]
    }
  },
  "cells": [
    {
      "cell_type": "code",
      "metadata": {
        "id": "65hciIuEgFbU",
        "colab_type": "code",
        "colab": {}
      },
      "source": [
        "import pandas as pd\n",
        "import seaborn as sns\n",
        "import matplotlib.pyplot as plt\n",
        "from sklearn.neighbors import KNeighborsClassifier\n",
        "from sklearn.tree import DecisionTreeClassifier\n",
        "from sklearn.linear_model import LogisticRegression\n",
        "from sklearn.svm import SVC\n",
        "from sklearn.metrics import confusion_matrix,mean_squared_error\n",
        "from sklearn.preprocessing import MinMaxScaler\n",
        "from sklearn.model_selection import train_test_split"
      ],
      "execution_count": 0,
      "outputs": []
    },
    {
      "cell_type": "code",
      "metadata": {
        "id": "nnVW4ySJgFbl",
        "colab_type": "code",
        "colab": {}
      },
      "source": [
        "from sklearn.preprocessing import LabelEncoder"
      ],
      "execution_count": 0,
      "outputs": []
    },
    {
      "cell_type": "code",
      "metadata": {
        "id": "AD8QisBKgFb2",
        "colab_type": "code",
        "colab": {}
      },
      "source": [
        "df_voice=pd.read_csv('voice-classification.csv')"
      ],
      "execution_count": 0,
      "outputs": []
    },
    {
      "cell_type": "code",
      "metadata": {
        "id": "VIwXJfRSgFcA",
        "colab_type": "code",
        "colab": {},
        "outputId": "03117952-b0a7-4745-c0af-fb5f720c2176"
      },
      "source": [
        "df_voice.shape"
      ],
      "execution_count": 0,
      "outputs": [
        {
          "output_type": "execute_result",
          "data": {
            "text/plain": [
              "(3168, 21)"
            ]
          },
          "metadata": {
            "tags": []
          },
          "execution_count": 8
        }
      ]
    },
    {
      "cell_type": "code",
      "metadata": {
        "id": "mEU84wrngFcL",
        "colab_type": "code",
        "colab": {},
        "outputId": "a9ac49dd-6e9a-4bff-e30a-2e994571d9ef"
      },
      "source": [
        "df_voice.head()"
      ],
      "execution_count": 0,
      "outputs": [
        {
          "output_type": "execute_result",
          "data": {
            "text/html": [
              "<div>\n",
              "<style scoped>\n",
              "    .dataframe tbody tr th:only-of-type {\n",
              "        vertical-align: middle;\n",
              "    }\n",
              "\n",
              "    .dataframe tbody tr th {\n",
              "        vertical-align: top;\n",
              "    }\n",
              "\n",
              "    .dataframe thead th {\n",
              "        text-align: right;\n",
              "    }\n",
              "</style>\n",
              "<table border=\"1\" class=\"dataframe\">\n",
              "  <thead>\n",
              "    <tr style=\"text-align: right;\">\n",
              "      <th></th>\n",
              "      <th>meanfreq</th>\n",
              "      <th>sd</th>\n",
              "      <th>median</th>\n",
              "      <th>Q25</th>\n",
              "      <th>Q75</th>\n",
              "      <th>IQR</th>\n",
              "      <th>skew</th>\n",
              "      <th>kurt</th>\n",
              "      <th>sp.ent</th>\n",
              "      <th>sfm</th>\n",
              "      <th>...</th>\n",
              "      <th>centroid</th>\n",
              "      <th>meanfun</th>\n",
              "      <th>minfun</th>\n",
              "      <th>maxfun</th>\n",
              "      <th>meandom</th>\n",
              "      <th>mindom</th>\n",
              "      <th>maxdom</th>\n",
              "      <th>dfrange</th>\n",
              "      <th>modindx</th>\n",
              "      <th>label</th>\n",
              "    </tr>\n",
              "  </thead>\n",
              "  <tbody>\n",
              "    <tr>\n",
              "      <th>0</th>\n",
              "      <td>0.059781</td>\n",
              "      <td>0.064241</td>\n",
              "      <td>0.032027</td>\n",
              "      <td>0.015071</td>\n",
              "      <td>0.090193</td>\n",
              "      <td>0.075122</td>\n",
              "      <td>12.863462</td>\n",
              "      <td>274.402906</td>\n",
              "      <td>0.893369</td>\n",
              "      <td>0.491918</td>\n",
              "      <td>...</td>\n",
              "      <td>0.059781</td>\n",
              "      <td>0.084279</td>\n",
              "      <td>0.015702</td>\n",
              "      <td>0.275862</td>\n",
              "      <td>0.007812</td>\n",
              "      <td>0.007812</td>\n",
              "      <td>0.007812</td>\n",
              "      <td>0.000000</td>\n",
              "      <td>0.000000</td>\n",
              "      <td>male</td>\n",
              "    </tr>\n",
              "    <tr>\n",
              "      <th>1</th>\n",
              "      <td>0.066009</td>\n",
              "      <td>0.067310</td>\n",
              "      <td>0.040229</td>\n",
              "      <td>0.019414</td>\n",
              "      <td>0.092666</td>\n",
              "      <td>0.073252</td>\n",
              "      <td>22.423285</td>\n",
              "      <td>634.613855</td>\n",
              "      <td>0.892193</td>\n",
              "      <td>0.513724</td>\n",
              "      <td>...</td>\n",
              "      <td>0.066009</td>\n",
              "      <td>0.107937</td>\n",
              "      <td>0.015826</td>\n",
              "      <td>0.250000</td>\n",
              "      <td>0.009014</td>\n",
              "      <td>0.007812</td>\n",
              "      <td>0.054688</td>\n",
              "      <td>0.046875</td>\n",
              "      <td>0.052632</td>\n",
              "      <td>male</td>\n",
              "    </tr>\n",
              "    <tr>\n",
              "      <th>2</th>\n",
              "      <td>0.077316</td>\n",
              "      <td>0.083829</td>\n",
              "      <td>0.036718</td>\n",
              "      <td>0.008701</td>\n",
              "      <td>0.131908</td>\n",
              "      <td>0.123207</td>\n",
              "      <td>30.757155</td>\n",
              "      <td>1024.927705</td>\n",
              "      <td>0.846389</td>\n",
              "      <td>0.478905</td>\n",
              "      <td>...</td>\n",
              "      <td>0.077316</td>\n",
              "      <td>0.098706</td>\n",
              "      <td>0.015656</td>\n",
              "      <td>0.271186</td>\n",
              "      <td>0.007990</td>\n",
              "      <td>0.007812</td>\n",
              "      <td>0.015625</td>\n",
              "      <td>0.007812</td>\n",
              "      <td>0.046512</td>\n",
              "      <td>male</td>\n",
              "    </tr>\n",
              "    <tr>\n",
              "      <th>3</th>\n",
              "      <td>0.151228</td>\n",
              "      <td>0.072111</td>\n",
              "      <td>0.158011</td>\n",
              "      <td>0.096582</td>\n",
              "      <td>0.207955</td>\n",
              "      <td>0.111374</td>\n",
              "      <td>1.232831</td>\n",
              "      <td>4.177296</td>\n",
              "      <td>0.963322</td>\n",
              "      <td>0.727232</td>\n",
              "      <td>...</td>\n",
              "      <td>0.151228</td>\n",
              "      <td>0.088965</td>\n",
              "      <td>0.017798</td>\n",
              "      <td>0.250000</td>\n",
              "      <td>0.201497</td>\n",
              "      <td>0.007812</td>\n",
              "      <td>0.562500</td>\n",
              "      <td>0.554688</td>\n",
              "      <td>0.247119</td>\n",
              "      <td>male</td>\n",
              "    </tr>\n",
              "    <tr>\n",
              "      <th>4</th>\n",
              "      <td>0.135120</td>\n",
              "      <td>0.079146</td>\n",
              "      <td>0.124656</td>\n",
              "      <td>0.078720</td>\n",
              "      <td>0.206045</td>\n",
              "      <td>0.127325</td>\n",
              "      <td>1.101174</td>\n",
              "      <td>4.333713</td>\n",
              "      <td>0.971955</td>\n",
              "      <td>0.783568</td>\n",
              "      <td>...</td>\n",
              "      <td>0.135120</td>\n",
              "      <td>0.106398</td>\n",
              "      <td>0.016931</td>\n",
              "      <td>0.266667</td>\n",
              "      <td>0.712812</td>\n",
              "      <td>0.007812</td>\n",
              "      <td>5.484375</td>\n",
              "      <td>5.476562</td>\n",
              "      <td>0.208274</td>\n",
              "      <td>male</td>\n",
              "    </tr>\n",
              "  </tbody>\n",
              "</table>\n",
              "<p>5 rows × 21 columns</p>\n",
              "</div>"
            ],
            "text/plain": [
              "   meanfreq        sd    median       Q25       Q75       IQR       skew  \\\n",
              "0  0.059781  0.064241  0.032027  0.015071  0.090193  0.075122  12.863462   \n",
              "1  0.066009  0.067310  0.040229  0.019414  0.092666  0.073252  22.423285   \n",
              "2  0.077316  0.083829  0.036718  0.008701  0.131908  0.123207  30.757155   \n",
              "3  0.151228  0.072111  0.158011  0.096582  0.207955  0.111374   1.232831   \n",
              "4  0.135120  0.079146  0.124656  0.078720  0.206045  0.127325   1.101174   \n",
              "\n",
              "          kurt    sp.ent       sfm  ...    centroid   meanfun    minfun  \\\n",
              "0   274.402906  0.893369  0.491918  ...    0.059781  0.084279  0.015702   \n",
              "1   634.613855  0.892193  0.513724  ...    0.066009  0.107937  0.015826   \n",
              "2  1024.927705  0.846389  0.478905  ...    0.077316  0.098706  0.015656   \n",
              "3     4.177296  0.963322  0.727232  ...    0.151228  0.088965  0.017798   \n",
              "4     4.333713  0.971955  0.783568  ...    0.135120  0.106398  0.016931   \n",
              "\n",
              "     maxfun   meandom    mindom    maxdom   dfrange   modindx  label  \n",
              "0  0.275862  0.007812  0.007812  0.007812  0.000000  0.000000   male  \n",
              "1  0.250000  0.009014  0.007812  0.054688  0.046875  0.052632   male  \n",
              "2  0.271186  0.007990  0.007812  0.015625  0.007812  0.046512   male  \n",
              "3  0.250000  0.201497  0.007812  0.562500  0.554688  0.247119   male  \n",
              "4  0.266667  0.712812  0.007812  5.484375  5.476562  0.208274   male  \n",
              "\n",
              "[5 rows x 21 columns]"
            ]
          },
          "metadata": {
            "tags": []
          },
          "execution_count": 9
        }
      ]
    },
    {
      "cell_type": "code",
      "metadata": {
        "id": "NDLzMvt_gFcV",
        "colab_type": "code",
        "colab": {},
        "outputId": "d6edb056-f20f-4b76-ce0a-481cfa284ab1"
      },
      "source": [
        "df_voice.info()"
      ],
      "execution_count": 0,
      "outputs": [
        {
          "output_type": "stream",
          "text": [
            "<class 'pandas.core.frame.DataFrame'>\n",
            "RangeIndex: 3168 entries, 0 to 3167\n",
            "Data columns (total 21 columns):\n",
            "meanfreq    3168 non-null float64\n",
            "sd          3168 non-null float64\n",
            "median      3168 non-null float64\n",
            "Q25         3168 non-null float64\n",
            "Q75         3168 non-null float64\n",
            "IQR         3168 non-null float64\n",
            "skew        3168 non-null float64\n",
            "kurt        3168 non-null float64\n",
            "sp.ent      3168 non-null float64\n",
            "sfm         3168 non-null float64\n",
            "mode        3168 non-null float64\n",
            "centroid    3168 non-null float64\n",
            "meanfun     3168 non-null float64\n",
            "minfun      3168 non-null float64\n",
            "maxfun      3168 non-null float64\n",
            "meandom     3168 non-null float64\n",
            "mindom      3168 non-null float64\n",
            "maxdom      3168 non-null float64\n",
            "dfrange     3168 non-null float64\n",
            "modindx     3168 non-null float64\n",
            "label       3168 non-null object\n",
            "dtypes: float64(20), object(1)\n",
            "memory usage: 519.8+ KB\n"
          ],
          "name": "stdout"
        }
      ]
    },
    {
      "cell_type": "code",
      "metadata": {
        "id": "tiCnXUaegFcg",
        "colab_type": "code",
        "colab": {},
        "outputId": "afefc85f-75cd-41ed-cfcc-7958482c8b79"
      },
      "source": [
        "df_voice.isnull().sum()"
      ],
      "execution_count": 0,
      "outputs": [
        {
          "output_type": "execute_result",
          "data": {
            "text/plain": [
              "meanfreq    0\n",
              "sd          0\n",
              "median      0\n",
              "Q25         0\n",
              "Q75         0\n",
              "IQR         0\n",
              "skew        0\n",
              "kurt        0\n",
              "sp.ent      0\n",
              "sfm         0\n",
              "mode        0\n",
              "centroid    0\n",
              "meanfun     0\n",
              "minfun      0\n",
              "maxfun      0\n",
              "meandom     0\n",
              "mindom      0\n",
              "maxdom      0\n",
              "dfrange     0\n",
              "modindx     0\n",
              "label       0\n",
              "dtype: int64"
            ]
          },
          "metadata": {
            "tags": []
          },
          "execution_count": 11
        }
      ]
    },
    {
      "cell_type": "code",
      "metadata": {
        "id": "YhzLc5ALgFcn",
        "colab_type": "code",
        "colab": {}
      },
      "source": [
        "cols=df_voice.columns"
      ],
      "execution_count": 0,
      "outputs": []
    },
    {
      "cell_type": "code",
      "metadata": {
        "id": "xUrCnOQJgFct",
        "colab_type": "code",
        "colab": {},
        "outputId": "5a2ff635-c6af-4b3e-dd4f-e4dae95bb001"
      },
      "source": [
        "for i in cols:\n",
        "    print(i,df_voice[df_voice[i]==0].count()[0])"
      ],
      "execution_count": 0,
      "outputs": [
        {
          "output_type": "stream",
          "text": [
            "meanfreq 0\n",
            "sd 0\n",
            "median 0\n",
            "Q25 0\n",
            "Q75 0\n",
            "IQR 0\n",
            "skew 0\n",
            "kurt 0\n",
            "sp.ent 0\n",
            "sfm 0\n",
            "mode 236\n",
            "centroid 0\n",
            "meanfun 0\n",
            "minfun 0\n",
            "maxfun 0\n",
            "meandom 0\n",
            "mindom 0\n",
            "maxdom 0\n",
            "dfrange 65\n",
            "modindx 65\n",
            "label 0\n"
          ],
          "name": "stdout"
        }
      ]
    },
    {
      "cell_type": "code",
      "metadata": {
        "id": "moyWizUpgFc2",
        "colab_type": "code",
        "colab": {},
        "outputId": "12a6e554-f0d8-471d-ae73-b30aedca684f"
      },
      "source": [
        "df_voice.describe().T"
      ],
      "execution_count": 0,
      "outputs": [
        {
          "output_type": "execute_result",
          "data": {
            "text/html": [
              "<div>\n",
              "<style scoped>\n",
              "    .dataframe tbody tr th:only-of-type {\n",
              "        vertical-align: middle;\n",
              "    }\n",
              "\n",
              "    .dataframe tbody tr th {\n",
              "        vertical-align: top;\n",
              "    }\n",
              "\n",
              "    .dataframe thead th {\n",
              "        text-align: right;\n",
              "    }\n",
              "</style>\n",
              "<table border=\"1\" class=\"dataframe\">\n",
              "  <thead>\n",
              "    <tr style=\"text-align: right;\">\n",
              "      <th></th>\n",
              "      <th>count</th>\n",
              "      <th>mean</th>\n",
              "      <th>std</th>\n",
              "      <th>min</th>\n",
              "      <th>25%</th>\n",
              "      <th>50%</th>\n",
              "      <th>75%</th>\n",
              "      <th>max</th>\n",
              "    </tr>\n",
              "  </thead>\n",
              "  <tbody>\n",
              "    <tr>\n",
              "      <th>meanfreq</th>\n",
              "      <td>3168.0</td>\n",
              "      <td>0.180907</td>\n",
              "      <td>0.029918</td>\n",
              "      <td>0.039363</td>\n",
              "      <td>0.163662</td>\n",
              "      <td>0.184838</td>\n",
              "      <td>0.199146</td>\n",
              "      <td>0.251124</td>\n",
              "    </tr>\n",
              "    <tr>\n",
              "      <th>sd</th>\n",
              "      <td>3168.0</td>\n",
              "      <td>0.057126</td>\n",
              "      <td>0.016652</td>\n",
              "      <td>0.018363</td>\n",
              "      <td>0.041954</td>\n",
              "      <td>0.059155</td>\n",
              "      <td>0.067020</td>\n",
              "      <td>0.115273</td>\n",
              "    </tr>\n",
              "    <tr>\n",
              "      <th>median</th>\n",
              "      <td>3168.0</td>\n",
              "      <td>0.185621</td>\n",
              "      <td>0.036360</td>\n",
              "      <td>0.010975</td>\n",
              "      <td>0.169593</td>\n",
              "      <td>0.190032</td>\n",
              "      <td>0.210618</td>\n",
              "      <td>0.261224</td>\n",
              "    </tr>\n",
              "    <tr>\n",
              "      <th>Q25</th>\n",
              "      <td>3168.0</td>\n",
              "      <td>0.140456</td>\n",
              "      <td>0.048680</td>\n",
              "      <td>0.000229</td>\n",
              "      <td>0.111087</td>\n",
              "      <td>0.140286</td>\n",
              "      <td>0.175939</td>\n",
              "      <td>0.247347</td>\n",
              "    </tr>\n",
              "    <tr>\n",
              "      <th>Q75</th>\n",
              "      <td>3168.0</td>\n",
              "      <td>0.224765</td>\n",
              "      <td>0.023639</td>\n",
              "      <td>0.042946</td>\n",
              "      <td>0.208747</td>\n",
              "      <td>0.225684</td>\n",
              "      <td>0.243660</td>\n",
              "      <td>0.273469</td>\n",
              "    </tr>\n",
              "    <tr>\n",
              "      <th>IQR</th>\n",
              "      <td>3168.0</td>\n",
              "      <td>0.084309</td>\n",
              "      <td>0.042783</td>\n",
              "      <td>0.014558</td>\n",
              "      <td>0.042560</td>\n",
              "      <td>0.094280</td>\n",
              "      <td>0.114175</td>\n",
              "      <td>0.252225</td>\n",
              "    </tr>\n",
              "    <tr>\n",
              "      <th>skew</th>\n",
              "      <td>3168.0</td>\n",
              "      <td>3.140168</td>\n",
              "      <td>4.240529</td>\n",
              "      <td>0.141735</td>\n",
              "      <td>1.649569</td>\n",
              "      <td>2.197101</td>\n",
              "      <td>2.931694</td>\n",
              "      <td>34.725453</td>\n",
              "    </tr>\n",
              "    <tr>\n",
              "      <th>kurt</th>\n",
              "      <td>3168.0</td>\n",
              "      <td>36.568461</td>\n",
              "      <td>134.928661</td>\n",
              "      <td>2.068455</td>\n",
              "      <td>5.669547</td>\n",
              "      <td>8.318463</td>\n",
              "      <td>13.648905</td>\n",
              "      <td>1309.612887</td>\n",
              "    </tr>\n",
              "    <tr>\n",
              "      <th>sp.ent</th>\n",
              "      <td>3168.0</td>\n",
              "      <td>0.895127</td>\n",
              "      <td>0.044980</td>\n",
              "      <td>0.738651</td>\n",
              "      <td>0.861811</td>\n",
              "      <td>0.901767</td>\n",
              "      <td>0.928713</td>\n",
              "      <td>0.981997</td>\n",
              "    </tr>\n",
              "    <tr>\n",
              "      <th>sfm</th>\n",
              "      <td>3168.0</td>\n",
              "      <td>0.408216</td>\n",
              "      <td>0.177521</td>\n",
              "      <td>0.036876</td>\n",
              "      <td>0.258041</td>\n",
              "      <td>0.396335</td>\n",
              "      <td>0.533676</td>\n",
              "      <td>0.842936</td>\n",
              "    </tr>\n",
              "    <tr>\n",
              "      <th>mode</th>\n",
              "      <td>3168.0</td>\n",
              "      <td>0.165282</td>\n",
              "      <td>0.077203</td>\n",
              "      <td>0.000000</td>\n",
              "      <td>0.118016</td>\n",
              "      <td>0.186599</td>\n",
              "      <td>0.221104</td>\n",
              "      <td>0.280000</td>\n",
              "    </tr>\n",
              "    <tr>\n",
              "      <th>centroid</th>\n",
              "      <td>3168.0</td>\n",
              "      <td>0.180907</td>\n",
              "      <td>0.029918</td>\n",
              "      <td>0.039363</td>\n",
              "      <td>0.163662</td>\n",
              "      <td>0.184838</td>\n",
              "      <td>0.199146</td>\n",
              "      <td>0.251124</td>\n",
              "    </tr>\n",
              "    <tr>\n",
              "      <th>meanfun</th>\n",
              "      <td>3168.0</td>\n",
              "      <td>0.142807</td>\n",
              "      <td>0.032304</td>\n",
              "      <td>0.055565</td>\n",
              "      <td>0.116998</td>\n",
              "      <td>0.140519</td>\n",
              "      <td>0.169581</td>\n",
              "      <td>0.237636</td>\n",
              "    </tr>\n",
              "    <tr>\n",
              "      <th>minfun</th>\n",
              "      <td>3168.0</td>\n",
              "      <td>0.036802</td>\n",
              "      <td>0.019220</td>\n",
              "      <td>0.009775</td>\n",
              "      <td>0.018223</td>\n",
              "      <td>0.046110</td>\n",
              "      <td>0.047904</td>\n",
              "      <td>0.204082</td>\n",
              "    </tr>\n",
              "    <tr>\n",
              "      <th>maxfun</th>\n",
              "      <td>3168.0</td>\n",
              "      <td>0.258842</td>\n",
              "      <td>0.030077</td>\n",
              "      <td>0.103093</td>\n",
              "      <td>0.253968</td>\n",
              "      <td>0.271186</td>\n",
              "      <td>0.277457</td>\n",
              "      <td>0.279114</td>\n",
              "    </tr>\n",
              "    <tr>\n",
              "      <th>meandom</th>\n",
              "      <td>3168.0</td>\n",
              "      <td>0.829211</td>\n",
              "      <td>0.525205</td>\n",
              "      <td>0.007812</td>\n",
              "      <td>0.419828</td>\n",
              "      <td>0.765795</td>\n",
              "      <td>1.177166</td>\n",
              "      <td>2.957682</td>\n",
              "    </tr>\n",
              "    <tr>\n",
              "      <th>mindom</th>\n",
              "      <td>3168.0</td>\n",
              "      <td>0.052647</td>\n",
              "      <td>0.063299</td>\n",
              "      <td>0.004883</td>\n",
              "      <td>0.007812</td>\n",
              "      <td>0.023438</td>\n",
              "      <td>0.070312</td>\n",
              "      <td>0.458984</td>\n",
              "    </tr>\n",
              "    <tr>\n",
              "      <th>maxdom</th>\n",
              "      <td>3168.0</td>\n",
              "      <td>5.047277</td>\n",
              "      <td>3.521157</td>\n",
              "      <td>0.007812</td>\n",
              "      <td>2.070312</td>\n",
              "      <td>4.992188</td>\n",
              "      <td>7.007812</td>\n",
              "      <td>21.867188</td>\n",
              "    </tr>\n",
              "    <tr>\n",
              "      <th>dfrange</th>\n",
              "      <td>3168.0</td>\n",
              "      <td>4.994630</td>\n",
              "      <td>3.520039</td>\n",
              "      <td>0.000000</td>\n",
              "      <td>2.044922</td>\n",
              "      <td>4.945312</td>\n",
              "      <td>6.992188</td>\n",
              "      <td>21.843750</td>\n",
              "    </tr>\n",
              "    <tr>\n",
              "      <th>modindx</th>\n",
              "      <td>3168.0</td>\n",
              "      <td>0.173752</td>\n",
              "      <td>0.119454</td>\n",
              "      <td>0.000000</td>\n",
              "      <td>0.099766</td>\n",
              "      <td>0.139357</td>\n",
              "      <td>0.209183</td>\n",
              "      <td>0.932374</td>\n",
              "    </tr>\n",
              "  </tbody>\n",
              "</table>\n",
              "</div>"
            ],
            "text/plain": [
              "           count       mean         std       min       25%       50%  \\\n",
              "meanfreq  3168.0   0.180907    0.029918  0.039363  0.163662  0.184838   \n",
              "sd        3168.0   0.057126    0.016652  0.018363  0.041954  0.059155   \n",
              "median    3168.0   0.185621    0.036360  0.010975  0.169593  0.190032   \n",
              "Q25       3168.0   0.140456    0.048680  0.000229  0.111087  0.140286   \n",
              "Q75       3168.0   0.224765    0.023639  0.042946  0.208747  0.225684   \n",
              "IQR       3168.0   0.084309    0.042783  0.014558  0.042560  0.094280   \n",
              "skew      3168.0   3.140168    4.240529  0.141735  1.649569  2.197101   \n",
              "kurt      3168.0  36.568461  134.928661  2.068455  5.669547  8.318463   \n",
              "sp.ent    3168.0   0.895127    0.044980  0.738651  0.861811  0.901767   \n",
              "sfm       3168.0   0.408216    0.177521  0.036876  0.258041  0.396335   \n",
              "mode      3168.0   0.165282    0.077203  0.000000  0.118016  0.186599   \n",
              "centroid  3168.0   0.180907    0.029918  0.039363  0.163662  0.184838   \n",
              "meanfun   3168.0   0.142807    0.032304  0.055565  0.116998  0.140519   \n",
              "minfun    3168.0   0.036802    0.019220  0.009775  0.018223  0.046110   \n",
              "maxfun    3168.0   0.258842    0.030077  0.103093  0.253968  0.271186   \n",
              "meandom   3168.0   0.829211    0.525205  0.007812  0.419828  0.765795   \n",
              "mindom    3168.0   0.052647    0.063299  0.004883  0.007812  0.023438   \n",
              "maxdom    3168.0   5.047277    3.521157  0.007812  2.070312  4.992188   \n",
              "dfrange   3168.0   4.994630    3.520039  0.000000  2.044922  4.945312   \n",
              "modindx   3168.0   0.173752    0.119454  0.000000  0.099766  0.139357   \n",
              "\n",
              "                75%          max  \n",
              "meanfreq   0.199146     0.251124  \n",
              "sd         0.067020     0.115273  \n",
              "median     0.210618     0.261224  \n",
              "Q25        0.175939     0.247347  \n",
              "Q75        0.243660     0.273469  \n",
              "IQR        0.114175     0.252225  \n",
              "skew       2.931694    34.725453  \n",
              "kurt      13.648905  1309.612887  \n",
              "sp.ent     0.928713     0.981997  \n",
              "sfm        0.533676     0.842936  \n",
              "mode       0.221104     0.280000  \n",
              "centroid   0.199146     0.251124  \n",
              "meanfun    0.169581     0.237636  \n",
              "minfun     0.047904     0.204082  \n",
              "maxfun     0.277457     0.279114  \n",
              "meandom    1.177166     2.957682  \n",
              "mindom     0.070312     0.458984  \n",
              "maxdom     7.007812    21.867188  \n",
              "dfrange    6.992188    21.843750  \n",
              "modindx    0.209183     0.932374  "
            ]
          },
          "metadata": {
            "tags": []
          },
          "execution_count": 14
        }
      ]
    },
    {
      "cell_type": "code",
      "metadata": {
        "id": "2zWE8dy2gFc_",
        "colab_type": "code",
        "colab": {},
        "outputId": "fd58779a-e731-40ad-e8e3-de935cf2b86e"
      },
      "source": [
        "df_voice.var()"
      ],
      "execution_count": 0,
      "outputs": [
        {
          "output_type": "execute_result",
          "data": {
            "text/plain": [
              "meanfreq        0.000895\n",
              "sd              0.000277\n",
              "median          0.001322\n",
              "Q25             0.002370\n",
              "Q75             0.000559\n",
              "IQR             0.001830\n",
              "skew           17.982084\n",
              "kurt        18205.743623\n",
              "sp.ent          0.002023\n",
              "sfm             0.031514\n",
              "mode            0.005960\n",
              "centroid        0.000895\n",
              "meanfun         0.001044\n",
              "minfun          0.000369\n",
              "maxfun          0.000905\n",
              "meandom         0.275840\n",
              "mindom          0.004007\n",
              "maxdom         12.398544\n",
              "dfrange        12.390675\n",
              "modindx         0.014269\n",
              "dtype: float64"
            ]
          },
          "metadata": {
            "tags": []
          },
          "execution_count": 15
        }
      ]
    },
    {
      "cell_type": "code",
      "metadata": {
        "id": "BGV89vGhgFdI",
        "colab_type": "code",
        "colab": {},
        "outputId": "ea28d1eb-0d85-4573-fc5f-4109611124e8"
      },
      "source": [
        "df_voice_orig=pd.read_csv('voice-classification.csv')\n",
        "df_voice_orig.head()"
      ],
      "execution_count": 0,
      "outputs": [
        {
          "output_type": "execute_result",
          "data": {
            "text/html": [
              "<div>\n",
              "<style scoped>\n",
              "    .dataframe tbody tr th:only-of-type {\n",
              "        vertical-align: middle;\n",
              "    }\n",
              "\n",
              "    .dataframe tbody tr th {\n",
              "        vertical-align: top;\n",
              "    }\n",
              "\n",
              "    .dataframe thead th {\n",
              "        text-align: right;\n",
              "    }\n",
              "</style>\n",
              "<table border=\"1\" class=\"dataframe\">\n",
              "  <thead>\n",
              "    <tr style=\"text-align: right;\">\n",
              "      <th></th>\n",
              "      <th>meanfreq</th>\n",
              "      <th>sd</th>\n",
              "      <th>median</th>\n",
              "      <th>Q25</th>\n",
              "      <th>Q75</th>\n",
              "      <th>IQR</th>\n",
              "      <th>skew</th>\n",
              "      <th>kurt</th>\n",
              "      <th>sp.ent</th>\n",
              "      <th>sfm</th>\n",
              "      <th>...</th>\n",
              "      <th>centroid</th>\n",
              "      <th>meanfun</th>\n",
              "      <th>minfun</th>\n",
              "      <th>maxfun</th>\n",
              "      <th>meandom</th>\n",
              "      <th>mindom</th>\n",
              "      <th>maxdom</th>\n",
              "      <th>dfrange</th>\n",
              "      <th>modindx</th>\n",
              "      <th>label</th>\n",
              "    </tr>\n",
              "  </thead>\n",
              "  <tbody>\n",
              "    <tr>\n",
              "      <th>0</th>\n",
              "      <td>0.059781</td>\n",
              "      <td>0.064241</td>\n",
              "      <td>0.032027</td>\n",
              "      <td>0.015071</td>\n",
              "      <td>0.090193</td>\n",
              "      <td>0.075122</td>\n",
              "      <td>12.863462</td>\n",
              "      <td>274.402906</td>\n",
              "      <td>0.893369</td>\n",
              "      <td>0.491918</td>\n",
              "      <td>...</td>\n",
              "      <td>0.059781</td>\n",
              "      <td>0.084279</td>\n",
              "      <td>0.015702</td>\n",
              "      <td>0.275862</td>\n",
              "      <td>0.007812</td>\n",
              "      <td>0.007812</td>\n",
              "      <td>0.007812</td>\n",
              "      <td>0.000000</td>\n",
              "      <td>0.000000</td>\n",
              "      <td>male</td>\n",
              "    </tr>\n",
              "    <tr>\n",
              "      <th>1</th>\n",
              "      <td>0.066009</td>\n",
              "      <td>0.067310</td>\n",
              "      <td>0.040229</td>\n",
              "      <td>0.019414</td>\n",
              "      <td>0.092666</td>\n",
              "      <td>0.073252</td>\n",
              "      <td>22.423285</td>\n",
              "      <td>634.613855</td>\n",
              "      <td>0.892193</td>\n",
              "      <td>0.513724</td>\n",
              "      <td>...</td>\n",
              "      <td>0.066009</td>\n",
              "      <td>0.107937</td>\n",
              "      <td>0.015826</td>\n",
              "      <td>0.250000</td>\n",
              "      <td>0.009014</td>\n",
              "      <td>0.007812</td>\n",
              "      <td>0.054688</td>\n",
              "      <td>0.046875</td>\n",
              "      <td>0.052632</td>\n",
              "      <td>male</td>\n",
              "    </tr>\n",
              "    <tr>\n",
              "      <th>2</th>\n",
              "      <td>0.077316</td>\n",
              "      <td>0.083829</td>\n",
              "      <td>0.036718</td>\n",
              "      <td>0.008701</td>\n",
              "      <td>0.131908</td>\n",
              "      <td>0.123207</td>\n",
              "      <td>30.757155</td>\n",
              "      <td>1024.927705</td>\n",
              "      <td>0.846389</td>\n",
              "      <td>0.478905</td>\n",
              "      <td>...</td>\n",
              "      <td>0.077316</td>\n",
              "      <td>0.098706</td>\n",
              "      <td>0.015656</td>\n",
              "      <td>0.271186</td>\n",
              "      <td>0.007990</td>\n",
              "      <td>0.007812</td>\n",
              "      <td>0.015625</td>\n",
              "      <td>0.007812</td>\n",
              "      <td>0.046512</td>\n",
              "      <td>male</td>\n",
              "    </tr>\n",
              "    <tr>\n",
              "      <th>3</th>\n",
              "      <td>0.151228</td>\n",
              "      <td>0.072111</td>\n",
              "      <td>0.158011</td>\n",
              "      <td>0.096582</td>\n",
              "      <td>0.207955</td>\n",
              "      <td>0.111374</td>\n",
              "      <td>1.232831</td>\n",
              "      <td>4.177296</td>\n",
              "      <td>0.963322</td>\n",
              "      <td>0.727232</td>\n",
              "      <td>...</td>\n",
              "      <td>0.151228</td>\n",
              "      <td>0.088965</td>\n",
              "      <td>0.017798</td>\n",
              "      <td>0.250000</td>\n",
              "      <td>0.201497</td>\n",
              "      <td>0.007812</td>\n",
              "      <td>0.562500</td>\n",
              "      <td>0.554688</td>\n",
              "      <td>0.247119</td>\n",
              "      <td>male</td>\n",
              "    </tr>\n",
              "    <tr>\n",
              "      <th>4</th>\n",
              "      <td>0.135120</td>\n",
              "      <td>0.079146</td>\n",
              "      <td>0.124656</td>\n",
              "      <td>0.078720</td>\n",
              "      <td>0.206045</td>\n",
              "      <td>0.127325</td>\n",
              "      <td>1.101174</td>\n",
              "      <td>4.333713</td>\n",
              "      <td>0.971955</td>\n",
              "      <td>0.783568</td>\n",
              "      <td>...</td>\n",
              "      <td>0.135120</td>\n",
              "      <td>0.106398</td>\n",
              "      <td>0.016931</td>\n",
              "      <td>0.266667</td>\n",
              "      <td>0.712812</td>\n",
              "      <td>0.007812</td>\n",
              "      <td>5.484375</td>\n",
              "      <td>5.476562</td>\n",
              "      <td>0.208274</td>\n",
              "      <td>male</td>\n",
              "    </tr>\n",
              "  </tbody>\n",
              "</table>\n",
              "<p>5 rows × 21 columns</p>\n",
              "</div>"
            ],
            "text/plain": [
              "   meanfreq        sd    median       Q25       Q75       IQR       skew  \\\n",
              "0  0.059781  0.064241  0.032027  0.015071  0.090193  0.075122  12.863462   \n",
              "1  0.066009  0.067310  0.040229  0.019414  0.092666  0.073252  22.423285   \n",
              "2  0.077316  0.083829  0.036718  0.008701  0.131908  0.123207  30.757155   \n",
              "3  0.151228  0.072111  0.158011  0.096582  0.207955  0.111374   1.232831   \n",
              "4  0.135120  0.079146  0.124656  0.078720  0.206045  0.127325   1.101174   \n",
              "\n",
              "          kurt    sp.ent       sfm  ...    centroid   meanfun    minfun  \\\n",
              "0   274.402906  0.893369  0.491918  ...    0.059781  0.084279  0.015702   \n",
              "1   634.613855  0.892193  0.513724  ...    0.066009  0.107937  0.015826   \n",
              "2  1024.927705  0.846389  0.478905  ...    0.077316  0.098706  0.015656   \n",
              "3     4.177296  0.963322  0.727232  ...    0.151228  0.088965  0.017798   \n",
              "4     4.333713  0.971955  0.783568  ...    0.135120  0.106398  0.016931   \n",
              "\n",
              "     maxfun   meandom    mindom    maxdom   dfrange   modindx  label  \n",
              "0  0.275862  0.007812  0.007812  0.007812  0.000000  0.000000   male  \n",
              "1  0.250000  0.009014  0.007812  0.054688  0.046875  0.052632   male  \n",
              "2  0.271186  0.007990  0.007812  0.015625  0.007812  0.046512   male  \n",
              "3  0.250000  0.201497  0.007812  0.562500  0.554688  0.247119   male  \n",
              "4  0.266667  0.712812  0.007812  5.484375  5.476562  0.208274   male  \n",
              "\n",
              "[5 rows x 21 columns]"
            ]
          },
          "metadata": {
            "tags": []
          },
          "execution_count": 16
        }
      ]
    },
    {
      "cell_type": "code",
      "metadata": {
        "id": "SZDmyPh8gFdP",
        "colab_type": "code",
        "colab": {},
        "outputId": "e9d3afc8-8c8f-48c2-f8e6-54b422cbca72"
      },
      "source": [
        "df_voice_orig[df_voice_orig['label']=='male'].count()[0]"
      ],
      "execution_count": 0,
      "outputs": [
        {
          "output_type": "execute_result",
          "data": {
            "text/plain": [
              "1584"
            ]
          },
          "metadata": {
            "tags": []
          },
          "execution_count": 17
        }
      ]
    },
    {
      "cell_type": "code",
      "metadata": {
        "id": "6_-yiZrugFdY",
        "colab_type": "code",
        "colab": {}
      },
      "source": [
        "le=LabelEncoder()\n",
        "le.fit(df_voice['label'])\n",
        "df_voice['label']=le.transform(df_voice['label'])"
      ],
      "execution_count": 0,
      "outputs": []
    },
    {
      "cell_type": "code",
      "metadata": {
        "id": "3wcw3M6mgFdf",
        "colab_type": "code",
        "colab": {},
        "outputId": "97ac4380-adcc-482e-ceb3-955984703794"
      },
      "source": [
        "sns.heatmap(df_voice.corr())"
      ],
      "execution_count": 0,
      "outputs": [
        {
          "output_type": "execute_result",
          "data": {
            "text/plain": [
              "<matplotlib.axes._subplots.AxesSubplot at 0x1f29015dc18>"
            ]
          },
          "metadata": {
            "tags": []
          },
          "execution_count": 19
        },
        {
          "output_type": "display_data",
          "data": {
            "image/png": "[encoded data removed]",
            "text/plain": [
              "<Figure size 432x288 with 2 Axes>"
            ]
          },
          "metadata": {
            "tags": [],
            "needs_background": "light"
          }
        }
      ]
    },
    {
      "cell_type": "markdown",
      "metadata": {
        "id": "KAOQZilHgFdn",
        "colab_type": "text"
      },
      "source": [
        "#### y-label x-sfm,sp.ent,iqr,sd --> based on the correlation values "
      ]
    },
    {
      "cell_type": "markdown",
      "metadata": {
        "id": "anbKRMWsgFdp",
        "colab_type": "text"
      },
      "source": [
        "#### sfm is having high variance than sp.ent so we drop sp.ent"
      ]
    },
    {
      "cell_type": "markdown",
      "metadata": {
        "id": "utDAeqjjgFdq",
        "colab_type": "text"
      },
      "source": [
        "#### based on variance and correlation we have choosen 3 features to predict the label('Male','Female')"
      ]
    },
    {
      "cell_type": "markdown",
      "metadata": {
        "id": "bUo649hugFds",
        "colab_type": "text"
      },
      "source": [
        "#### 0-male 1-female"
      ]
    },
    {
      "cell_type": "code",
      "metadata": {
        "id": "0dp515C_gFdt",
        "colab_type": "code",
        "colab": {},
        "outputId": "953051c6-5eaa-476f-ee17-befeea0d2c56"
      },
      "source": [
        "df_voice[df_voice['label']==0].count()[0]"
      ],
      "execution_count": 0,
      "outputs": [
        {
          "output_type": "execute_result",
          "data": {
            "text/plain": [
              "1584"
            ]
          },
          "metadata": {
            "tags": []
          },
          "execution_count": 20
        }
      ]
    },
    {
      "cell_type": "code",
      "metadata": {
        "id": "S3vLQ-n7gFd0",
        "colab_type": "code",
        "colab": {}
      },
      "source": [
        "X=df_voice[['sfm','IQR','sd']]\n",
        "y=df_voice['label']"
      ],
      "execution_count": 0,
      "outputs": []
    },
    {
      "cell_type": "code",
      "metadata": {
        "id": "WqjXAWglgFd6",
        "colab_type": "code",
        "colab": {}
      },
      "source": [
        "X_test,X_train,y_test,y_train=train_test_split(X,y,test_size=0.2,random_state=42)"
      ],
      "execution_count": 0,
      "outputs": []
    },
    {
      "cell_type": "markdown",
      "metadata": {
        "id": "UCuRpFWmgFeA",
        "colab_type": "text"
      },
      "source": [
        "### KNN"
      ]
    },
    {
      "cell_type": "code",
      "metadata": {
        "id": "4HHJw7t4gFeA",
        "colab_type": "code",
        "colab": {},
        "outputId": "5cdd6570-fa34-4468-8eb6-b9ea76f11a01"
      },
      "source": [
        "model=KNeighborsClassifier(n_neighbors=3)\n",
        "model.fit(X_train,y_train)\n",
        "pred=model.predict(X_test)\n",
        "model.score(X_train,y_train)"
      ],
      "execution_count": 0,
      "outputs": [
        {
          "output_type": "execute_result",
          "data": {
            "text/plain": [
              "0.944794952681388"
            ]
          },
          "metadata": {
            "tags": []
          },
          "execution_count": 23
        }
      ]
    },
    {
      "cell_type": "code",
      "metadata": {
        "id": "hfi5UYZggFeH",
        "colab_type": "code",
        "colab": {},
        "outputId": "02231e2f-9b5e-44b8-b5ff-dbada319a35b"
      },
      "source": [
        "model.score(X_test,y_test)"
      ],
      "execution_count": 0,
      "outputs": [
        {
          "output_type": "execute_result",
          "data": {
            "text/plain": [
              "0.9159431728492502"
            ]
          },
          "metadata": {
            "tags": []
          },
          "execution_count": 24
        }
      ]
    },
    {
      "cell_type": "code",
      "metadata": {
        "id": "X5WgvifPgFeZ",
        "colab_type": "code",
        "colab": {},
        "outputId": "e1275dfb-758a-4c12-988c-1b9d5e605900"
      },
      "source": [
        "mean_squared_error(y_test,pred)"
      ],
      "execution_count": 0,
      "outputs": [
        {
          "output_type": "execute_result",
          "data": {
            "text/plain": [
              "0.0840568271507498"
            ]
          },
          "metadata": {
            "tags": []
          },
          "execution_count": 25
        }
      ]
    },
    {
      "cell_type": "markdown",
      "metadata": {
        "id": "9_jsK4rSgFeg",
        "colab_type": "text"
      },
      "source": [
        "### SVM"
      ]
    },
    {
      "cell_type": "code",
      "metadata": {
        "id": "gDzTSKtogFeh",
        "colab_type": "code",
        "colab": {},
        "outputId": "ca2e75fd-1eab-48b7-88b8-78e6f33c090f"
      },
      "source": [
        "model_svc=SVC(kernel=\"rbf\")\n",
        "model_svc.fit(X_train,y_train)\n",
        "pred=model_svc.predict(X_test)\n",
        "model_svc.score(X_train,y_train)"
      ],
      "execution_count": 0,
      "outputs": [
        {
          "output_type": "stream",
          "text": [
            "C:\\Anaconda3\\lib\\site-packages\\sklearn\\svm\\base.py:196: FutureWarning: The default value of gamma will change from 'auto' to 'scale' in version 0.22 to account better for unscaled features. Set gamma explicitly to 'auto' or 'scale' to avoid this warning.\n",
            "  \"avoid this warning.\", FutureWarning)\n"
          ],
          "name": "stderr"
        },
        {
          "output_type": "execute_result",
          "data": {
            "text/plain": [
              "0.7949526813880127"
            ]
          },
          "metadata": {
            "tags": []
          },
          "execution_count": 26
        }
      ]
    },
    {
      "cell_type": "code",
      "metadata": {
        "id": "q1peL0WggFeo",
        "colab_type": "code",
        "colab": {},
        "outputId": "af7e9d77-f7d5-4995-fd2a-ba48b49eb5f8"
      },
      "source": [
        "model_svc.score(X_test,y_test)"
      ],
      "execution_count": 0,
      "outputs": [
        {
          "output_type": "execute_result",
          "data": {
            "text/plain": [
              "0.7849250197316495"
            ]
          },
          "metadata": {
            "tags": []
          },
          "execution_count": 27
        }
      ]
    },
    {
      "cell_type": "code",
      "metadata": {
        "id": "wGGf_D1FgFes",
        "colab_type": "code",
        "colab": {},
        "outputId": "6519baf9-c0bc-4c66-db62-70d69c6aab32"
      },
      "source": [
        "mean_squared_error(y_test,pred)"
      ],
      "execution_count": 0,
      "outputs": [
        {
          "output_type": "execute_result",
          "data": {
            "text/plain": [
              "0.21507498026835042"
            ]
          },
          "metadata": {
            "tags": []
          },
          "execution_count": 28
        }
      ]
    },
    {
      "cell_type": "markdown",
      "metadata": {
        "id": "hKYvMOObgFey",
        "colab_type": "text"
      },
      "source": [
        "### Decision Tree"
      ]
    },
    {
      "cell_type": "code",
      "metadata": {
        "id": "V6G-i6pEgFez",
        "colab_type": "code",
        "colab": {},
        "outputId": "01350bd3-5e35-46fb-a367-aaeeaebfae21"
      },
      "source": [
        "model_tree=DecisionTreeClassifier()\n",
        "model_tree.fit(X_train,y_train)\n",
        "pred=model_tree.predict(X_test)\n",
        "model_tree.score(X_train,y_train)"
      ],
      "execution_count": 0,
      "outputs": [
        {
          "output_type": "execute_result",
          "data": {
            "text/plain": [
              "1.0"
            ]
          },
          "metadata": {
            "tags": []
          },
          "execution_count": 29
        }
      ]
    },
    {
      "cell_type": "code",
      "metadata": {
        "id": "PgYUR656gFe8",
        "colab_type": "code",
        "colab": {},
        "outputId": "70645e3c-2db1-43ce-e9c8-0f1645e9d536"
      },
      "source": [
        "model_tree.score(X_test,y_test)"
      ],
      "execution_count": 0,
      "outputs": [
        {
          "output_type": "execute_result",
          "data": {
            "text/plain": [
              "0.8906866614048935"
            ]
          },
          "metadata": {
            "tags": []
          },
          "execution_count": 30
        }
      ]
    },
    {
      "cell_type": "code",
      "metadata": {
        "id": "z-7tii85gFfB",
        "colab_type": "code",
        "colab": {},
        "outputId": "df236589-956d-439b-a2cb-07a247183b56"
      },
      "source": [
        "mean_squared_error(y_test,pred)"
      ],
      "execution_count": 0,
      "outputs": [
        {
          "output_type": "execute_result",
          "data": {
            "text/plain": [
              "0.10931333859510656"
            ]
          },
          "metadata": {
            "tags": []
          },
          "execution_count": 31
        }
      ]
    },
    {
      "cell_type": "markdown",
      "metadata": {
        "id": "O1jdlXHxgFfI",
        "colab_type": "text"
      },
      "source": [
        "### Logistic Regression"
      ]
    },
    {
      "cell_type": "code",
      "metadata": {
        "id": "3h03xwNKgFfJ",
        "colab_type": "code",
        "colab": {}
      },
      "source": [
        "#6,9,13\n",
        "X=df_voice[['IQR','sp.ent','meanfun']]\n",
        "y=df_voice['label']"
      ],
      "execution_count": 0,
      "outputs": []
    },
    {
      "cell_type": "code",
      "metadata": {
        "id": "KCvcdFP6gFfN",
        "colab_type": "code",
        "colab": {}
      },
      "source": [
        "X_test,X_train,y_test,y_train=train_test_split(X,y,test_size=0.2,random_state=42)"
      ],
      "execution_count": 0,
      "outputs": []
    },
    {
      "cell_type": "code",
      "metadata": {
        "id": "4Bz3ImwSgFfV",
        "colab_type": "code",
        "colab": {},
        "outputId": "a5f2653c-e02e-4ab9-c7b2-dc279d3738a0"
      },
      "source": [
        "model_log=LogisticRegression()\n",
        "model_log.fit(X_train,y_train)\n",
        "pred=model_log.predict(X_test)\n",
        "model_log.score(X_train,y_train)"
      ],
      "execution_count": 0,
      "outputs": [
        {
          "output_type": "stream",
          "text": [
            "C:\\Anaconda3\\lib\\site-packages\\sklearn\\linear_model\\logistic.py:433: FutureWarning: Default solver will be changed to 'lbfgs' in 0.22. Specify a solver to silence this warning.\n",
            "  FutureWarning)\n"
          ],
          "name": "stderr"
        },
        {
          "output_type": "execute_result",
          "data": {
            "text/plain": [
              "0.9022082018927445"
            ]
          },
          "metadata": {
            "tags": []
          },
          "execution_count": 34
        }
      ]
    },
    {
      "cell_type": "code",
      "metadata": {
        "id": "-ju--g5TgFfc",
        "colab_type": "code",
        "colab": {},
        "outputId": "9f9f05fc-4fab-41fc-b949-539fc04377b0"
      },
      "source": [
        "model_log.score(X_test,y_test)"
      ],
      "execution_count": 0,
      "outputs": [
        {
          "output_type": "execute_result",
          "data": {
            "text/plain": [
              "0.8804262036306235"
            ]
          },
          "metadata": {
            "tags": []
          },
          "execution_count": 35
        }
      ]
    },
    {
      "cell_type": "code",
      "metadata": {
        "id": "VpjoYL10gFfi",
        "colab_type": "code",
        "colab": {},
        "outputId": "9811bb57-5837-4018-9b21-8d55b9050c97"
      },
      "source": [
        "mean_squared_error(y_test,pred)"
      ],
      "execution_count": 0,
      "outputs": [
        {
          "output_type": "execute_result",
          "data": {
            "text/plain": [
              "0.11957379636937648"
            ]
          },
          "metadata": {
            "tags": []
          },
          "execution_count": 36
        }
      ]
    },
    {
      "cell_type": "markdown",
      "metadata": {
        "id": "7H0c5MSHgFfm",
        "colab_type": "text"
      },
      "source": [
        "#### selecting feature for logistic regression"
      ]
    },
    {
      "cell_type": "code",
      "metadata": {
        "id": "p3DffDfDgFfm",
        "colab_type": "code",
        "colab": {}
      },
      "source": [
        "from sklearn.feature_selection import RFE"
      ],
      "execution_count": 0,
      "outputs": []
    },
    {
      "cell_type": "code",
      "metadata": {
        "id": "SQbBTufGgFft",
        "colab_type": "code",
        "colab": {}
      },
      "source": [
        "model_log=LogisticRegression()"
      ],
      "execution_count": 0,
      "outputs": []
    },
    {
      "cell_type": "code",
      "metadata": {
        "id": "jdf6VTC0gFfy",
        "colab_type": "code",
        "colab": {}
      },
      "source": [
        "selector=RFE(model_log,3)"
      ],
      "execution_count": 0,
      "outputs": []
    },
    {
      "cell_type": "code",
      "metadata": {
        "id": "KWEErXYwgFf3",
        "colab_type": "code",
        "colab": {}
      },
      "source": [
        "x=df_voice.loc[:,:'modindx']\n",
        "y=df_voice['label']"
      ],
      "execution_count": 0,
      "outputs": []
    },
    {
      "cell_type": "code",
      "metadata": {
        "id": "rtwod7BMgFf7",
        "colab_type": "code",
        "colab": {},
        "outputId": "1ac38dc4-a057-4fb5-ef3f-c808f1171c8e"
      },
      "source": [
        "x.shape"
      ],
      "execution_count": 0,
      "outputs": [
        {
          "output_type": "execute_result",
          "data": {
            "text/plain": [
              "(3168, 20)"
            ]
          },
          "metadata": {
            "tags": []
          },
          "execution_count": 41
        }
      ]
    },
    {
      "cell_type": "code",
      "metadata": {
        "id": "847N9aZWgFf_",
        "colab_type": "code",
        "colab": {},
        "outputId": "82ba6f3d-f1d6-416d-a8c1-90ace4bb38fb"
      },
      "source": [
        "selector=selector.fit(x,y)"
      ],
      "execution_count": 0,
      "outputs": [
        {
          "output_type": "stream",
          "text": [
            "C:\\Anaconda3\\lib\\site-packages\\sklearn\\linear_model\\logistic.py:433: FutureWarning: Default solver will be changed to 'lbfgs' in 0.22. Specify a solver to silence this warning.\n",
            "  FutureWarning)\n",
            "C:\\Anaconda3\\lib\\site-packages\\sklearn\\linear_model\\logistic.py:433: FutureWarning: Default solver will be changed to 'lbfgs' in 0.22. Specify a solver to silence this warning.\n",
            "  FutureWarning)\n",
            "C:\\Anaconda3\\lib\\site-packages\\sklearn\\linear_model\\logistic.py:433: FutureWarning: Default solver will be changed to 'lbfgs' in 0.22. Specify a solver to silence this warning.\n",
            "  FutureWarning)\n",
            "C:\\Anaconda3\\lib\\site-packages\\sklearn\\linear_model\\logistic.py:433: FutureWarning: Default solver will be changed to 'lbfgs' in 0.22. Specify a solver to silence this warning.\n",
            "  FutureWarning)\n",
            "C:\\Anaconda3\\lib\\site-packages\\sklearn\\linear_model\\logistic.py:433: FutureWarning: Default solver will be changed to 'lbfgs' in 0.22. Specify a solver to silence this warning.\n",
            "  FutureWarning)\n",
            "C:\\Anaconda3\\lib\\site-packages\\sklearn\\linear_model\\logistic.py:433: FutureWarning: Default solver will be changed to 'lbfgs' in 0.22. Specify a solver to silence this warning.\n",
            "  FutureWarning)\n",
            "C:\\Anaconda3\\lib\\site-packages\\sklearn\\linear_model\\logistic.py:433: FutureWarning: Default solver will be changed to 'lbfgs' in 0.22. Specify a solver to silence this warning.\n",
            "  FutureWarning)\n",
            "C:\\Anaconda3\\lib\\site-packages\\sklearn\\linear_model\\logistic.py:433: FutureWarning: Default solver will be changed to 'lbfgs' in 0.22. Specify a solver to silence this warning.\n",
            "  FutureWarning)\n",
            "C:\\Anaconda3\\lib\\site-packages\\sklearn\\linear_model\\logistic.py:433: FutureWarning: Default solver will be changed to 'lbfgs' in 0.22. Specify a solver to silence this warning.\n",
            "  FutureWarning)\n",
            "C:\\Anaconda3\\lib\\site-packages\\sklearn\\linear_model\\logistic.py:433: FutureWarning: Default solver will be changed to 'lbfgs' in 0.22. Specify a solver to silence this warning.\n",
            "  FutureWarning)\n",
            "C:\\Anaconda3\\lib\\site-packages\\sklearn\\linear_model\\logistic.py:433: FutureWarning: Default solver will be changed to 'lbfgs' in 0.22. Specify a solver to silence this warning.\n",
            "  FutureWarning)\n",
            "C:\\Anaconda3\\lib\\site-packages\\sklearn\\linear_model\\logistic.py:433: FutureWarning: Default solver will be changed to 'lbfgs' in 0.22. Specify a solver to silence this warning.\n",
            "  FutureWarning)\n",
            "C:\\Anaconda3\\lib\\site-packages\\sklearn\\linear_model\\logistic.py:433: FutureWarning: Default solver will be changed to 'lbfgs' in 0.22. Specify a solver to silence this warning.\n",
            "  FutureWarning)\n",
            "C:\\Anaconda3\\lib\\site-packages\\sklearn\\linear_model\\logistic.py:433: FutureWarning: Default solver will be changed to 'lbfgs' in 0.22. Specify a solver to silence this warning.\n",
            "  FutureWarning)\n",
            "C:\\Anaconda3\\lib\\site-packages\\sklearn\\linear_model\\logistic.py:433: FutureWarning: Default solver will be changed to 'lbfgs' in 0.22. Specify a solver to silence this warning.\n",
            "  FutureWarning)\n",
            "C:\\Anaconda3\\lib\\site-packages\\sklearn\\linear_model\\logistic.py:433: FutureWarning: Default solver will be changed to 'lbfgs' in 0.22. Specify a solver to silence this warning.\n",
            "  FutureWarning)\n",
            "C:\\Anaconda3\\lib\\site-packages\\sklearn\\linear_model\\logistic.py:433: FutureWarning: Default solver will be changed to 'lbfgs' in 0.22. Specify a solver to silence this warning.\n",
            "  FutureWarning)\n",
            "C:\\Anaconda3\\lib\\site-packages\\sklearn\\linear_model\\logistic.py:433: FutureWarning: Default solver will be changed to 'lbfgs' in 0.22. Specify a solver to silence this warning.\n",
            "  FutureWarning)\n"
          ],
          "name": "stderr"
        }
      ]
    },
    {
      "cell_type": "code",
      "metadata": {
        "id": "uD-MreRvgFgE",
        "colab_type": "code",
        "colab": {},
        "outputId": "400b3327-ed1c-44a1-abbd-3b639049f60a"
      },
      "source": [
        "selector.support_"
      ],
      "execution_count": 0,
      "outputs": [
        {
          "output_type": "execute_result",
          "data": {
            "text/plain": [
              "array([False, False, False, False, False,  True, False, False,  True,\n",
              "       False, False, False,  True, False, False, False, False, False,\n",
              "       False, False])"
            ]
          },
          "metadata": {
            "tags": []
          },
          "execution_count": 43
        }
      ]
    },
    {
      "cell_type": "markdown",
      "metadata": {
        "id": "puGadbRzgFgI",
        "colab_type": "text"
      },
      "source": [
        "#### 6,9,13 using feature selection"
      ]
    },
    {
      "cell_type": "markdown",
      "metadata": {
        "id": "E1A0yUlWgFgI",
        "colab_type": "text"
      },
      "source": [
        "#### selecting feature for svm"
      ]
    },
    {
      "cell_type": "code",
      "metadata": {
        "id": "5mQ88kqngFgJ",
        "colab_type": "code",
        "colab": {}
      },
      "source": [
        "model_svc=SVC(kernel=\"rbf\")"
      ],
      "execution_count": 0,
      "outputs": []
    },
    {
      "cell_type": "code",
      "metadata": {
        "id": "G1-txgqbgFgN",
        "colab_type": "code",
        "colab": {}
      },
      "source": [
        "selector2=RFE(model_svc,3)"
      ],
      "execution_count": 0,
      "outputs": []
    },
    {
      "cell_type": "code",
      "metadata": {
        "id": "9w2emc2lgFgR",
        "colab_type": "code",
        "colab": {}
      },
      "source": [
        "x=df_voice.loc[:,:'modindx']\n",
        "y=df_voice['label']"
      ],
      "execution_count": 0,
      "outputs": []
    },
    {
      "cell_type": "code",
      "metadata": {
        "id": "hmrZE2V9gFgV",
        "colab_type": "code",
        "colab": {},
        "outputId": "68b53ce5-1caf-410c-e3a9-5202880486ee"
      },
      "source": [
        "selector2=selector2.fit(x,y)"
      ],
      "execution_count": 0,
      "outputs": [
        {
          "output_type": "stream",
          "text": [
            "C:\\Anaconda3\\lib\\site-packages\\sklearn\\svm\\base.py:196: FutureWarning: The default value of gamma will change from 'auto' to 'scale' in version 0.22 to account better for unscaled features. Set gamma explicitly to 'auto' or 'scale' to avoid this warning.\n",
            "  \"avoid this warning.\", FutureWarning)\n"
          ],
          "name": "stderr"
        },
        {
          "output_type": "error",
          "ename": "RuntimeError",
          "evalue": "The classifier does not expose \"coef_\" or \"feature_importances_\" attributes",
          "traceback": [
            "\u001b[1;31m---------------------------------------------------------------------------\u001b[0m",
            "\u001b[1;31mRuntimeError\u001b[0m                              Traceback (most recent call last)",
            "\u001b[1;32m<ipython-input-47-eacbff768ce0>\u001b[0m in \u001b[0;36m<module>\u001b[1;34m\u001b[0m\n\u001b[1;32m----> 1\u001b[1;33m \u001b[0mselector2\u001b[0m\u001b[1;33m=\u001b[0m\u001b[0mselector2\u001b[0m\u001b[1;33m.\u001b[0m\u001b[0mfit\u001b[0m\u001b[1;33m(\u001b[0m\u001b[0mx\u001b[0m\u001b[1;33m,\u001b[0m\u001b[0my\u001b[0m\u001b[1;33m)\u001b[0m\u001b[1;33m\u001b[0m\u001b[1;33m\u001b[0m\u001b[0m\n\u001b[0m",
            "\u001b[1;32mC:\\Anaconda3\\lib\\site-packages\\sklearn\\feature_selection\\rfe.py\u001b[0m in \u001b[0;36mfit\u001b[1;34m(self, X, y)\u001b[0m\n\u001b[0;32m    138\u001b[0m             \u001b[0mThe\u001b[0m \u001b[0mtarget\u001b[0m \u001b[0mvalues\u001b[0m\u001b[1;33m.\u001b[0m\u001b[1;33m\u001b[0m\u001b[1;33m\u001b[0m\u001b[0m\n\u001b[0;32m    139\u001b[0m         \"\"\"\n\u001b[1;32m--> 140\u001b[1;33m         \u001b[1;32mreturn\u001b[0m \u001b[0mself\u001b[0m\u001b[1;33m.\u001b[0m\u001b[0m_fit\u001b[0m\u001b[1;33m(\u001b[0m\u001b[0mX\u001b[0m\u001b[1;33m,\u001b[0m \u001b[0my\u001b[0m\u001b[1;33m)\u001b[0m\u001b[1;33m\u001b[0m\u001b[1;33m\u001b[0m\u001b[0m\n\u001b[0m\u001b[0;32m    141\u001b[0m \u001b[1;33m\u001b[0m\u001b[0m\n\u001b[0;32m    142\u001b[0m     \u001b[1;32mdef\u001b[0m \u001b[0m_fit\u001b[0m\u001b[1;33m(\u001b[0m\u001b[0mself\u001b[0m\u001b[1;33m,\u001b[0m \u001b[0mX\u001b[0m\u001b[1;33m,\u001b[0m \u001b[0my\u001b[0m\u001b[1;33m,\u001b[0m \u001b[0mstep_score\u001b[0m\u001b[1;33m=\u001b[0m\u001b[1;32mNone\u001b[0m\u001b[1;33m)\u001b[0m\u001b[1;33m:\u001b[0m\u001b[1;33m\u001b[0m\u001b[1;33m\u001b[0m\u001b[0m\n",
            "\u001b[1;32mC:\\Anaconda3\\lib\\site-packages\\sklearn\\feature_selection\\rfe.py\u001b[0m in \u001b[0;36m_fit\u001b[1;34m(self, X, y, step_score)\u001b[0m\n\u001b[0;32m    185\u001b[0m                 \u001b[0mcoefs\u001b[0m \u001b[1;33m=\u001b[0m \u001b[0mgetattr\u001b[0m\u001b[1;33m(\u001b[0m\u001b[0mestimator\u001b[0m\u001b[1;33m,\u001b[0m \u001b[1;34m'feature_importances_'\u001b[0m\u001b[1;33m,\u001b[0m \u001b[1;32mNone\u001b[0m\u001b[1;33m)\u001b[0m\u001b[1;33m\u001b[0m\u001b[1;33m\u001b[0m\u001b[0m\n\u001b[0;32m    186\u001b[0m             \u001b[1;32mif\u001b[0m \u001b[0mcoefs\u001b[0m \u001b[1;32mis\u001b[0m \u001b[1;32mNone\u001b[0m\u001b[1;33m:\u001b[0m\u001b[1;33m\u001b[0m\u001b[1;33m\u001b[0m\u001b[0m\n\u001b[1;32m--> 187\u001b[1;33m                 raise RuntimeError('The classifier does not expose '\n\u001b[0m\u001b[0;32m    188\u001b[0m                                    \u001b[1;34m'\"coef_\" or \"feature_importances_\" '\u001b[0m\u001b[1;33m\u001b[0m\u001b[1;33m\u001b[0m\u001b[0m\n\u001b[0;32m    189\u001b[0m                                    'attributes')\n",
            "\u001b[1;31mRuntimeError\u001b[0m: The classifier does not expose \"coef_\" or \"feature_importances_\" attributes"
          ]
        }
      ]
    },
    {
      "cell_type": "markdown",
      "metadata": {
        "id": "yOYnjfVOgFgb",
        "colab_type": "text"
      },
      "source": [
        "#### KNN using RFE"
      ]
    },
    {
      "cell_type": "code",
      "metadata": {
        "id": "_-_UKrBsgFgc",
        "colab_type": "code",
        "colab": {}
      },
      "source": [
        "model_knn=KNeighborsClassifier(3)"
      ],
      "execution_count": 0,
      "outputs": []
    },
    {
      "cell_type": "code",
      "metadata": {
        "id": "1GqgsVpFgFgg",
        "colab_type": "code",
        "colab": {}
      },
      "source": [
        "selector3=RFE(model_knn,3)"
      ],
      "execution_count": 0,
      "outputs": []
    },
    {
      "cell_type": "code",
      "metadata": {
        "id": "oSDyFG1XgFgj",
        "colab_type": "code",
        "colab": {},
        "outputId": "cb47e891-7055-4f12-81dd-cb007ec8e3df"
      },
      "source": [
        "selector3=selector3.fit(x,y)"
      ],
      "execution_count": 0,
      "outputs": [
        {
          "output_type": "error",
          "ename": "RuntimeError",
          "evalue": "The classifier does not expose \"coef_\" or \"feature_importances_\" attributes",
          "traceback": [
            "\u001b[1;31m---------------------------------------------------------------------------\u001b[0m",
            "\u001b[1;31mRuntimeError\u001b[0m                              Traceback (most recent call last)",
            "\u001b[1;32m<ipython-input-50-675c3ec0b022>\u001b[0m in \u001b[0;36m<module>\u001b[1;34m\u001b[0m\n\u001b[1;32m----> 1\u001b[1;33m \u001b[0mselector3\u001b[0m\u001b[1;33m=\u001b[0m\u001b[0mselector3\u001b[0m\u001b[1;33m.\u001b[0m\u001b[0mfit\u001b[0m\u001b[1;33m(\u001b[0m\u001b[0mx\u001b[0m\u001b[1;33m,\u001b[0m\u001b[0my\u001b[0m\u001b[1;33m)\u001b[0m\u001b[1;33m\u001b[0m\u001b[1;33m\u001b[0m\u001b[0m\n\u001b[0m",
            "\u001b[1;32mC:\\Anaconda3\\lib\\site-packages\\sklearn\\feature_selection\\rfe.py\u001b[0m in \u001b[0;36mfit\u001b[1;34m(self, X, y)\u001b[0m\n\u001b[0;32m    138\u001b[0m             \u001b[0mThe\u001b[0m \u001b[0mtarget\u001b[0m \u001b[0mvalues\u001b[0m\u001b[1;33m.\u001b[0m\u001b[1;33m\u001b[0m\u001b[1;33m\u001b[0m\u001b[0m\n\u001b[0;32m    139\u001b[0m         \"\"\"\n\u001b[1;32m--> 140\u001b[1;33m         \u001b[1;32mreturn\u001b[0m \u001b[0mself\u001b[0m\u001b[1;33m.\u001b[0m\u001b[0m_fit\u001b[0m\u001b[1;33m(\u001b[0m\u001b[0mX\u001b[0m\u001b[1;33m,\u001b[0m \u001b[0my\u001b[0m\u001b[1;33m)\u001b[0m\u001b[1;33m\u001b[0m\u001b[1;33m\u001b[0m\u001b[0m\n\u001b[0m\u001b[0;32m    141\u001b[0m \u001b[1;33m\u001b[0m\u001b[0m\n\u001b[0;32m    142\u001b[0m     \u001b[1;32mdef\u001b[0m \u001b[0m_fit\u001b[0m\u001b[1;33m(\u001b[0m\u001b[0mself\u001b[0m\u001b[1;33m,\u001b[0m \u001b[0mX\u001b[0m\u001b[1;33m,\u001b[0m \u001b[0my\u001b[0m\u001b[1;33m,\u001b[0m \u001b[0mstep_score\u001b[0m\u001b[1;33m=\u001b[0m\u001b[1;32mNone\u001b[0m\u001b[1;33m)\u001b[0m\u001b[1;33m:\u001b[0m\u001b[1;33m\u001b[0m\u001b[1;33m\u001b[0m\u001b[0m\n",
            "\u001b[1;32mC:\\Anaconda3\\lib\\site-packages\\sklearn\\feature_selection\\rfe.py\u001b[0m in \u001b[0;36m_fit\u001b[1;34m(self, X, y, step_score)\u001b[0m\n\u001b[0;32m    185\u001b[0m                 \u001b[0mcoefs\u001b[0m \u001b[1;33m=\u001b[0m \u001b[0mgetattr\u001b[0m\u001b[1;33m(\u001b[0m\u001b[0mestimator\u001b[0m\u001b[1;33m,\u001b[0m \u001b[1;34m'feature_importances_'\u001b[0m\u001b[1;33m,\u001b[0m \u001b[1;32mNone\u001b[0m\u001b[1;33m)\u001b[0m\u001b[1;33m\u001b[0m\u001b[1;33m\u001b[0m\u001b[0m\n\u001b[0;32m    186\u001b[0m             \u001b[1;32mif\u001b[0m \u001b[0mcoefs\u001b[0m \u001b[1;32mis\u001b[0m \u001b[1;32mNone\u001b[0m\u001b[1;33m:\u001b[0m\u001b[1;33m\u001b[0m\u001b[1;33m\u001b[0m\u001b[0m\n\u001b[1;32m--> 187\u001b[1;33m                 raise RuntimeError('The classifier does not expose '\n\u001b[0m\u001b[0;32m    188\u001b[0m                                    \u001b[1;34m'\"coef_\" or \"feature_importances_\" '\u001b[0m\u001b[1;33m\u001b[0m\u001b[1;33m\u001b[0m\u001b[0m\n\u001b[0;32m    189\u001b[0m                                    'attributes')\n",
            "\u001b[1;31mRuntimeError\u001b[0m: The classifier does not expose \"coef_\" or \"feature_importances_\" attributes"
          ]
        }
      ]
    },
    {
      "cell_type": "markdown",
      "metadata": {
        "id": "Nb4dLM9NgFgn",
        "colab_type": "text"
      },
      "source": [
        "#### decision tree using selector (RFE)"
      ]
    },
    {
      "cell_type": "code",
      "metadata": {
        "id": "hPNG-oXDgFgp",
        "colab_type": "code",
        "colab": {}
      },
      "source": [
        "model_dtree=DecisionTreeClassifier()"
      ],
      "execution_count": 0,
      "outputs": []
    },
    {
      "cell_type": "code",
      "metadata": {
        "id": "xseX0bCGgFgt",
        "colab_type": "code",
        "colab": {}
      },
      "source": [
        "selector4=RFE(model_dtree,3)"
      ],
      "execution_count": 0,
      "outputs": []
    },
    {
      "cell_type": "code",
      "metadata": {
        "id": "JyS9179kgFg0",
        "colab_type": "code",
        "colab": {}
      },
      "source": [
        "selector4=selector4.fit(x,y)"
      ],
      "execution_count": 0,
      "outputs": []
    },
    {
      "cell_type": "code",
      "metadata": {
        "id": "o_5VDw94gFg3",
        "colab_type": "code",
        "colab": {}
      },
      "source": [
        "selector4.support_"
      ],
      "execution_count": 0,
      "outputs": []
    },
    {
      "cell_type": "code",
      "metadata": {
        "id": "bVFJH0aygFg8",
        "colab_type": "code",
        "colab": {}
      },
      "source": [
        "6,10,12\n",
        "df_voice.columns"
      ],
      "execution_count": 0,
      "outputs": []
    },
    {
      "cell_type": "code",
      "metadata": {
        "id": "Lm6T5gkGgFg_",
        "colab_type": "code",
        "colab": {}
      },
      "source": [
        "X=df_voice[['sfm','IQR','centroid']]\n",
        "y=df_voice['label']"
      ],
      "execution_count": 0,
      "outputs": []
    },
    {
      "cell_type": "code",
      "metadata": {
        "id": "YMVOI2P0gFhF",
        "colab_type": "code",
        "colab": {}
      },
      "source": [
        "X_test,X_train,y_test,y_train=train_test_split(X,y,test_size=0.2,random_state=42)"
      ],
      "execution_count": 0,
      "outputs": []
    },
    {
      "cell_type": "code",
      "metadata": {
        "id": "yPhFSfl_gFhL",
        "colab_type": "code",
        "colab": {},
        "outputId": "5e0b52bf-1781-4478-b327-9339989b04ac"
      },
      "source": [
        "model_tree=DecisionTreeClassifier()\n",
        "model_tree.fit(X_train,y_train)\n",
        "pred=model_tree.predict(X_test)\n",
        "model_tree.score(X_train,y_train)"
      ],
      "execution_count": 0,
      "outputs": [
        {
          "output_type": "execute_result",
          "data": {
            "text/plain": [
              "1.0"
            ]
          },
          "metadata": {
            "tags": []
          },
          "execution_count": 51
        }
      ]
    },
    {
      "cell_type": "code",
      "metadata": {
        "id": "N2UQQJY1gFhO",
        "colab_type": "code",
        "colab": {},
        "outputId": "135c5548-2854-435b-cd4d-1a96db5b4bd9"
      },
      "source": [
        "model_tree.score(X_test,y_test)"
      ],
      "execution_count": 0,
      "outputs": [
        {
          "output_type": "execute_result",
          "data": {
            "text/plain": [
              "0.9617205998421468"
            ]
          },
          "metadata": {
            "tags": []
          },
          "execution_count": 52
        }
      ]
    },
    {
      "cell_type": "markdown",
      "metadata": {
        "id": "vhTHu-UmgFhT",
        "colab_type": "text"
      },
      "source": [
        "#### Logistic Regression score after feature selection using RFE - 0.8804262036306235"
      ]
    },
    {
      "cell_type": "markdown",
      "metadata": {
        "id": "CTrfok0QgFhU",
        "colab_type": "text"
      },
      "source": [
        "## ensemble methods"
      ]
    },
    {
      "cell_type": "markdown",
      "metadata": {
        "id": "k68ApMPYgFhV",
        "colab_type": "text"
      },
      "source": [
        "### Bagging "
      ]
    },
    {
      "cell_type": "code",
      "metadata": {
        "id": "8Z1NyLa5gFhW",
        "colab_type": "code",
        "colab": {}
      },
      "source": [
        "from sklearn.ensemble import RandomForestClassifier"
      ],
      "execution_count": 0,
      "outputs": []
    },
    {
      "cell_type": "code",
      "metadata": {
        "id": "N4FId6O8gFhZ",
        "colab_type": "code",
        "colab": {}
      },
      "source": [
        "ensemble_model=RandomForestClassifier(n_estimators=20,min_samples_split=20,min_impurity_decrease=0.05)"
      ],
      "execution_count": 0,
      "outputs": []
    },
    {
      "cell_type": "code",
      "metadata": {
        "id": "VvPFlhUhgFhc",
        "colab_type": "code",
        "colab": {},
        "outputId": "a417ef80-24a3-468b-df4c-9ebb149feb3c"
      },
      "source": [
        "ensemble_model.fit(X_train,y_train)"
      ],
      "execution_count": 0,
      "outputs": [
        {
          "output_type": "execute_result",
          "data": {
            "text/plain": [
              "RandomForestClassifier(bootstrap=True, class_weight=None, criterion='gini',\n",
              "            max_depth=None, max_features='auto', max_leaf_nodes=None,\n",
              "            min_impurity_decrease=0.05, min_impurity_split=None,\n",
              "            min_samples_leaf=1, min_samples_split=20,\n",
              "            min_weight_fraction_leaf=0.0, n_estimators=20, n_jobs=None,\n",
              "            oob_score=False, random_state=None, verbose=0,\n",
              "            warm_start=False)"
            ]
          },
          "metadata": {
            "tags": []
          },
          "execution_count": 55
        }
      ]
    },
    {
      "cell_type": "code",
      "metadata": {
        "id": "ZGJWtANOgFhh",
        "colab_type": "code",
        "colab": {},
        "outputId": "519eb6c5-9d26-4e19-b9c4-0d394952091c"
      },
      "source": [
        "print(ensemble_model.score(X_train,y_train),ensemble_model.score(X_test,y_test))"
      ],
      "execution_count": 0,
      "outputs": [
        {
          "output_type": "stream",
          "text": [
            "0.9700315457413249 0.9581689029202841\n"
          ],
          "name": "stdout"
        }
      ]
    },
    {
      "cell_type": "code",
      "metadata": {
        "id": "meFTBy2tgFhl",
        "colab_type": "code",
        "colab": {},
        "outputId": "8f24b517-b4dc-4f79-ae46-16c9cac21816"
      },
      "source": [
        "import numpy as np\n",
        "features=pd.DataFrame(np.array([X.columns,ensemble_model.feature_importances_]).T,columns=[\"feature\",\"importance\"])\n",
        "features"
      ],
      "execution_count": 0,
      "outputs": [
        {
          "output_type": "execute_result",
          "data": {
            "text/html": [
              "<div>\n",
              "<style scoped>\n",
              "    .dataframe tbody tr th:only-of-type {\n",
              "        vertical-align: middle;\n",
              "    }\n",
              "\n",
              "    .dataframe tbody tr th {\n",
              "        vertical-align: top;\n",
              "    }\n",
              "\n",
              "    .dataframe thead th {\n",
              "        text-align: right;\n",
              "    }\n",
              "</style>\n",
              "<table border=\"1\" class=\"dataframe\">\n",
              "  <thead>\n",
              "    <tr style=\"text-align: right;\">\n",
              "      <th></th>\n",
              "      <th>feature</th>\n",
              "      <th>importance</th>\n",
              "    </tr>\n",
              "  </thead>\n",
              "  <tbody>\n",
              "    <tr>\n",
              "      <th>0</th>\n",
              "      <td>IQR</td>\n",
              "      <td>0.438764</td>\n",
              "    </tr>\n",
              "    <tr>\n",
              "      <th>1</th>\n",
              "      <td>sp.ent</td>\n",
              "      <td>0.156257</td>\n",
              "    </tr>\n",
              "    <tr>\n",
              "      <th>2</th>\n",
              "      <td>meanfun</td>\n",
              "      <td>0.404979</td>\n",
              "    </tr>\n",
              "  </tbody>\n",
              "</table>\n",
              "</div>"
            ],
            "text/plain": [
              "   feature importance\n",
              "0      IQR   0.438764\n",
              "1   sp.ent   0.156257\n",
              "2  meanfun   0.404979"
            ]
          },
          "metadata": {
            "tags": []
          },
          "execution_count": 57
        }
      ]
    },
    {
      "cell_type": "markdown",
      "metadata": {
        "id": "dULwpMu-gFhp",
        "colab_type": "text"
      },
      "source": [
        "1.Logistic Regression score after feature selection using RFE - 0.8804262036306235\n",
        "\n",
        "2.Logistic Regression score after bagging - 0.8843725335438043\n",
        "\n",
        "##### concln:ensemble helps in improvising the score \n",
        "\n",
        "If you increase the no. of estimators and sample split you might get more accuracy"
      ]
    },
    {
      "cell_type": "markdown",
      "metadata": {
        "id": "6wl7lSsBgFhp",
        "colab_type": "text"
      },
      "source": [
        "### Boosting"
      ]
    },
    {
      "cell_type": "code",
      "metadata": {
        "id": "OAmsGh_jgFhr",
        "colab_type": "code",
        "colab": {}
      },
      "source": [
        "from sklearn.ensemble import AdaBoostClassifier"
      ],
      "execution_count": 0,
      "outputs": []
    },
    {
      "cell_type": "code",
      "metadata": {
        "id": "lUpDUYurgFht",
        "colab_type": "code",
        "colab": {}
      },
      "source": [
        "ensemble_boost_model=AdaBoostClassifier(n_estimators=10)\n"
      ],
      "execution_count": 0,
      "outputs": []
    },
    {
      "cell_type": "code",
      "metadata": {
        "id": "hzURdz4lgFhx",
        "colab_type": "code",
        "colab": {},
        "outputId": "ca450733-6c2e-438f-ef77-72af793a0b71"
      },
      "source": [
        "ensemble_boost_model.fit(X_train,y_train)\n",
        "print(ensemble_boost_model.score(X_train,y_train),ensemble_boost_model.score(X_test,y_test))"
      ],
      "execution_count": 0,
      "outputs": [
        {
          "output_type": "stream",
          "text": [
            "0.9747634069400631 0.9581689029202841\n"
          ],
          "name": "stdout"
        }
      ]
    },
    {
      "cell_type": "markdown",
      "metadata": {
        "id": "PczJDwlDgFh0",
        "colab_type": "text"
      },
      "source": [
        "3.Logistic regression score after boosting - 0.8977900552486188\n",
        "\n",
        "##### score is still improved "
      ]
    },
    {
      "cell_type": "markdown",
      "metadata": {
        "id": "xFqC_Mc6gFh1",
        "colab_type": "text"
      },
      "source": [
        "### cross validation kfolds"
      ]
    },
    {
      "cell_type": "markdown",
      "metadata": {
        "id": "0Tdt96YLgFh2",
        "colab_type": "text"
      },
      "source": [
        "### knn with kfold"
      ]
    },
    {
      "cell_type": "code",
      "metadata": {
        "id": "-F7lSO2XgFh4",
        "colab_type": "code",
        "colab": {}
      },
      "source": [
        "from sklearn.model_selection import KFold"
      ],
      "execution_count": 0,
      "outputs": []
    },
    {
      "cell_type": "code",
      "metadata": {
        "id": "YCv0odsigFh8",
        "colab_type": "code",
        "colab": {}
      },
      "source": [
        "k_fold=KFold(n_splits=5,shuffle=False,random_state=40)"
      ],
      "execution_count": 0,
      "outputs": []
    },
    {
      "cell_type": "code",
      "metadata": {
        "id": "FTiCjmPVgFiB",
        "colab_type": "code",
        "colab": {},
        "outputId": "94eed2d5-04d6-403f-f3aa-ca13883b0ba5"
      },
      "source": [
        "k_fold.split(X,y)"
      ],
      "execution_count": 0,
      "outputs": [
        {
          "output_type": "execute_result",
          "data": {
            "text/plain": [
              "<generator object _BaseKFold.split at 0x000001F2925E1B88>"
            ]
          },
          "metadata": {
            "tags": []
          },
          "execution_count": 63
        }
      ]
    },
    {
      "cell_type": "code",
      "metadata": {
        "id": "rdoyXptugFiJ",
        "colab_type": "code",
        "colab": {},
        "outputId": "99cfa9df-519f-4aab-a532-d0662e9da62d"
      },
      "source": [
        "for i,(train,value) in enumerate(k_fold.split(X,y)):\n",
        "    print(i)\n",
        "    print('-------------------------------')\n",
        "    print(X.iloc[train].shape,y.iloc[train].shape)\n",
        "    print('-------------------------------')\n",
        "    print(X.iloc[value].shape,y.iloc[value].shape)\n",
        "    print('-------------------------------')"
      ],
      "execution_count": 0,
      "outputs": [
        {
          "output_type": "stream",
          "text": [
            "0\n",
            "-------------------------------\n",
            "(2534, 3) (2534,)\n",
            "-------------------------------\n",
            "(634, 3) (634,)\n",
            "-------------------------------\n",
            "1\n",
            "-------------------------------\n",
            "(2534, 3) (2534,)\n",
            "-------------------------------\n",
            "(634, 3) (634,)\n",
            "-------------------------------\n",
            "2\n",
            "-------------------------------\n",
            "(2534, 3) (2534,)\n",
            "-------------------------------\n",
            "(634, 3) (634,)\n",
            "-------------------------------\n",
            "3\n",
            "-------------------------------\n",
            "(2535, 3) (2535,)\n",
            "-------------------------------\n",
            "(633, 3) (633,)\n",
            "-------------------------------\n",
            "4\n",
            "-------------------------------\n",
            "(2535, 3) (2535,)\n",
            "-------------------------------\n",
            "(633, 3) (633,)\n",
            "-------------------------------\n"
          ],
          "name": "stdout"
        }
      ]
    },
    {
      "cell_type": "code",
      "metadata": {
        "id": "Wrja7WjUgFiO",
        "colab_type": "code",
        "colab": {},
        "outputId": "7e6306a9-1828-4dbe-ce51-81ebf7513208"
      },
      "source": [
        "model_score_train=[]\n",
        "model_score_test=[]\n",
        "for i,(train,value) in enumerate(k_fold.split(X,y)):\n",
        "    model_knn=KNeighborsClassifier()\n",
        "    model_knn.fit(X.iloc[train],y.iloc[train])\n",
        "    pred=model_knn.predict(X.iloc[value])\n",
        "    model_score_train.append(model_knn.score(X.iloc[train],y.iloc[train]))\n",
        "    model_score_test.append(model_knn.score(X.iloc[value],y.iloc[value]))\n",
        "    print(model_knn.score(X.iloc[train],y.iloc[train]),model_knn.score(X.iloc[value],y.iloc[value]))"
      ],
      "execution_count": 0,
      "outputs": [
        {
          "output_type": "stream",
          "text": [
            "0.9826361483820047 0.9369085173501577\n",
            "0.9798737174427782 0.9589905362776026\n",
            "0.9771112865035517 0.9605678233438486\n",
            "0.9775147928994082 0.9715639810426541\n",
            "0.9794871794871794 0.9510268562401264\n"
          ],
          "name": "stdout"
        }
      ]
    },
    {
      "cell_type": "code",
      "metadata": {
        "id": "RrOz5WnWgFiS",
        "colab_type": "code",
        "colab": {},
        "outputId": "91de7052-94cd-4fdc-cb02-b68d864d768b"
      },
      "source": [
        "np.mean(model_score_test)"
      ],
      "execution_count": 0,
      "outputs": [
        {
          "output_type": "execute_result",
          "data": {
            "text/plain": [
              "0.9558115428508778"
            ]
          },
          "metadata": {
            "tags": []
          },
          "execution_count": 66
        }
      ]
    },
    {
      "cell_type": "markdown",
      "metadata": {
        "id": "EXYaSFLNgFiW",
        "colab_type": "text"
      },
      "source": [
        "### decision tree with kfold"
      ]
    },
    {
      "cell_type": "code",
      "metadata": {
        "id": "oIEBXC3HgFiW",
        "colab_type": "code",
        "colab": {},
        "outputId": "8a2cc182-69ba-46cc-9269-d3cec22469ae"
      },
      "source": [
        "model_score_train1=[]\n",
        "model_score_test1=[]\n",
        "for i,(train,value) in enumerate(k_fold.split(X,y)):\n",
        "    model_dtree=DecisionTreeClassifier()\n",
        "    model_dtree.fit(X.iloc[train],y.iloc[train])\n",
        "    pred=model_dtree.predict(X.iloc[value])\n",
        "    model_score_train1.append(model_dtree.score(X.iloc[train],y.iloc[train]))\n",
        "    model_score_test1.append(model_dtree.score(X.iloc[value],y.iloc[value]))\n",
        "    print(model_dtree.score(X.iloc[train],y.iloc[train]),model_dtree.score(X.iloc[value],y.iloc[value]))"
      ],
      "execution_count": 0,
      "outputs": [
        {
          "output_type": "stream",
          "text": [
            "1.0 0.9274447949526814\n",
            "1.0 0.9290220820189274\n",
            "1.0 0.9495268138801262\n",
            "1.0 0.9399684044233807\n",
            "1.0 0.9415481832543444\n"
          ],
          "name": "stdout"
        }
      ]
    },
    {
      "cell_type": "code",
      "metadata": {
        "id": "bRg7NQzxgFia",
        "colab_type": "code",
        "colab": {},
        "outputId": "4ea021df-9c12-4df3-985a-1471522c4ef3"
      },
      "source": [
        "np.mean(model_score_test1)"
      ],
      "execution_count": 0,
      "outputs": [
        {
          "output_type": "execute_result",
          "data": {
            "text/plain": [
              "0.9375015573529485"
            ]
          },
          "metadata": {
            "tags": []
          },
          "execution_count": 80
        }
      ]
    },
    {
      "cell_type": "markdown",
      "metadata": {
        "id": "onWUNi2bgFie",
        "colab_type": "text"
      },
      "source": [
        "### svm with kfold "
      ]
    },
    {
      "cell_type": "code",
      "metadata": {
        "id": "QfGGmELlgFif",
        "colab_type": "code",
        "colab": {},
        "outputId": "030968a8-7ab9-413e-e0cc-b1017c6e8690"
      },
      "source": [
        "model_score_train2=[]\n",
        "model_score_test2=[]\n",
        "for i,(train,value) in enumerate(k_fold.split(X,y)):\n",
        "    model_svc=SVC()\n",
        "    model_svc.fit(X.iloc[train],y.iloc[train])\n",
        "    pred=model_svc.predict(X.iloc[value])\n",
        "    model_score_train2.append(model_svc.score(X.iloc[train],y.iloc[train]))\n",
        "    model_score_test2.append(model_svc.score(X.iloc[value],y.iloc[value]))\n",
        "    print(model_svc.score(X.iloc[train],y.iloc[train]),model_svc.score(X.iloc[value],y.iloc[value]))"
      ],
      "execution_count": 0,
      "outputs": [
        {
          "output_type": "stream",
          "text": [
            "C:\\Anaconda3\\lib\\site-packages\\sklearn\\svm\\base.py:196: FutureWarning: The default value of gamma will change from 'auto' to 'scale' in version 0.22 to account better for unscaled features. Set gamma explicitly to 'auto' or 'scale' to avoid this warning.\n",
            "  \"avoid this warning.\", FutureWarning)\n"
          ],
          "name": "stderr"
        },
        {
          "output_type": "stream",
          "text": [
            "0.9108129439621152 0.9637223974763407\n"
          ],
          "name": "stdout"
        },
        {
          "output_type": "stream",
          "text": [
            "C:\\Anaconda3\\lib\\site-packages\\sklearn\\svm\\base.py:196: FutureWarning: The default value of gamma will change from 'auto' to 'scale' in version 0.22 to account better for unscaled features. Set gamma explicitly to 'auto' or 'scale' to avoid this warning.\n",
            "  \"avoid this warning.\", FutureWarning)\n"
          ],
          "name": "stderr"
        },
        {
          "output_type": "stream",
          "text": [
            "0.9447513812154696 0.9526813880126183\n"
          ],
          "name": "stdout"
        },
        {
          "output_type": "stream",
          "text": [
            "C:\\Anaconda3\\lib\\site-packages\\sklearn\\svm\\base.py:196: FutureWarning: The default value of gamma will change from 'auto' to 'scale' in version 0.22 to account better for unscaled features. Set gamma explicitly to 'auto' or 'scale' to avoid this warning.\n",
            "  \"avoid this warning.\", FutureWarning)\n"
          ],
          "name": "stderr"
        },
        {
          "output_type": "stream",
          "text": [
            "0.920284135753749 0.8391167192429022\n"
          ],
          "name": "stdout"
        },
        {
          "output_type": "stream",
          "text": [
            "C:\\Anaconda3\\lib\\site-packages\\sklearn\\svm\\base.py:196: FutureWarning: The default value of gamma will change from 'auto' to 'scale' in version 0.22 to account better for unscaled features. Set gamma explicitly to 'auto' or 'scale' to avoid this warning.\n",
            "  \"avoid this warning.\", FutureWarning)\n"
          ],
          "name": "stderr"
        },
        {
          "output_type": "stream",
          "text": [
            "0.9108481262327416 0.8151658767772512\n"
          ],
          "name": "stdout"
        },
        {
          "output_type": "stream",
          "text": [
            "C:\\Anaconda3\\lib\\site-packages\\sklearn\\svm\\base.py:196: FutureWarning: The default value of gamma will change from 'auto' to 'scale' in version 0.22 to account better for unscaled features. Set gamma explicitly to 'auto' or 'scale' to avoid this warning.\n",
            "  \"avoid this warning.\", FutureWarning)\n"
          ],
          "name": "stderr"
        },
        {
          "output_type": "stream",
          "text": [
            "0.903353057199211 0.8451816745655608\n"
          ],
          "name": "stdout"
        }
      ]
    },
    {
      "cell_type": "code",
      "metadata": {
        "id": "C9D2jsSvgFii",
        "colab_type": "code",
        "colab": {},
        "outputId": "2f3e810c-9629-485d-8fa4-e0f863d00c18"
      },
      "source": [
        "np.mean(model_score_test2)"
      ],
      "execution_count": 0,
      "outputs": [
        {
          "output_type": "execute_result",
          "data": {
            "text/plain": [
              "0.8831736112149347"
            ]
          },
          "metadata": {
            "tags": []
          },
          "execution_count": 143
        }
      ]
    },
    {
      "cell_type": "markdown",
      "metadata": {
        "id": "y-jPYIHBgFim",
        "colab_type": "text"
      },
      "source": [
        "### logistic with kfold"
      ]
    },
    {
      "cell_type": "code",
      "metadata": {
        "id": "OCgbzFvmgFin",
        "colab_type": "code",
        "colab": {},
        "outputId": "334ffd4e-ec2e-4767-9b2a-f3f13a55bfbe"
      },
      "source": [
        "model_score_train3=[]\n",
        "model_score_test3=[]\n",
        "for i,(train,value) in enumerate(k_fold.split(X,y)):\n",
        "    model_log=LogisticRegression()\n",
        "    model_log.fit(X.iloc[train],y.iloc[train])\n",
        "    pred=model_log.predict(X.iloc[value])\n",
        "    model_score_train3.append(model_log.score(X.iloc[train],y.iloc[train]))\n",
        "    model_score_test3.append(model_log.score(X.iloc[value],y.iloc[value]))\n",
        "    print(model_log.score(X.iloc[train],y.iloc[train]),model_log.score(X.iloc[value],y.iloc[value]))"
      ],
      "execution_count": 0,
      "outputs": [
        {
          "output_type": "stream",
          "text": [
            "C:\\Anaconda3\\lib\\site-packages\\sklearn\\linear_model\\logistic.py:433: FutureWarning: Default solver will be changed to 'lbfgs' in 0.22. Specify a solver to silence this warning.\n",
            "  FutureWarning)\n",
            "C:\\Anaconda3\\lib\\site-packages\\sklearn\\linear_model\\logistic.py:433: FutureWarning: Default solver will be changed to 'lbfgs' in 0.22. Specify a solver to silence this warning.\n",
            "  FutureWarning)\n",
            "C:\\Anaconda3\\lib\\site-packages\\sklearn\\linear_model\\logistic.py:433: FutureWarning: Default solver will be changed to 'lbfgs' in 0.22. Specify a solver to silence this warning.\n",
            "  FutureWarning)\n"
          ],
          "name": "stderr"
        },
        {
          "output_type": "stream",
          "text": [
            "0.9100236779794791 0.9274447949526814\n",
            "0.9234411996842936 0.7539432176656151\n",
            "0.9218626677190213 0.8485804416403786\n",
            "0.901775147928994 0.7914691943127962\n",
            "0.895069033530572 0.8183254344391785\n"
          ],
          "name": "stdout"
        },
        {
          "output_type": "stream",
          "text": [
            "C:\\Anaconda3\\lib\\site-packages\\sklearn\\linear_model\\logistic.py:433: FutureWarning: Default solver will be changed to 'lbfgs' in 0.22. Specify a solver to silence this warning.\n",
            "  FutureWarning)\n",
            "C:\\Anaconda3\\lib\\site-packages\\sklearn\\linear_model\\logistic.py:433: FutureWarning: Default solver will be changed to 'lbfgs' in 0.22. Specify a solver to silence this warning.\n",
            "  FutureWarning)\n"
          ],
          "name": "stderr"
        }
      ]
    },
    {
      "cell_type": "code",
      "metadata": {
        "id": "X1jKUNymgFiq",
        "colab_type": "code",
        "colab": {},
        "outputId": "3cc6bbbb-d98d-4fed-92f8-c94ec1ed7967"
      },
      "source": [
        "np.mean(model_score_test3)"
      ],
      "execution_count": 0,
      "outputs": [
        {
          "output_type": "execute_result",
          "data": {
            "text/plain": [
              "0.82795261660213"
            ]
          },
          "metadata": {
            "tags": []
          },
          "execution_count": 145
        }
      ]
    },
    {
      "cell_type": "code",
      "metadata": {
        "id": "2upwFb8ZgFiv",
        "colab_type": "code",
        "colab": {},
        "outputId": "233345ea-fe00-4dce-cfd9-c1b81ed58a8d"
      },
      "source": [
        "df_score=pd.DataFrame(data=[model_score_test3,model_score_test2,model_score_test1,model_score_test],index=[\"Logistic\",\"SVM\",\"Dtree\",\"KNN\"],columns=['s1','s2','s3','s4','s5'])\n",
        "df_score"
      ],
      "execution_count": 0,
      "outputs": [
        {
          "output_type": "execute_result",
          "data": {
            "text/html": [
              "<div>\n",
              "<style scoped>\n",
              "    .dataframe tbody tr th:only-of-type {\n",
              "        vertical-align: middle;\n",
              "    }\n",
              "\n",
              "    .dataframe tbody tr th {\n",
              "        vertical-align: top;\n",
              "    }\n",
              "\n",
              "    .dataframe thead th {\n",
              "        text-align: right;\n",
              "    }\n",
              "</style>\n",
              "<table border=\"1\" class=\"dataframe\">\n",
              "  <thead>\n",
              "    <tr style=\"text-align: right;\">\n",
              "      <th></th>\n",
              "      <th>s1</th>\n",
              "      <th>s2</th>\n",
              "      <th>s3</th>\n",
              "      <th>s4</th>\n",
              "      <th>s5</th>\n",
              "    </tr>\n",
              "  </thead>\n",
              "  <tbody>\n",
              "    <tr>\n",
              "      <th>Logistic</th>\n",
              "      <td>0.927445</td>\n",
              "      <td>0.753943</td>\n",
              "      <td>0.848580</td>\n",
              "      <td>0.791469</td>\n",
              "      <td>0.818325</td>\n",
              "    </tr>\n",
              "    <tr>\n",
              "      <th>SVM</th>\n",
              "      <td>0.963722</td>\n",
              "      <td>0.952681</td>\n",
              "      <td>0.839117</td>\n",
              "      <td>0.815166</td>\n",
              "      <td>0.845182</td>\n",
              "    </tr>\n",
              "    <tr>\n",
              "      <th>Dtree</th>\n",
              "      <td>0.927445</td>\n",
              "      <td>0.929022</td>\n",
              "      <td>0.949527</td>\n",
              "      <td>0.939968</td>\n",
              "      <td>0.941548</td>\n",
              "    </tr>\n",
              "    <tr>\n",
              "      <th>KNN</th>\n",
              "      <td>0.936909</td>\n",
              "      <td>0.958991</td>\n",
              "      <td>0.960568</td>\n",
              "      <td>0.971564</td>\n",
              "      <td>0.951027</td>\n",
              "    </tr>\n",
              "  </tbody>\n",
              "</table>\n",
              "</div>"
            ],
            "text/plain": [
              "                s1        s2        s3        s4        s5\n",
              "Logistic  0.927445  0.753943  0.848580  0.791469  0.818325\n",
              "SVM       0.963722  0.952681  0.839117  0.815166  0.845182\n",
              "Dtree     0.927445  0.929022  0.949527  0.939968  0.941548\n",
              "KNN       0.936909  0.958991  0.960568  0.971564  0.951027"
            ]
          },
          "metadata": {
            "tags": []
          },
          "execution_count": 146
        }
      ]
    },
    {
      "cell_type": "code",
      "metadata": {
        "id": "BG6glTROgFjG",
        "colab_type": "code",
        "colab": {}
      },
      "source": [
        "df_score=df_score.T"
      ],
      "execution_count": 0,
      "outputs": []
    },
    {
      "cell_type": "code",
      "metadata": {
        "id": "Fqu2G3fGgFjK",
        "colab_type": "code",
        "colab": {},
        "outputId": "ee0b9ebf-9474-4071-d603-b57a8133dafc"
      },
      "source": [
        "df_score.boxplot(figsize=(10,5))"
      ],
      "execution_count": 0,
      "outputs": [
        {
          "output_type": "execute_result",
          "data": {
            "text/plain": [
              "<matplotlib.axes._subplots.AxesSubplot at 0x1f2978e9e10>"
            ]
          },
          "metadata": {
            "tags": []
          },
          "execution_count": 154
        },
        {
          "output_type": "display_data",
          "data": {
            "image/png": "[encoded data removed]",
            "text/plain": [
              "<Figure size 720x360 with 1 Axes>"
            ]
          },
          "metadata": {
            "tags": [],
            "needs_background": "light"
          }
        }
      ]
    },
    {
      "cell_type": "markdown",
      "metadata": {
        "id": "aF7A6YTrgFjN",
        "colab_type": "text"
      },
      "source": [
        "1.Logistic Regression is properly fitted with the given dataset but test accuracy is less\n",
        "2.KNN have high accuracy but not properly fitted "
      ]
    },
    {
      "cell_type": "markdown",
      "metadata": {
        "id": "Py6J2nAJgFjO",
        "colab_type": "text"
      },
      "source": [
        "### PCA"
      ]
    },
    {
      "cell_type": "code",
      "metadata": {
        "id": "gf4RALB9gFjP",
        "colab_type": "code",
        "colab": {}
      },
      "source": [
        "from sklearn.decomposition import PCA"
      ],
      "execution_count": 0,
      "outputs": []
    },
    {
      "cell_type": "code",
      "metadata": {
        "id": "D04LsLEEgFjS",
        "colab_type": "code",
        "colab": {},
        "outputId": "26cb3ad6-330b-4df1-97f5-370d86cc17df"
      },
      "source": [
        "pca=PCA(n_components=3)\n",
        "X_new=pca.fit_transform(x)\n",
        "X_new.shape"
      ],
      "execution_count": 0,
      "outputs": [
        {
          "output_type": "execute_result",
          "data": {
            "text/plain": [
              "(3168, 3)"
            ]
          },
          "metadata": {
            "tags": []
          },
          "execution_count": 162
        }
      ]
    },
    {
      "cell_type": "code",
      "metadata": {
        "id": "6DCxlS81gFjU",
        "colab_type": "code",
        "colab": {}
      },
      "source": [
        "new_log=LogisticRegression()"
      ],
      "execution_count": 0,
      "outputs": []
    },
    {
      "cell_type": "code",
      "metadata": {
        "id": "keiozvzPgFjX",
        "colab_type": "code",
        "colab": {},
        "outputId": "0b7997a9-2098-4d7a-96ad-c61e2e16589c"
      },
      "source": [
        "new_log.fit(X_new,y)\n",
        "new_log.score(X_new,y)"
      ],
      "execution_count": 0,
      "outputs": [
        {
          "output_type": "stream",
          "text": [
            "C:\\Anaconda3\\lib\\site-packages\\sklearn\\linear_model\\logistic.py:433: FutureWarning: Default solver will be changed to 'lbfgs' in 0.22. Specify a solver to silence this warning.\n",
            "  FutureWarning)\n"
          ],
          "name": "stderr"
        },
        {
          "output_type": "execute_result",
          "data": {
            "text/plain": [
              "0.680239898989899"
            ]
          },
          "metadata": {
            "tags": []
          },
          "execution_count": 164
        }
      ]
    },
    {
      "cell_type": "code",
      "metadata": {
        "id": "I2i665X4gFjb",
        "colab_type": "code",
        "colab": {},
        "outputId": "07b276e2-5155-4511-f479-2dbe51d2e322"
      },
      "source": [
        "pca.score(X_test,y_test)"
      ],
      "execution_count": 0,
      "outputs": [
        {
          "output_type": "execute_result",
          "data": {
            "text/plain": [
              "5.877939214897381"
            ]
          },
          "metadata": {
            "tags": []
          },
          "execution_count": 69
        }
      ]
    },
    {
      "cell_type": "code",
      "metadata": {
        "id": "XM5-J04ggFje",
        "colab_type": "code",
        "colab": {},
        "outputId": "26a9da90-3561-4c9e-b0e6-be79780b4d0c"
      },
      "source": [
        "x.var()"
      ],
      "execution_count": 0,
      "outputs": [
        {
          "output_type": "execute_result",
          "data": {
            "text/plain": [
              "meanfreq        0.000895\n",
              "sd              0.000277\n",
              "median          0.001322\n",
              "Q25             0.002370\n",
              "Q75             0.000559\n",
              "IQR             0.001830\n",
              "skew           17.982084\n",
              "kurt        18205.743623\n",
              "sp.ent          0.002023\n",
              "sfm             0.031514\n",
              "mode            0.005960\n",
              "centroid        0.000895\n",
              "meanfun         0.001044\n",
              "minfun          0.000369\n",
              "maxfun          0.000905\n",
              "meandom         0.275840\n",
              "mindom          0.004007\n",
              "maxdom         12.398544\n",
              "dfrange        12.390675\n",
              "modindx         0.014269\n",
              "dtype: float64"
            ]
          },
          "metadata": {
            "tags": []
          },
          "execution_count": 165
        }
      ]
    },
    {
      "cell_type": "code",
      "metadata": {
        "id": "lPgM1QzrgFji",
        "colab_type": "code",
        "colab": {},
        "outputId": "dd43af69-119f-4a08-fa47-5b8fe8e05339"
      },
      "source": [
        "#amount of variance by each component \n",
        "pca.explained_variance_"
      ],
      "execution_count": 0,
      "outputs": [
        {
          "output_type": "execute_result",
          "data": {
            "text/plain": [
              "array([1.82247965e+04, 2.31281069e+01, 7.90584973e-01])"
            ]
          },
          "metadata": {
            "tags": []
          },
          "execution_count": 166
        }
      ]
    },
    {
      "cell_type": "code",
      "metadata": {
        "id": "2fEC2w2pgFjl",
        "colab_type": "code",
        "colab": {},
        "outputId": "1c901351-51bd-4df8-cf88-1e159cdb98c2"
      },
      "source": [
        "#percentage of variance explained by selected components\n",
        "pca.explained_variance_ratio_"
      ],
      "execution_count": 0,
      "outputs": [
        {
          "output_type": "execute_result",
          "data": {
            "text/plain": [
              "array([0.99868143])"
            ]
          },
          "metadata": {
            "tags": []
          },
          "execution_count": 160
        }
      ]
    },
    {
      "cell_type": "code",
      "metadata": {
        "id": "T5NCoofKgFju",
        "colab_type": "code",
        "colab": {}
      },
      "source": [
        "from sklearn import preprocessing\n",
        "data_scaled=pd.DataFrame(preprocessing.scale(X),columns=X.columns)"
      ],
      "execution_count": 0,
      "outputs": []
    },
    {
      "cell_type": "code",
      "metadata": {
        "id": "go9dAgJmgFjy",
        "colab_type": "code",
        "colab": {},
        "outputId": "5c0c0b03-d5a5-48cd-b02f-71e5a1b12e6d"
      },
      "source": [
        "print(pd.DataFrame(pca.components_,columns=data_scaled.columns))"
      ],
      "execution_count": 0,
      "outputs": [
        {
          "output_type": "stream",
          "text": [
            "        IQR    sp.ent   meanfun\n",
            "0 -0.623939 -0.665084  0.410322\n",
            "1  0.516408 -0.744985 -0.422280\n",
            "2  0.586535 -0.051583  0.808280\n"
          ],
          "name": "stdout"
        }
      ]
    },
    {
      "cell_type": "markdown",
      "metadata": {
        "id": "xdqJ439-gFj0",
        "colab_type": "text"
      },
      "source": [
        "#### pc-1 is sfm pc-2 is IQR pc-3 is centroid"
      ]
    },
    {
      "cell_type": "code",
      "metadata": {
        "id": "_SSSRGCcgFj1",
        "colab_type": "code",
        "colab": {},
        "outputId": "87874a0f-3804-453a-fe3a-d0e17b158660"
      },
      "source": [
        "pca.components_"
      ],
      "execution_count": 0,
      "outputs": [
        {
          "output_type": "execute_result",
          "data": {
            "text/plain": [
              "array([[-0.62393869, -0.66508393,  0.41032167],\n",
              "       [ 0.51640792, -0.74498491, -0.42227994],\n",
              "       [ 0.58653506, -0.05158343,  0.80827951]])"
            ]
          },
          "metadata": {
            "tags": []
          },
          "execution_count": 74
        }
      ]
    },
    {
      "cell_type": "markdown",
      "metadata": {
        "id": "GSZABdFRgFj3",
        "colab_type": "text"
      },
      "source": [
        "#### LDA Linear Discriminant Analysis"
      ]
    },
    {
      "cell_type": "code",
      "metadata": {
        "id": "Bxtgi7CUgFj4",
        "colab_type": "code",
        "colab": {}
      },
      "source": [
        "from sklearn.discriminant_analysis import LinearDiscriminantAnalysis as LDA"
      ],
      "execution_count": 0,
      "outputs": []
    },
    {
      "cell_type": "code",
      "metadata": {
        "id": "SJsHMwY_gFj7",
        "colab_type": "code",
        "colab": {}
      },
      "source": [
        "lda=LDA(n_components=5)"
      ],
      "execution_count": 0,
      "outputs": []
    },
    {
      "cell_type": "code",
      "metadata": {
        "id": "of8nWKFagFj9",
        "colab_type": "code",
        "colab": {},
        "outputId": "214f0212-d523-4af5-cf7d-1a199442b979"
      },
      "source": [
        "X_new=lda.fit_transform(X_train,y_train)\n",
        "X_new.shape\n",
        "#lda.transform(X_test)"
      ],
      "execution_count": 0,
      "outputs": [
        {
          "output_type": "execute_result",
          "data": {
            "text/plain": [
              "(634, 1)"
            ]
          },
          "metadata": {
            "tags": []
          },
          "execution_count": 157
        }
      ]
    },
    {
      "cell_type": "code",
      "metadata": {
        "id": "4f_lSJVpgFkA",
        "colab_type": "code",
        "colab": {},
        "outputId": "cea9bddd-c4ea-484f-9aaf-5ebac75d6d24"
      },
      "source": [
        "lda.coef_"
      ],
      "execution_count": 0,
      "outputs": [
        {
          "output_type": "execute_result",
          "data": {
            "text/plain": [
              "array([[  59.81575602,  -12.73613587, -181.12891793]])"
            ]
          },
          "metadata": {
            "tags": []
          },
          "execution_count": 78
        }
      ]
    },
    {
      "cell_type": "code",
      "metadata": {
        "id": "gdxMMuv4gFkE",
        "colab_type": "code",
        "colab": {}
      },
      "source": [
        ""
      ],
      "execution_count": 0,
      "outputs": []
    }
  ]
}