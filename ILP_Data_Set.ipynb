{
  "nbformat": 4,
  "nbformat_minor": 0,
  "metadata": {
    "kernelspec": {
      "display_name": "Python 3",
      "language": "python",
      "name": "python3"
    },
    "language_info": {
      "codemirror_mode": {
        "name": "ipython",
        "version": 3
      },
      "file_extension": ".py",
      "mimetype": "text/x-python",
      "name": "python",
      "nbconvert_exporter": "python",
      "pygments_lexer": "ipython3",
      "version": "3.7.1"
    },
    "colab": {
      "name": "ILP_Data_Set.ipynb",
      "provenance": [],
      "collapsed_sections": []
    }
  },
  "cells": [
    {
      "cell_type": "code",
      "metadata": {
        "id": "fAim6JkmcrJt",
        "colab_type": "code",
        "colab": {}
      },
      "source": [
        "import pandas as pd"
      ],
      "execution_count": 0,
      "outputs": []
    },
    {
      "cell_type": "code",
      "metadata": {
        "id": "5E0CoZ-LcrJ_",
        "colab_type": "code",
        "colab": {}
      },
      "source": [
        "liver_data = pd.read_csv('DataSets/indian_liver_patient_dataset.csv')\n",
        "liver_data.head()"
      ],
      "execution_count": 0,
      "outputs": []
    },
    {
      "cell_type": "code",
      "metadata": {
        "id": "jhshNlCMcrKO",
        "colab_type": "code",
        "colab": {}
      },
      "source": [
        "feature_data = liver_data.drop('class', axis=1)\n",
        "feature_data.head()"
      ],
      "execution_count": 0,
      "outputs": []
    },
    {
      "cell_type": "code",
      "metadata": {
        "id": "nNYsNFIPcrKZ",
        "colab_type": "code",
        "colab": {}
      },
      "source": [
        "temp_encoded = pd.get_dummies(feature_data['gender'])\n",
        "feature_data['Female'] = temp_encoded['Female']\n",
        "feature_data['Male'] = temp_encoded['Male']\n",
        "feature_data = feature_data.drop('gender', axis=1)"
      ],
      "execution_count": 0,
      "outputs": []
    },
    {
      "cell_type": "code",
      "metadata": {
        "id": "N8M6xlh8crKi",
        "colab_type": "code",
        "colab": {}
      },
      "source": [
        "feature_data.head()"
      ],
      "execution_count": 0,
      "outputs": []
    },
    {
      "cell_type": "code",
      "metadata": {
        "id": "GXKHM-PacrKu",
        "colab_type": "code",
        "colab": {}
      },
      "source": [
        "from sklearn.preprocessing import MinMaxScaler"
      ],
      "execution_count": 0,
      "outputs": []
    },
    {
      "cell_type": "code",
      "metadata": {
        "id": "me2veHLHcrK3",
        "colab_type": "code",
        "colab": {}
      },
      "source": [
        "scaler = MinMaxScaler()\n",
        "\n",
        "for column in list(feature_data.columns)[:-2]:\n",
        "    scaler.fit(feature_data[[column]])\n",
        "    feature_data[column] = scaler.transform(feature_data[[column]])\n",
        "feature_data['class'] = liver_data['class']\n",
        "feature_data.head()"
      ],
      "execution_count": 0,
      "outputs": []
    },
    {
      "cell_type": "code",
      "metadata": {
        "id": "5x9kfN4DcrK-",
        "colab_type": "code",
        "colab": {}
      },
      "source": [
        "from sklearn.model_selection import train_test_split"
      ],
      "execution_count": 0,
      "outputs": []
    },
    {
      "cell_type": "code",
      "metadata": {
        "id": "OyACb5k2crLF",
        "colab_type": "code",
        "colab": {}
      },
      "source": [
        "liver_train, liver_test = train_test_split(feature_data, test_size=0.20, random_state=42)"
      ],
      "execution_count": 0,
      "outputs": []
    },
    {
      "cell_type": "code",
      "metadata": {
        "id": "nWE_vi8ucrLM",
        "colab_type": "code",
        "colab": {}
      },
      "source": [
        "from sklearn.neighbors import KNeighborsClassifier\n",
        "from sklearn.model_selection import KFold"
      ],
      "execution_count": 0,
      "outputs": []
    },
    {
      "cell_type": "code",
      "metadata": {
        "id": "ipA_8v5ocrLU",
        "colab_type": "code",
        "colab": {}
      },
      "source": [
        "k_fold = KFold(n_splits=5, shuffle=False, random_state=42)\n",
        "features = list(feature_data.columns.drop('class'))\n",
        "target = ['class']\n",
        "X = liver_train[features]\n",
        "y = liver_train[target]"
      ],
      "execution_count": 0,
      "outputs": []
    },
    {
      "cell_type": "code",
      "metadata": {
        "id": "MVXGOKyLcrLb",
        "colab_type": "code",
        "colab": {},
        "outputId": "93a58561-0f4c-436a-d5ac-f737ece1d4e2"
      },
      "source": [
        "features"
      ],
      "execution_count": 0,
      "outputs": [
        {
          "output_type": "execute_result",
          "data": {
            "text/plain": [
              "['age',\n",
              " 'TB',\n",
              " 'DB',\n",
              " 'alkphos',\n",
              " 'sgpt',\n",
              " 'sgot',\n",
              " 'TP',\n",
              " 'ALB',\n",
              " 'A_G',\n",
              " 'Female',\n",
              " 'Male']"
            ]
          },
          "metadata": {
            "tags": []
          },
          "execution_count": 93
        }
      ]
    },
    {
      "cell_type": "code",
      "metadata": {
        "id": "ELwji5TycrLn",
        "colab_type": "code",
        "colab": {}
      },
      "source": [
        "import numpy as np"
      ],
      "execution_count": 0,
      "outputs": []
    },
    {
      "cell_type": "code",
      "metadata": {
        "id": "7_F2K7xpcrLv",
        "colab_type": "code",
        "colab": {},
        "outputId": "1e97895a-6986-45ae-dfda-c56697ac8161"
      },
      "source": [
        "temp = []\n",
        "for i, (train, val) in enumerate(k_fold.split(X,y)):\n",
        "    model = KNeighborsClassifier(3)\n",
        "    model.fit(X.iloc[train], y.iloc[train])\n",
        "    y_pred = model.score(X.iloc[val], y.iloc[val])\n",
        "    temp.append(y_pred)\n",
        "    print(y_pred, end='\\n')\n",
        "print(\"\", end='\\n')\n",
        "print('Mean validation score: ',np.mean(temp))"
      ],
      "execution_count": 0,
      "outputs": [
        {
          "output_type": "stream",
          "text": [
            "0.648936170212766\n",
            "0.6236559139784946\n",
            "0.6451612903225806\n",
            "0.6774193548387096\n",
            "0.6774193548387096\n",
            "\n",
            "0.6545184168382521\n"
          ],
          "name": "stdout"
        },
        {
          "output_type": "stream",
          "text": [
            "C:\\Anaconda3\\lib\\site-packages\\ipykernel_launcher.py:4: DataConversionWarning: A column-vector y was passed when a 1d array was expected. Please change the shape of y to (n_samples, ), for example using ravel().\n",
            "  after removing the cwd from sys.path.\n",
            "C:\\Anaconda3\\lib\\site-packages\\ipykernel_launcher.py:4: DataConversionWarning: A column-vector y was passed when a 1d array was expected. Please change the shape of y to (n_samples, ), for example using ravel().\n",
            "  after removing the cwd from sys.path.\n",
            "C:\\Anaconda3\\lib\\site-packages\\ipykernel_launcher.py:4: DataConversionWarning: A column-vector y was passed when a 1d array was expected. Please change the shape of y to (n_samples, ), for example using ravel().\n",
            "  after removing the cwd from sys.path.\n",
            "C:\\Anaconda3\\lib\\site-packages\\ipykernel_launcher.py:4: DataConversionWarning: A column-vector y was passed when a 1d array was expected. Please change the shape of y to (n_samples, ), for example using ravel().\n",
            "  after removing the cwd from sys.path.\n",
            "C:\\Anaconda3\\lib\\site-packages\\ipykernel_launcher.py:4: DataConversionWarning: A column-vector y was passed when a 1d array was expected. Please change the shape of y to (n_samples, ), for example using ravel().\n",
            "  after removing the cwd from sys.path.\n"
          ],
          "name": "stderr"
        }
      ]
    },
    {
      "cell_type": "code",
      "metadata": {
        "id": "kAD74zDMcrL3",
        "colab_type": "code",
        "colab": {}
      },
      "source": [
        ""
      ],
      "execution_count": 0,
      "outputs": []
    }
  ]
}