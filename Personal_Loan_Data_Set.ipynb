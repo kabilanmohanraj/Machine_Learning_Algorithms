{
  "nbformat": 4,
  "nbformat_minor": 0,
  "metadata": {
    "kernelspec": {
      "display_name": "Python 3",
      "language": "python",
      "name": "python3"
    },
    "language_info": {
      "codemirror_mode": {
        "name": "ipython",
        "version": 3
      },
      "file_extension": ".py",
      "mimetype": "text/x-python",
      "name": "python",
      "nbconvert_exporter": "python",
      "pygments_lexer": "ipython3",
      "version": "3.7.1"
    },
    "colab": {
      "name": "Personal_Loan_Data_Set.ipynb",
      "provenance": [],
      "collapsed_sections": [
        "PihVMn2be66k",
        "T4c-JDKee668",
        "7nONLrUWe67J",
        "asvT-Yiae67V",
        "ChN7IcOTe670",
        "7-ZrnWDle68D",
        "7ZsO1Bsxe68S",
        "HMZjH14re68g",
        "zHcdDNphe68h",
        "cRHLXzWqe68x",
        "7FLdTjiVe686",
        "A1OplgbTe687",
        "IC_FWYCLe69W",
        "xX0AJlSLe69X",
        "iSh8x5mye69u"
      ]
    }
  },
  "cells": [
    {
      "cell_type": "code",
      "metadata": {
        "id": "iWyioRkCe63o",
        "colab_type": "code",
        "colab": {}
      },
      "source": [
        "# To enable plotting graphs in Jupyter notebook\n",
        "%matplotlib inline"
      ],
      "execution_count": 0,
      "outputs": []
    },
    {
      "cell_type": "markdown",
      "metadata": {
        "id": "iQXSH7TZe636",
        "colab_type": "text"
      },
      "source": [
        "# Import all the required packages and read the dataframe into a variable called bank_df"
      ]
    },
    {
      "cell_type": "code",
      "metadata": {
        "id": "cYO04Qyde638",
        "colab_type": "code",
        "colab": {}
      },
      "source": [
        "import numpy as np\n",
        "import pandas as pd\n",
        "import matplotlib.pyplot as plt\n",
        "import seaborn as sns"
      ],
      "execution_count": 0,
      "outputs": []
    },
    {
      "cell_type": "code",
      "metadata": {
        "id": "gWPlpyzQe64M",
        "colab_type": "code",
        "colab": {},
        "outputId": "be045725-ea6d-428a-f362-4073463d89e9"
      },
      "source": [
        "bank_df = pd.read_csv('Personal_Loan_Modelling.csv')\n",
        "bank_df.head()"
      ],
      "execution_count": 0,
      "outputs": [
        {
          "output_type": "execute_result",
          "data": {
            "text/html": [
              "<div>\n",
              "<style scoped>\n",
              "    .dataframe tbody tr th:only-of-type {\n",
              "        vertical-align: middle;\n",
              "    }\n",
              "\n",
              "    .dataframe tbody tr th {\n",
              "        vertical-align: top;\n",
              "    }\n",
              "\n",
              "    .dataframe thead th {\n",
              "        text-align: right;\n",
              "    }\n",
              "</style>\n",
              "<table border=\"1\" class=\"dataframe\">\n",
              "  <thead>\n",
              "    <tr style=\"text-align: right;\">\n",
              "      <th></th>\n",
              "      <th>ID</th>\n",
              "      <th>Age</th>\n",
              "      <th>Experience</th>\n",
              "      <th>Income</th>\n",
              "      <th>ZIP Code</th>\n",
              "      <th>Family</th>\n",
              "      <th>CCAvg</th>\n",
              "      <th>Education</th>\n",
              "      <th>Mortgage</th>\n",
              "      <th>Personal Loan</th>\n",
              "      <th>Securities Account</th>\n",
              "      <th>CD Account</th>\n",
              "      <th>Online</th>\n",
              "      <th>CreditCard</th>\n",
              "    </tr>\n",
              "  </thead>\n",
              "  <tbody>\n",
              "    <tr>\n",
              "      <th>0</th>\n",
              "      <td>1</td>\n",
              "      <td>25</td>\n",
              "      <td>1</td>\n",
              "      <td>49</td>\n",
              "      <td>91107</td>\n",
              "      <td>4</td>\n",
              "      <td>1.6</td>\n",
              "      <td>1</td>\n",
              "      <td>0</td>\n",
              "      <td>0</td>\n",
              "      <td>1</td>\n",
              "      <td>0</td>\n",
              "      <td>0</td>\n",
              "      <td>0</td>\n",
              "    </tr>\n",
              "    <tr>\n",
              "      <th>1</th>\n",
              "      <td>2</td>\n",
              "      <td>45</td>\n",
              "      <td>19</td>\n",
              "      <td>34</td>\n",
              "      <td>90089</td>\n",
              "      <td>3</td>\n",
              "      <td>1.5</td>\n",
              "      <td>1</td>\n",
              "      <td>0</td>\n",
              "      <td>0</td>\n",
              "      <td>1</td>\n",
              "      <td>0</td>\n",
              "      <td>0</td>\n",
              "      <td>0</td>\n",
              "    </tr>\n",
              "    <tr>\n",
              "      <th>2</th>\n",
              "      <td>3</td>\n",
              "      <td>39</td>\n",
              "      <td>15</td>\n",
              "      <td>11</td>\n",
              "      <td>94720</td>\n",
              "      <td>1</td>\n",
              "      <td>1.0</td>\n",
              "      <td>1</td>\n",
              "      <td>0</td>\n",
              "      <td>0</td>\n",
              "      <td>0</td>\n",
              "      <td>0</td>\n",
              "      <td>0</td>\n",
              "      <td>0</td>\n",
              "    </tr>\n",
              "    <tr>\n",
              "      <th>3</th>\n",
              "      <td>4</td>\n",
              "      <td>35</td>\n",
              "      <td>9</td>\n",
              "      <td>100</td>\n",
              "      <td>94112</td>\n",
              "      <td>1</td>\n",
              "      <td>2.7</td>\n",
              "      <td>2</td>\n",
              "      <td>0</td>\n",
              "      <td>0</td>\n",
              "      <td>0</td>\n",
              "      <td>0</td>\n",
              "      <td>0</td>\n",
              "      <td>0</td>\n",
              "    </tr>\n",
              "    <tr>\n",
              "      <th>4</th>\n",
              "      <td>5</td>\n",
              "      <td>35</td>\n",
              "      <td>8</td>\n",
              "      <td>45</td>\n",
              "      <td>91330</td>\n",
              "      <td>4</td>\n",
              "      <td>1.0</td>\n",
              "      <td>2</td>\n",
              "      <td>0</td>\n",
              "      <td>0</td>\n",
              "      <td>0</td>\n",
              "      <td>0</td>\n",
              "      <td>0</td>\n",
              "      <td>1</td>\n",
              "    </tr>\n",
              "  </tbody>\n",
              "</table>\n",
              "</div>"
            ],
            "text/plain": [
              "   ID  Age  Experience  Income  ZIP Code  Family  CCAvg  Education  Mortgage  \\\n",
              "0   1   25           1      49     91107       4    1.6          1         0   \n",
              "1   2   45          19      34     90089       3    1.5          1         0   \n",
              "2   3   39          15      11     94720       1    1.0          1         0   \n",
              "3   4   35           9     100     94112       1    2.7          2         0   \n",
              "4   5   35           8      45     91330       4    1.0          2         0   \n",
              "\n",
              "   Personal Loan  Securities Account  CD Account  Online  CreditCard  \n",
              "0              0                   1           0       0           0  \n",
              "1              0                   1           0       0           0  \n",
              "2              0                   0           0       0           0  \n",
              "3              0                   0           0       0           0  \n",
              "4              0                   0           0       0           1  "
            ]
          },
          "metadata": {
            "tags": []
          },
          "execution_count": 8
        }
      ]
    },
    {
      "cell_type": "markdown",
      "metadata": {
        "id": "g9sVkYV-e64a",
        "colab_type": "text"
      },
      "source": [
        "# Explore the dataset  and do the neccessary preprocessing for the attributes and state your insights"
      ]
    },
    {
      "cell_type": "code",
      "metadata": {
        "id": "881S27cAe64c",
        "colab_type": "code",
        "colab": {},
        "outputId": "3cb3b197-5876-4c8b-ddab-6bf1d7e102f8"
      },
      "source": [
        "bank_df.shape"
      ],
      "execution_count": 0,
      "outputs": [
        {
          "output_type": "execute_result",
          "data": {
            "text/plain": [
              "(5000, 14)"
            ]
          },
          "metadata": {
            "tags": []
          },
          "execution_count": 10
        }
      ]
    },
    {
      "cell_type": "code",
      "metadata": {
        "id": "UnNxFoPoe64l",
        "colab_type": "code",
        "colab": {},
        "outputId": "ca7990e0-7f14-47e5-edd6-6bd0cf316553"
      },
      "source": [
        "bank_df.info()"
      ],
      "execution_count": 0,
      "outputs": [
        {
          "output_type": "stream",
          "text": [
            "<class 'pandas.core.frame.DataFrame'>\n",
            "RangeIndex: 5000 entries, 0 to 4999\n",
            "Data columns (total 14 columns):\n",
            "ID                    5000 non-null int64\n",
            "Age                   5000 non-null int64\n",
            "Experience            5000 non-null int64\n",
            "Income                5000 non-null int64\n",
            "ZIP Code              5000 non-null int64\n",
            "Family                5000 non-null int64\n",
            "CCAvg                 5000 non-null float64\n",
            "Education             5000 non-null int64\n",
            "Mortgage              5000 non-null int64\n",
            "Personal Loan         5000 non-null int64\n",
            "Securities Account    5000 non-null int64\n",
            "CD Account            5000 non-null int64\n",
            "Online                5000 non-null int64\n",
            "CreditCard            5000 non-null int64\n",
            "dtypes: float64(1), int64(13)\n",
            "memory usage: 547.0 KB\n"
          ],
          "name": "stdout"
        }
      ]
    },
    {
      "cell_type": "markdown",
      "metadata": {
        "id": "w_DJDsqge64w",
        "colab_type": "text"
      },
      "source": [
        "### From the dataset:\n",
        "##### The dataset is found to have both numerical and categorical columns\n",
        "##### 6 categorical, 1 numerical(to be treated as categorical) - ZIP code\n",
        "##### ID column is of no use\n",
        "##### 6 numerical columns\n",
        "### The target column is 'Personal Loan'. This was infered from the problem statement.\n",
        "### The dataset is highly skewed towards people who have not opted personal loan. Only 480 out of 5000 have taken a loan"
      ]
    },
    {
      "cell_type": "code",
      "metadata": {
        "id": "M9GbFpgne64y",
        "colab_type": "code",
        "colab": {},
        "outputId": "68fc4115-505a-4769-aed2-f22e9e3fbd82"
      },
      "source": [
        "bank_df.describe().T"
      ],
      "execution_count": 0,
      "outputs": [
        {
          "output_type": "execute_result",
          "data": {
            "text/html": [
              "<div>\n",
              "<style scoped>\n",
              "    .dataframe tbody tr th:only-of-type {\n",
              "        vertical-align: middle;\n",
              "    }\n",
              "\n",
              "    .dataframe tbody tr th {\n",
              "        vertical-align: top;\n",
              "    }\n",
              "\n",
              "    .dataframe thead th {\n",
              "        text-align: right;\n",
              "    }\n",
              "</style>\n",
              "<table border=\"1\" class=\"dataframe\">\n",
              "  <thead>\n",
              "    <tr style=\"text-align: right;\">\n",
              "      <th></th>\n",
              "      <th>count</th>\n",
              "      <th>mean</th>\n",
              "      <th>std</th>\n",
              "      <th>min</th>\n",
              "      <th>25%</th>\n",
              "      <th>50%</th>\n",
              "      <th>75%</th>\n",
              "      <th>max</th>\n",
              "    </tr>\n",
              "  </thead>\n",
              "  <tbody>\n",
              "    <tr>\n",
              "      <th>ID</th>\n",
              "      <td>5000.0</td>\n",
              "      <td>2500.500000</td>\n",
              "      <td>1443.520003</td>\n",
              "      <td>1.0</td>\n",
              "      <td>1250.75</td>\n",
              "      <td>2500.5</td>\n",
              "      <td>3750.25</td>\n",
              "      <td>5000.0</td>\n",
              "    </tr>\n",
              "    <tr>\n",
              "      <th>Age</th>\n",
              "      <td>5000.0</td>\n",
              "      <td>45.338400</td>\n",
              "      <td>11.463166</td>\n",
              "      <td>23.0</td>\n",
              "      <td>35.00</td>\n",
              "      <td>45.0</td>\n",
              "      <td>55.00</td>\n",
              "      <td>67.0</td>\n",
              "    </tr>\n",
              "    <tr>\n",
              "      <th>Experience</th>\n",
              "      <td>5000.0</td>\n",
              "      <td>20.104600</td>\n",
              "      <td>11.467954</td>\n",
              "      <td>-3.0</td>\n",
              "      <td>10.00</td>\n",
              "      <td>20.0</td>\n",
              "      <td>30.00</td>\n",
              "      <td>43.0</td>\n",
              "    </tr>\n",
              "    <tr>\n",
              "      <th>Income</th>\n",
              "      <td>5000.0</td>\n",
              "      <td>73.774200</td>\n",
              "      <td>46.033729</td>\n",
              "      <td>8.0</td>\n",
              "      <td>39.00</td>\n",
              "      <td>64.0</td>\n",
              "      <td>98.00</td>\n",
              "      <td>224.0</td>\n",
              "    </tr>\n",
              "    <tr>\n",
              "      <th>ZIP Code</th>\n",
              "      <td>5000.0</td>\n",
              "      <td>93152.503000</td>\n",
              "      <td>2121.852197</td>\n",
              "      <td>9307.0</td>\n",
              "      <td>91911.00</td>\n",
              "      <td>93437.0</td>\n",
              "      <td>94608.00</td>\n",
              "      <td>96651.0</td>\n",
              "    </tr>\n",
              "    <tr>\n",
              "      <th>Family</th>\n",
              "      <td>5000.0</td>\n",
              "      <td>2.396400</td>\n",
              "      <td>1.147663</td>\n",
              "      <td>1.0</td>\n",
              "      <td>1.00</td>\n",
              "      <td>2.0</td>\n",
              "      <td>3.00</td>\n",
              "      <td>4.0</td>\n",
              "    </tr>\n",
              "    <tr>\n",
              "      <th>CCAvg</th>\n",
              "      <td>5000.0</td>\n",
              "      <td>1.937938</td>\n",
              "      <td>1.747659</td>\n",
              "      <td>0.0</td>\n",
              "      <td>0.70</td>\n",
              "      <td>1.5</td>\n",
              "      <td>2.50</td>\n",
              "      <td>10.0</td>\n",
              "    </tr>\n",
              "    <tr>\n",
              "      <th>Education</th>\n",
              "      <td>5000.0</td>\n",
              "      <td>1.881000</td>\n",
              "      <td>0.839869</td>\n",
              "      <td>1.0</td>\n",
              "      <td>1.00</td>\n",
              "      <td>2.0</td>\n",
              "      <td>3.00</td>\n",
              "      <td>3.0</td>\n",
              "    </tr>\n",
              "    <tr>\n",
              "      <th>Mortgage</th>\n",
              "      <td>5000.0</td>\n",
              "      <td>56.498800</td>\n",
              "      <td>101.713802</td>\n",
              "      <td>0.0</td>\n",
              "      <td>0.00</td>\n",
              "      <td>0.0</td>\n",
              "      <td>101.00</td>\n",
              "      <td>635.0</td>\n",
              "    </tr>\n",
              "    <tr>\n",
              "      <th>Personal Loan</th>\n",
              "      <td>5000.0</td>\n",
              "      <td>0.096000</td>\n",
              "      <td>0.294621</td>\n",
              "      <td>0.0</td>\n",
              "      <td>0.00</td>\n",
              "      <td>0.0</td>\n",
              "      <td>0.00</td>\n",
              "      <td>1.0</td>\n",
              "    </tr>\n",
              "    <tr>\n",
              "      <th>Securities Account</th>\n",
              "      <td>5000.0</td>\n",
              "      <td>0.104400</td>\n",
              "      <td>0.305809</td>\n",
              "      <td>0.0</td>\n",
              "      <td>0.00</td>\n",
              "      <td>0.0</td>\n",
              "      <td>0.00</td>\n",
              "      <td>1.0</td>\n",
              "    </tr>\n",
              "    <tr>\n",
              "      <th>CD Account</th>\n",
              "      <td>5000.0</td>\n",
              "      <td>0.060400</td>\n",
              "      <td>0.238250</td>\n",
              "      <td>0.0</td>\n",
              "      <td>0.00</td>\n",
              "      <td>0.0</td>\n",
              "      <td>0.00</td>\n",
              "      <td>1.0</td>\n",
              "    </tr>\n",
              "    <tr>\n",
              "      <th>Online</th>\n",
              "      <td>5000.0</td>\n",
              "      <td>0.596800</td>\n",
              "      <td>0.490589</td>\n",
              "      <td>0.0</td>\n",
              "      <td>0.00</td>\n",
              "      <td>1.0</td>\n",
              "      <td>1.00</td>\n",
              "      <td>1.0</td>\n",
              "    </tr>\n",
              "    <tr>\n",
              "      <th>CreditCard</th>\n",
              "      <td>5000.0</td>\n",
              "      <td>0.294000</td>\n",
              "      <td>0.455637</td>\n",
              "      <td>0.0</td>\n",
              "      <td>0.00</td>\n",
              "      <td>0.0</td>\n",
              "      <td>1.00</td>\n",
              "      <td>1.0</td>\n",
              "    </tr>\n",
              "  </tbody>\n",
              "</table>\n",
              "</div>"
            ],
            "text/plain": [
              "                     count          mean          std     min       25%  \\\n",
              "ID                  5000.0   2500.500000  1443.520003     1.0   1250.75   \n",
              "Age                 5000.0     45.338400    11.463166    23.0     35.00   \n",
              "Experience          5000.0     20.104600    11.467954    -3.0     10.00   \n",
              "Income              5000.0     73.774200    46.033729     8.0     39.00   \n",
              "ZIP Code            5000.0  93152.503000  2121.852197  9307.0  91911.00   \n",
              "Family              5000.0      2.396400     1.147663     1.0      1.00   \n",
              "CCAvg               5000.0      1.937938     1.747659     0.0      0.70   \n",
              "Education           5000.0      1.881000     0.839869     1.0      1.00   \n",
              "Mortgage            5000.0     56.498800   101.713802     0.0      0.00   \n",
              "Personal Loan       5000.0      0.096000     0.294621     0.0      0.00   \n",
              "Securities Account  5000.0      0.104400     0.305809     0.0      0.00   \n",
              "CD Account          5000.0      0.060400     0.238250     0.0      0.00   \n",
              "Online              5000.0      0.596800     0.490589     0.0      0.00   \n",
              "CreditCard          5000.0      0.294000     0.455637     0.0      0.00   \n",
              "\n",
              "                        50%       75%      max  \n",
              "ID                   2500.5   3750.25   5000.0  \n",
              "Age                    45.0     55.00     67.0  \n",
              "Experience             20.0     30.00     43.0  \n",
              "Income                 64.0     98.00    224.0  \n",
              "ZIP Code            93437.0  94608.00  96651.0  \n",
              "Family                  2.0      3.00      4.0  \n",
              "CCAvg                   1.5      2.50     10.0  \n",
              "Education               2.0      3.00      3.0  \n",
              "Mortgage                0.0    101.00    635.0  \n",
              "Personal Loan           0.0      0.00      1.0  \n",
              "Securities Account      0.0      0.00      1.0  \n",
              "CD Account              0.0      0.00      1.0  \n",
              "Online                  1.0      1.00      1.0  \n",
              "CreditCard              0.0      1.00      1.0  "
            ]
          },
          "metadata": {
            "tags": []
          },
          "execution_count": 12
        }
      ]
    },
    {
      "cell_type": "markdown",
      "metadata": {
        "id": "Hk6BJHMhe647",
        "colab_type": "text"
      },
      "source": [
        "### Inferences from the above data:\n",
        "##### The mean and median were found to be more or less the same for the numerical columns\n",
        "##### Income column is highly skewed towards a higher income value\n",
        "##### Checking the statistical information after preprocessing will give us a better understanding"
      ]
    },
    {
      "cell_type": "markdown",
      "metadata": {
        "id": "Ax2npJkpe649",
        "colab_type": "text"
      },
      "source": [
        "### Discripencies found:\n",
        "1. Person with no credit card is has non-zero CCAvg(Average amount spent on credit card)\n",
        "2. Experience in years is negative\n"
      ]
    },
    {
      "cell_type": "code",
      "metadata": {
        "id": "XKA_sKgDe64-",
        "colab_type": "code",
        "colab": {},
        "outputId": "772bfa18-0c27-404c-c22c-5c24476ecf58"
      },
      "source": [
        "temp = bank_df[['Income', 'CCAvg', 'Mortgage']]\n",
        "temp.plot(kind='box', figsize=(12,12))"
      ],
      "execution_count": 0,
      "outputs": [
        {
          "output_type": "execute_result",
          "data": {
            "text/plain": [
              "<matplotlib.axes._subplots.AxesSubplot at 0x1cdeb2a1978>"
            ]
          },
          "metadata": {
            "tags": []
          },
          "execution_count": 70
        },
        {
          "output_type": "display_data",
          "data": {
            "image/png": "[encoded data removed]",
            "text/plain": [
              "<Figure size 864x864 with 1 Axes>"
            ]
          },
          "metadata": {
            "tags": [],
            "needs_background": "light"
          }
        }
      ]
    },
    {
      "cell_type": "markdown",
      "metadata": {
        "id": "1SJxzKMXe65G",
        "colab_type": "text"
      },
      "source": [
        "#### The above box plots imply the high biasness in certain columns. These columns were plotted because they were found to have skewness and possible outliers from the \"bank_df.describe()\" command."
      ]
    },
    {
      "cell_type": "code",
      "metadata": {
        "id": "xBqzdRZbe65H",
        "colab_type": "code",
        "colab": {},
        "outputId": "f28ee170-871d-4cf7-a06c-5e026e2d7272"
      },
      "source": [
        "for i in ['Income', 'CCAvg', 'Mortgage']:    \n",
        "    plt.figure()\n",
        "    sns.distplot(bank_df[i])"
      ],
      "execution_count": 0,
      "outputs": [
        {
          "output_type": "stream",
          "text": [
            "C:\\Anaconda3\\lib\\site-packages\\scipy\\stats\\stats.py:1713: FutureWarning: Using a non-tuple sequence for multidimensional indexing is deprecated; use `arr[tuple(seq)]` instead of `arr[seq]`. In the future this will be interpreted as an array index, `arr[np.array(seq)]`, which will result either in an error or a different result.\n",
            "  return np.add.reduce(sorted[indexer] * weights, axis=axis) / sumval\n"
          ],
          "name": "stderr"
        },
        {
          "output_type": "display_data",
          "data": {
            "image/png": "[encoded data removed]",
            "text/plain": [
              "<Figure size 432x288 with 1 Axes>"
            ]
          },
          "metadata": {
            "tags": [],
            "needs_background": "light"
          }
        },
        {
          "output_type": "display_data",
          "data": {
            "image/png": "[encoded data removed]",
            "text/plain": [
              "<Figure size 432x288 with 1 Axes>"
            ]
          },
          "metadata": {
            "tags": [],
            "needs_background": "light"
          }
        },
        {
          "output_type": "display_data",
          "data": {
            "image/png": "[encoded data removed]",
            "text/plain": [
              "<Figure size 432x288 with 1 Axes>"
            ]
          },
          "metadata": {
            "tags": [],
            "needs_background": "light"
          }
        }
      ]
    },
    {
      "cell_type": "markdown",
      "metadata": {
        "id": "Jl455QmFe65S",
        "colab_type": "text"
      },
      "source": [
        "#### This plot is to check for the skewness and to check the biasness in the data."
      ]
    },
    {
      "cell_type": "code",
      "metadata": {
        "id": "5qFLWvYxe65U",
        "colab_type": "code",
        "colab": {},
        "outputId": "4ea6fac7-cab3-4faa-d204-db8db34ec10b"
      },
      "source": [
        "# Person with no credit card is has non-zero CCAvg\n",
        "bank_df['CCAvg'] = bank_df['CCAvg']*bank_df['CreditCard']\n",
        "bank_df.head()\n",
        "\n",
        "# The discrepency was found to be removed"
      ],
      "execution_count": 0,
      "outputs": [
        {
          "output_type": "execute_result",
          "data": {
            "text/html": [
              "<div>\n",
              "<style scoped>\n",
              "    .dataframe tbody tr th:only-of-type {\n",
              "        vertical-align: middle;\n",
              "    }\n",
              "\n",
              "    .dataframe tbody tr th {\n",
              "        vertical-align: top;\n",
              "    }\n",
              "\n",
              "    .dataframe thead th {\n",
              "        text-align: right;\n",
              "    }\n",
              "</style>\n",
              "<table border=\"1\" class=\"dataframe\">\n",
              "  <thead>\n",
              "    <tr style=\"text-align: right;\">\n",
              "      <th></th>\n",
              "      <th>ID</th>\n",
              "      <th>Age</th>\n",
              "      <th>Experience</th>\n",
              "      <th>Income</th>\n",
              "      <th>ZIP Code</th>\n",
              "      <th>Family</th>\n",
              "      <th>CCAvg</th>\n",
              "      <th>Education</th>\n",
              "      <th>Mortgage</th>\n",
              "      <th>Personal Loan</th>\n",
              "      <th>Securities Account</th>\n",
              "      <th>CD Account</th>\n",
              "      <th>Online</th>\n",
              "      <th>CreditCard</th>\n",
              "    </tr>\n",
              "  </thead>\n",
              "  <tbody>\n",
              "    <tr>\n",
              "      <th>0</th>\n",
              "      <td>1</td>\n",
              "      <td>25</td>\n",
              "      <td>1</td>\n",
              "      <td>49</td>\n",
              "      <td>91107</td>\n",
              "      <td>4</td>\n",
              "      <td>0.0</td>\n",
              "      <td>1</td>\n",
              "      <td>0</td>\n",
              "      <td>0</td>\n",
              "      <td>1</td>\n",
              "      <td>0</td>\n",
              "      <td>0</td>\n",
              "      <td>0</td>\n",
              "    </tr>\n",
              "    <tr>\n",
              "      <th>1</th>\n",
              "      <td>2</td>\n",
              "      <td>45</td>\n",
              "      <td>19</td>\n",
              "      <td>34</td>\n",
              "      <td>90089</td>\n",
              "      <td>3</td>\n",
              "      <td>0.0</td>\n",
              "      <td>1</td>\n",
              "      <td>0</td>\n",
              "      <td>0</td>\n",
              "      <td>1</td>\n",
              "      <td>0</td>\n",
              "      <td>0</td>\n",
              "      <td>0</td>\n",
              "    </tr>\n",
              "    <tr>\n",
              "      <th>2</th>\n",
              "      <td>3</td>\n",
              "      <td>39</td>\n",
              "      <td>15</td>\n",
              "      <td>11</td>\n",
              "      <td>94720</td>\n",
              "      <td>1</td>\n",
              "      <td>0.0</td>\n",
              "      <td>1</td>\n",
              "      <td>0</td>\n",
              "      <td>0</td>\n",
              "      <td>0</td>\n",
              "      <td>0</td>\n",
              "      <td>0</td>\n",
              "      <td>0</td>\n",
              "    </tr>\n",
              "    <tr>\n",
              "      <th>3</th>\n",
              "      <td>4</td>\n",
              "      <td>35</td>\n",
              "      <td>9</td>\n",
              "      <td>100</td>\n",
              "      <td>94112</td>\n",
              "      <td>1</td>\n",
              "      <td>0.0</td>\n",
              "      <td>2</td>\n",
              "      <td>0</td>\n",
              "      <td>0</td>\n",
              "      <td>0</td>\n",
              "      <td>0</td>\n",
              "      <td>0</td>\n",
              "      <td>0</td>\n",
              "    </tr>\n",
              "    <tr>\n",
              "      <th>4</th>\n",
              "      <td>5</td>\n",
              "      <td>35</td>\n",
              "      <td>8</td>\n",
              "      <td>45</td>\n",
              "      <td>91330</td>\n",
              "      <td>4</td>\n",
              "      <td>1.0</td>\n",
              "      <td>2</td>\n",
              "      <td>0</td>\n",
              "      <td>0</td>\n",
              "      <td>0</td>\n",
              "      <td>0</td>\n",
              "      <td>0</td>\n",
              "      <td>1</td>\n",
              "    </tr>\n",
              "  </tbody>\n",
              "</table>\n",
              "</div>"
            ],
            "text/plain": [
              "   ID  Age  Experience  Income  ZIP Code  Family  CCAvg  Education  Mortgage  \\\n",
              "0   1   25           1      49     91107       4    0.0          1         0   \n",
              "1   2   45          19      34     90089       3    0.0          1         0   \n",
              "2   3   39          15      11     94720       1    0.0          1         0   \n",
              "3   4   35           9     100     94112       1    0.0          2         0   \n",
              "4   5   35           8      45     91330       4    1.0          2         0   \n",
              "\n",
              "   Personal Loan  Securities Account  CD Account  Online  CreditCard  \n",
              "0              0                   1           0       0           0  \n",
              "1              0                   1           0       0           0  \n",
              "2              0                   0           0       0           0  \n",
              "3              0                   0           0       0           0  \n",
              "4              0                   0           0       0           1  "
            ]
          },
          "metadata": {
            "tags": []
          },
          "execution_count": 15
        }
      ]
    },
    {
      "cell_type": "markdown",
      "metadata": {
        "id": "3RycPmLme65c",
        "colab_type": "text"
      },
      "source": [
        "##### Dropping the negative values could be a solution for the discripency 2. But vouching to a customer who would not be interested is better than not vouching to a potential customer. Therefore, we can take the absolute value of the negative values. There is also the chance of the positive value being entered as a negative value(human data entry error)."
      ]
    },
    {
      "cell_type": "code",
      "metadata": {
        "id": "3tQcouRde65e",
        "colab_type": "code",
        "colab": {},
        "outputId": "43b5d913-224e-4adc-b7ac-69115d848365"
      },
      "source": [
        "# Experience in years is negative\n",
        "bank_df['Experience'] = bank_df['Experience'].abs()\n",
        "bank_df['Experience'].min()\n",
        "\n",
        "# The discrepency was found to be removed"
      ],
      "execution_count": 0,
      "outputs": [
        {
          "output_type": "execute_result",
          "data": {
            "text/plain": [
              "0"
            ]
          },
          "metadata": {
            "tags": []
          },
          "execution_count": 16
        }
      ]
    },
    {
      "cell_type": "markdown",
      "metadata": {
        "id": "hKvox41ie65l",
        "colab_type": "text"
      },
      "source": [
        "##### Checking whether the family column has any 0 values(no member in the family). No issues were found."
      ]
    },
    {
      "cell_type": "code",
      "metadata": {
        "id": "UatqvOZIe65m",
        "colab_type": "code",
        "colab": {},
        "outputId": "012a4257-d4ba-4902-fe90-042c8760b9d2"
      },
      "source": [
        "bank_df['Family'][bank_df['Family']==0].count()"
      ],
      "execution_count": 0,
      "outputs": [
        {
          "output_type": "execute_result",
          "data": {
            "text/plain": [
              "0"
            ]
          },
          "metadata": {
            "tags": []
          },
          "execution_count": 17
        }
      ]
    },
    {
      "cell_type": "markdown",
      "metadata": {
        "id": "hROFprp2e650",
        "colab_type": "text"
      },
      "source": [
        "##### Checking whether to encode the zipcode column. All the 5000 people are from one of these 467 regions. This could play a vital role in deciding which area to target inorder to get more customers. Therefore, we can encode our ZIP code column.\n",
        "##### Onehot encoding cannot be done because of a high quantity of unique values"
      ]
    },
    {
      "cell_type": "code",
      "metadata": {
        "id": "8CgZeeQZe651",
        "colab_type": "code",
        "colab": {},
        "outputId": "06d89321-3845-4cf8-acd1-984d91b901f8"
      },
      "source": [
        "bank_df['ZIP Code'].unique().shape"
      ],
      "execution_count": 0,
      "outputs": [
        {
          "output_type": "execute_result",
          "data": {
            "text/plain": [
              "(467,)"
            ]
          },
          "metadata": {
            "tags": []
          },
          "execution_count": 18
        }
      ]
    },
    {
      "cell_type": "code",
      "metadata": {
        "id": "LnSxb3nRe657",
        "colab_type": "code",
        "colab": {}
      },
      "source": [
        "from sklearn.preprocessing import LabelEncoder"
      ],
      "execution_count": 0,
      "outputs": []
    },
    {
      "cell_type": "code",
      "metadata": {
        "id": "o5i6abmte66D",
        "colab_type": "code",
        "colab": {},
        "outputId": "02268bf6-d3e2-4b3b-f22c-148b4acb7fa0"
      },
      "source": [
        "bank_df.columns"
      ],
      "execution_count": 0,
      "outputs": [
        {
          "output_type": "execute_result",
          "data": {
            "text/plain": [
              "Index(['ID', 'Age', 'Experience', 'Income', 'ZIP Code', 'Family', 'CCAvg',\n",
              "       'Education', 'Mortgage', 'Personal Loan', 'Securities Account',\n",
              "       'CD Account', 'Online', 'CreditCard'],\n",
              "      dtype='object')"
            ]
          },
          "metadata": {
            "tags": []
          },
          "execution_count": 20
        }
      ]
    },
    {
      "cell_type": "code",
      "metadata": {
        "id": "GPPq5Pgae66L",
        "colab_type": "code",
        "colab": {},
        "outputId": "0393b3c1-1d03-461a-d741-6504cf269395"
      },
      "source": [
        "label_encoder = LabelEncoder()\n",
        "bank_df['ZIP Code'] = label_encoder.fit_transform(bank_df['ZIP Code'])\n",
        "bank_df.head()"
      ],
      "execution_count": 0,
      "outputs": [
        {
          "output_type": "execute_result",
          "data": {
            "text/html": [
              "<div>\n",
              "<style scoped>\n",
              "    .dataframe tbody tr th:only-of-type {\n",
              "        vertical-align: middle;\n",
              "    }\n",
              "\n",
              "    .dataframe tbody tr th {\n",
              "        vertical-align: top;\n",
              "    }\n",
              "\n",
              "    .dataframe thead th {\n",
              "        text-align: right;\n",
              "    }\n",
              "</style>\n",
              "<table border=\"1\" class=\"dataframe\">\n",
              "  <thead>\n",
              "    <tr style=\"text-align: right;\">\n",
              "      <th></th>\n",
              "      <th>ID</th>\n",
              "      <th>Age</th>\n",
              "      <th>Experience</th>\n",
              "      <th>Income</th>\n",
              "      <th>ZIP Code</th>\n",
              "      <th>Family</th>\n",
              "      <th>CCAvg</th>\n",
              "      <th>Education</th>\n",
              "      <th>Mortgage</th>\n",
              "      <th>Personal Loan</th>\n",
              "      <th>Securities Account</th>\n",
              "      <th>CD Account</th>\n",
              "      <th>Online</th>\n",
              "      <th>CreditCard</th>\n",
              "    </tr>\n",
              "  </thead>\n",
              "  <tbody>\n",
              "    <tr>\n",
              "      <th>0</th>\n",
              "      <td>1</td>\n",
              "      <td>25</td>\n",
              "      <td>1</td>\n",
              "      <td>49</td>\n",
              "      <td>83</td>\n",
              "      <td>4</td>\n",
              "      <td>0.0</td>\n",
              "      <td>1</td>\n",
              "      <td>0</td>\n",
              "      <td>0</td>\n",
              "      <td>1</td>\n",
              "      <td>0</td>\n",
              "      <td>0</td>\n",
              "      <td>0</td>\n",
              "    </tr>\n",
              "    <tr>\n",
              "      <th>1</th>\n",
              "      <td>2</td>\n",
              "      <td>45</td>\n",
              "      <td>19</td>\n",
              "      <td>34</td>\n",
              "      <td>34</td>\n",
              "      <td>3</td>\n",
              "      <td>0.0</td>\n",
              "      <td>1</td>\n",
              "      <td>0</td>\n",
              "      <td>0</td>\n",
              "      <td>1</td>\n",
              "      <td>0</td>\n",
              "      <td>0</td>\n",
              "      <td>0</td>\n",
              "    </tr>\n",
              "    <tr>\n",
              "      <th>2</th>\n",
              "      <td>3</td>\n",
              "      <td>39</td>\n",
              "      <td>15</td>\n",
              "      <td>11</td>\n",
              "      <td>367</td>\n",
              "      <td>1</td>\n",
              "      <td>0.0</td>\n",
              "      <td>1</td>\n",
              "      <td>0</td>\n",
              "      <td>0</td>\n",
              "      <td>0</td>\n",
              "      <td>0</td>\n",
              "      <td>0</td>\n",
              "      <td>0</td>\n",
              "    </tr>\n",
              "    <tr>\n",
              "      <th>3</th>\n",
              "      <td>4</td>\n",
              "      <td>35</td>\n",
              "      <td>9</td>\n",
              "      <td>100</td>\n",
              "      <td>298</td>\n",
              "      <td>1</td>\n",
              "      <td>0.0</td>\n",
              "      <td>2</td>\n",
              "      <td>0</td>\n",
              "      <td>0</td>\n",
              "      <td>0</td>\n",
              "      <td>0</td>\n",
              "      <td>0</td>\n",
              "      <td>0</td>\n",
              "    </tr>\n",
              "    <tr>\n",
              "      <th>4</th>\n",
              "      <td>5</td>\n",
              "      <td>35</td>\n",
              "      <td>8</td>\n",
              "      <td>45</td>\n",
              "      <td>96</td>\n",
              "      <td>4</td>\n",
              "      <td>1.0</td>\n",
              "      <td>2</td>\n",
              "      <td>0</td>\n",
              "      <td>0</td>\n",
              "      <td>0</td>\n",
              "      <td>0</td>\n",
              "      <td>0</td>\n",
              "      <td>1</td>\n",
              "    </tr>\n",
              "  </tbody>\n",
              "</table>\n",
              "</div>"
            ],
            "text/plain": [
              "   ID  Age  Experience  Income  ZIP Code  Family  CCAvg  Education  Mortgage  \\\n",
              "0   1   25           1      49        83       4    0.0          1         0   \n",
              "1   2   45          19      34        34       3    0.0          1         0   \n",
              "2   3   39          15      11       367       1    0.0          1         0   \n",
              "3   4   35           9     100       298       1    0.0          2         0   \n",
              "4   5   35           8      45        96       4    1.0          2         0   \n",
              "\n",
              "   Personal Loan  Securities Account  CD Account  Online  CreditCard  \n",
              "0              0                   1           0       0           0  \n",
              "1              0                   1           0       0           0  \n",
              "2              0                   0           0       0           0  \n",
              "3              0                   0           0       0           0  \n",
              "4              0                   0           0       0           1  "
            ]
          },
          "metadata": {
            "tags": []
          },
          "execution_count": 21
        }
      ]
    },
    {
      "cell_type": "markdown",
      "metadata": {
        "collapsed": true,
        "id": "K7fdaMF6e66R",
        "colab_type": "text"
      },
      "source": [
        "##### Now scaling has to be done because the column values are of different ranges. This will lead to wrong feature selection when variance is considered without scaling."
      ]
    },
    {
      "cell_type": "code",
      "metadata": {
        "id": "eBTMcvhIe66S",
        "colab_type": "code",
        "colab": {}
      },
      "source": [
        "from sklearn.preprocessing import MinMaxScaler"
      ],
      "execution_count": 0,
      "outputs": []
    },
    {
      "cell_type": "code",
      "metadata": {
        "id": "YRyXa7S6e66X",
        "colab_type": "code",
        "colab": {},
        "outputId": "11b40169-bdf6-47d9-c51b-a1d195f2322e"
      },
      "source": [
        "scaler = MinMaxScaler()\n",
        "for column in ['Age', 'Experience', 'Income', 'Family', 'CCAvg', 'Education', 'Mortgage']:\n",
        "    bank_df[column] = scaler.fit_transform(bank_df[[column]])"
      ],
      "execution_count": 0,
      "outputs": [
        {
          "output_type": "stream",
          "text": [
            "C:\\Anaconda3\\lib\\site-packages\\sklearn\\preprocessing\\data.py:323: DataConversionWarning: Data with input dtype int64 were all converted to float64 by MinMaxScaler.\n",
            "  return self.partial_fit(X, y)\n",
            "C:\\Anaconda3\\lib\\site-packages\\sklearn\\preprocessing\\data.py:323: DataConversionWarning: Data with input dtype int64 were all converted to float64 by MinMaxScaler.\n",
            "  return self.partial_fit(X, y)\n",
            "C:\\Anaconda3\\lib\\site-packages\\sklearn\\preprocessing\\data.py:323: DataConversionWarning: Data with input dtype int64 were all converted to float64 by MinMaxScaler.\n",
            "  return self.partial_fit(X, y)\n",
            "C:\\Anaconda3\\lib\\site-packages\\sklearn\\preprocessing\\data.py:323: DataConversionWarning: Data with input dtype int64 were all converted to float64 by MinMaxScaler.\n",
            "  return self.partial_fit(X, y)\n",
            "C:\\Anaconda3\\lib\\site-packages\\sklearn\\preprocessing\\data.py:323: DataConversionWarning: Data with input dtype int64 were all converted to float64 by MinMaxScaler.\n",
            "  return self.partial_fit(X, y)\n",
            "C:\\Anaconda3\\lib\\site-packages\\sklearn\\preprocessing\\data.py:323: DataConversionWarning: Data with input dtype int64 were all converted to float64 by MinMaxScaler.\n",
            "  return self.partial_fit(X, y)\n"
          ],
          "name": "stderr"
        }
      ]
    },
    {
      "cell_type": "code",
      "metadata": {
        "id": "vwbvJ4X_e66e",
        "colab_type": "code",
        "colab": {},
        "outputId": "c266e378-080e-49a3-e4fd-81a9c56a1899"
      },
      "source": [
        "bank_df.head()\n",
        "# The values have been scaled to the range 0-1"
      ],
      "execution_count": 0,
      "outputs": [
        {
          "output_type": "execute_result",
          "data": {
            "text/html": [
              "<div>\n",
              "<style scoped>\n",
              "    .dataframe tbody tr th:only-of-type {\n",
              "        vertical-align: middle;\n",
              "    }\n",
              "\n",
              "    .dataframe tbody tr th {\n",
              "        vertical-align: top;\n",
              "    }\n",
              "\n",
              "    .dataframe thead th {\n",
              "        text-align: right;\n",
              "    }\n",
              "</style>\n",
              "<table border=\"1\" class=\"dataframe\">\n",
              "  <thead>\n",
              "    <tr style=\"text-align: right;\">\n",
              "      <th></th>\n",
              "      <th>ID</th>\n",
              "      <th>Age</th>\n",
              "      <th>Experience</th>\n",
              "      <th>Income</th>\n",
              "      <th>ZIP Code</th>\n",
              "      <th>Family</th>\n",
              "      <th>CCAvg</th>\n",
              "      <th>Education</th>\n",
              "      <th>Mortgage</th>\n",
              "      <th>Personal Loan</th>\n",
              "      <th>Securities Account</th>\n",
              "      <th>CD Account</th>\n",
              "      <th>Online</th>\n",
              "      <th>CreditCard</th>\n",
              "    </tr>\n",
              "  </thead>\n",
              "  <tbody>\n",
              "    <tr>\n",
              "      <th>0</th>\n",
              "      <td>1</td>\n",
              "      <td>0.045455</td>\n",
              "      <td>0.023256</td>\n",
              "      <td>0.189815</td>\n",
              "      <td>83</td>\n",
              "      <td>1.000000</td>\n",
              "      <td>0.0</td>\n",
              "      <td>0.0</td>\n",
              "      <td>0.0</td>\n",
              "      <td>0</td>\n",
              "      <td>1</td>\n",
              "      <td>0</td>\n",
              "      <td>0</td>\n",
              "      <td>0</td>\n",
              "    </tr>\n",
              "    <tr>\n",
              "      <th>1</th>\n",
              "      <td>2</td>\n",
              "      <td>0.500000</td>\n",
              "      <td>0.441860</td>\n",
              "      <td>0.120370</td>\n",
              "      <td>34</td>\n",
              "      <td>0.666667</td>\n",
              "      <td>0.0</td>\n",
              "      <td>0.0</td>\n",
              "      <td>0.0</td>\n",
              "      <td>0</td>\n",
              "      <td>1</td>\n",
              "      <td>0</td>\n",
              "      <td>0</td>\n",
              "      <td>0</td>\n",
              "    </tr>\n",
              "    <tr>\n",
              "      <th>2</th>\n",
              "      <td>3</td>\n",
              "      <td>0.363636</td>\n",
              "      <td>0.348837</td>\n",
              "      <td>0.013889</td>\n",
              "      <td>367</td>\n",
              "      <td>0.000000</td>\n",
              "      <td>0.0</td>\n",
              "      <td>0.0</td>\n",
              "      <td>0.0</td>\n",
              "      <td>0</td>\n",
              "      <td>0</td>\n",
              "      <td>0</td>\n",
              "      <td>0</td>\n",
              "      <td>0</td>\n",
              "    </tr>\n",
              "    <tr>\n",
              "      <th>3</th>\n",
              "      <td>4</td>\n",
              "      <td>0.272727</td>\n",
              "      <td>0.209302</td>\n",
              "      <td>0.425926</td>\n",
              "      <td>298</td>\n",
              "      <td>0.000000</td>\n",
              "      <td>0.0</td>\n",
              "      <td>0.5</td>\n",
              "      <td>0.0</td>\n",
              "      <td>0</td>\n",
              "      <td>0</td>\n",
              "      <td>0</td>\n",
              "      <td>0</td>\n",
              "      <td>0</td>\n",
              "    </tr>\n",
              "    <tr>\n",
              "      <th>4</th>\n",
              "      <td>5</td>\n",
              "      <td>0.272727</td>\n",
              "      <td>0.186047</td>\n",
              "      <td>0.171296</td>\n",
              "      <td>96</td>\n",
              "      <td>1.000000</td>\n",
              "      <td>0.1</td>\n",
              "      <td>0.5</td>\n",
              "      <td>0.0</td>\n",
              "      <td>0</td>\n",
              "      <td>0</td>\n",
              "      <td>0</td>\n",
              "      <td>0</td>\n",
              "      <td>1</td>\n",
              "    </tr>\n",
              "  </tbody>\n",
              "</table>\n",
              "</div>"
            ],
            "text/plain": [
              "   ID       Age  Experience    Income  ZIP Code    Family  CCAvg  Education  \\\n",
              "0   1  0.045455    0.023256  0.189815        83  1.000000    0.0        0.0   \n",
              "1   2  0.500000    0.441860  0.120370        34  0.666667    0.0        0.0   \n",
              "2   3  0.363636    0.348837  0.013889       367  0.000000    0.0        0.0   \n",
              "3   4  0.272727    0.209302  0.425926       298  0.000000    0.0        0.5   \n",
              "4   5  0.272727    0.186047  0.171296        96  1.000000    0.1        0.5   \n",
              "\n",
              "   Mortgage  Personal Loan  Securities Account  CD Account  Online  CreditCard  \n",
              "0       0.0              0                   1           0       0           0  \n",
              "1       0.0              0                   1           0       0           0  \n",
              "2       0.0              0                   0           0       0           0  \n",
              "3       0.0              0                   0           0       0           0  \n",
              "4       0.0              0                   0           0       0           1  "
            ]
          },
          "metadata": {
            "tags": []
          },
          "execution_count": 24
        }
      ]
    },
    {
      "cell_type": "markdown",
      "metadata": {
        "id": "PihVMn2be66k",
        "colab_type": "text"
      },
      "source": [
        "#### Removal of outliers -- The general notion is that people with high income would not opt for personal loan. This idea can be used as the base for not removing the outliers. The higher the income, the lower the chance of them getting a loan.\n",
        "\n",
        "Before outlier removal:\n",
        "    Count of people who took perosnal loan = 480\n",
        "\n",
        "After outlier removal:\n",
        "    Count of people who took perosnal loan = 438\n",
        "    \n",
        "### This proves that removing outliers further increases the bias in the dataset. Therefore, outliers were not removed. It also proves that people with high income also take personal loans which disproves the above general notion."
      ]
    },
    {
      "cell_type": "code",
      "metadata": {
        "id": "IxlDDuHZe66n",
        "colab_type": "code",
        "colab": {}
      },
      "source": [
        "# bank_df['Personal Loan'].sum()"
      ],
      "execution_count": 0,
      "outputs": []
    },
    {
      "cell_type": "code",
      "metadata": {
        "id": "GeKTvNkMe66u",
        "colab_type": "code",
        "colab": {}
      },
      "source": [
        "# for outlier in ['Income']:\n",
        "#     q1 = bank_df[outlier].quantile(0.25)\n",
        "#     q3 = bank_df[outlier].quantile(0.75)\n",
        "#     iqr = q3-q1\n",
        "#     a = q1-1.5*iqr\n",
        "#     b = q3+1.5*iqr\n",
        "#     bank_df = bank_df[bank_df[outlier]>a]\n",
        "#     bank_df = bank_df[bank_df[outlier]<b]"
      ],
      "execution_count": 0,
      "outputs": []
    },
    {
      "cell_type": "code",
      "metadata": {
        "id": "U17cG5sWe66z",
        "colab_type": "code",
        "colab": {},
        "outputId": "566754cb-338d-4986-992b-082d25955d78"
      },
      "source": [
        "bank_df.shape"
      ],
      "execution_count": 0,
      "outputs": [
        {
          "output_type": "execute_result",
          "data": {
            "text/plain": [
              "(5000, 14)"
            ]
          },
          "metadata": {
            "tags": []
          },
          "execution_count": 27
        }
      ]
    },
    {
      "cell_type": "markdown",
      "metadata": {
        "id": "T4c-JDKee668",
        "colab_type": "text"
      },
      "source": [
        "# Separate the independent attributes and store them in X array. Store the target column into Y array"
      ]
    },
    {
      "cell_type": "code",
      "metadata": {
        "id": "POTSPViqe669",
        "colab_type": "code",
        "colab": {},
        "outputId": "138c3a09-63c9-4a5b-e117-3ca190a42d16"
      },
      "source": [
        "data_columns = list(bank_df.columns)\n",
        "data_columns"
      ],
      "execution_count": 0,
      "outputs": [
        {
          "output_type": "execute_result",
          "data": {
            "text/plain": [
              "['ID',\n",
              " 'Age',\n",
              " 'Experience',\n",
              " 'Income',\n",
              " 'ZIP Code',\n",
              " 'Family',\n",
              " 'CCAvg',\n",
              " 'Education',\n",
              " 'Mortgage',\n",
              " 'Personal Loan',\n",
              " 'Securities Account',\n",
              " 'CD Account',\n",
              " 'Online',\n",
              " 'CreditCard']"
            ]
          },
          "metadata": {
            "tags": []
          },
          "execution_count": 28
        }
      ]
    },
    {
      "cell_type": "markdown",
      "metadata": {
        "collapsed": true,
        "id": "7nONLrUWe67J",
        "colab_type": "text"
      },
      "source": [
        "### It was infered from the problem statement that 'Personal Loan' is the target column"
      ]
    },
    {
      "cell_type": "code",
      "metadata": {
        "id": "Xl9WNZyme67J",
        "colab_type": "code",
        "colab": {},
        "outputId": "9519f3ef-3084-4b97-df91-80789179de83"
      },
      "source": [
        "bank_df.describe().T"
      ],
      "execution_count": 0,
      "outputs": [
        {
          "output_type": "execute_result",
          "data": {
            "text/html": [
              "<div>\n",
              "<style scoped>\n",
              "    .dataframe tbody tr th:only-of-type {\n",
              "        vertical-align: middle;\n",
              "    }\n",
              "\n",
              "    .dataframe tbody tr th {\n",
              "        vertical-align: top;\n",
              "    }\n",
              "\n",
              "    .dataframe thead th {\n",
              "        text-align: right;\n",
              "    }\n",
              "</style>\n",
              "<table border=\"1\" class=\"dataframe\">\n",
              "  <thead>\n",
              "    <tr style=\"text-align: right;\">\n",
              "      <th></th>\n",
              "      <th>count</th>\n",
              "      <th>mean</th>\n",
              "      <th>std</th>\n",
              "      <th>min</th>\n",
              "      <th>25%</th>\n",
              "      <th>50%</th>\n",
              "      <th>75%</th>\n",
              "      <th>max</th>\n",
              "    </tr>\n",
              "  </thead>\n",
              "  <tbody>\n",
              "    <tr>\n",
              "      <th>ID</th>\n",
              "      <td>5000.0</td>\n",
              "      <td>2500.500000</td>\n",
              "      <td>1443.520003</td>\n",
              "      <td>1.0</td>\n",
              "      <td>1250.750000</td>\n",
              "      <td>2500.500000</td>\n",
              "      <td>3750.250000</td>\n",
              "      <td>5000.0</td>\n",
              "    </tr>\n",
              "    <tr>\n",
              "      <th>Age</th>\n",
              "      <td>5000.0</td>\n",
              "      <td>0.507691</td>\n",
              "      <td>0.260526</td>\n",
              "      <td>0.0</td>\n",
              "      <td>0.272727</td>\n",
              "      <td>0.500000</td>\n",
              "      <td>0.727273</td>\n",
              "      <td>1.0</td>\n",
              "    </tr>\n",
              "    <tr>\n",
              "      <th>Experience</th>\n",
              "      <td>5000.0</td>\n",
              "      <td>0.468247</td>\n",
              "      <td>0.265470</td>\n",
              "      <td>0.0</td>\n",
              "      <td>0.232558</td>\n",
              "      <td>0.465116</td>\n",
              "      <td>0.697674</td>\n",
              "      <td>1.0</td>\n",
              "    </tr>\n",
              "    <tr>\n",
              "      <th>Income</th>\n",
              "      <td>5000.0</td>\n",
              "      <td>0.304510</td>\n",
              "      <td>0.213119</td>\n",
              "      <td>0.0</td>\n",
              "      <td>0.143519</td>\n",
              "      <td>0.259259</td>\n",
              "      <td>0.416667</td>\n",
              "      <td>1.0</td>\n",
              "    </tr>\n",
              "    <tr>\n",
              "      <th>ZIP Code</th>\n",
              "      <td>5000.0</td>\n",
              "      <td>239.664400</td>\n",
              "      <td>130.850803</td>\n",
              "      <td>0.0</td>\n",
              "      <td>131.000000</td>\n",
              "      <td>254.000000</td>\n",
              "      <td>352.000000</td>\n",
              "      <td>466.0</td>\n",
              "    </tr>\n",
              "    <tr>\n",
              "      <th>Family</th>\n",
              "      <td>5000.0</td>\n",
              "      <td>0.465467</td>\n",
              "      <td>0.382554</td>\n",
              "      <td>0.0</td>\n",
              "      <td>0.000000</td>\n",
              "      <td>0.333333</td>\n",
              "      <td>0.666667</td>\n",
              "      <td>1.0</td>\n",
              "    </tr>\n",
              "    <tr>\n",
              "      <th>CCAvg</th>\n",
              "      <td>5000.0</td>\n",
              "      <td>0.056443</td>\n",
              "      <td>0.128234</td>\n",
              "      <td>0.0</td>\n",
              "      <td>0.000000</td>\n",
              "      <td>0.000000</td>\n",
              "      <td>0.040000</td>\n",
              "      <td>1.0</td>\n",
              "    </tr>\n",
              "    <tr>\n",
              "      <th>Education</th>\n",
              "      <td>5000.0</td>\n",
              "      <td>0.440500</td>\n",
              "      <td>0.419935</td>\n",
              "      <td>0.0</td>\n",
              "      <td>0.000000</td>\n",
              "      <td>0.500000</td>\n",
              "      <td>1.000000</td>\n",
              "      <td>1.0</td>\n",
              "    </tr>\n",
              "    <tr>\n",
              "      <th>Mortgage</th>\n",
              "      <td>5000.0</td>\n",
              "      <td>0.088974</td>\n",
              "      <td>0.160179</td>\n",
              "      <td>0.0</td>\n",
              "      <td>0.000000</td>\n",
              "      <td>0.000000</td>\n",
              "      <td>0.159055</td>\n",
              "      <td>1.0</td>\n",
              "    </tr>\n",
              "    <tr>\n",
              "      <th>Personal Loan</th>\n",
              "      <td>5000.0</td>\n",
              "      <td>0.096000</td>\n",
              "      <td>0.294621</td>\n",
              "      <td>0.0</td>\n",
              "      <td>0.000000</td>\n",
              "      <td>0.000000</td>\n",
              "      <td>0.000000</td>\n",
              "      <td>1.0</td>\n",
              "    </tr>\n",
              "    <tr>\n",
              "      <th>Securities Account</th>\n",
              "      <td>5000.0</td>\n",
              "      <td>0.104400</td>\n",
              "      <td>0.305809</td>\n",
              "      <td>0.0</td>\n",
              "      <td>0.000000</td>\n",
              "      <td>0.000000</td>\n",
              "      <td>0.000000</td>\n",
              "      <td>1.0</td>\n",
              "    </tr>\n",
              "    <tr>\n",
              "      <th>CD Account</th>\n",
              "      <td>5000.0</td>\n",
              "      <td>0.060400</td>\n",
              "      <td>0.238250</td>\n",
              "      <td>0.0</td>\n",
              "      <td>0.000000</td>\n",
              "      <td>0.000000</td>\n",
              "      <td>0.000000</td>\n",
              "      <td>1.0</td>\n",
              "    </tr>\n",
              "    <tr>\n",
              "      <th>Online</th>\n",
              "      <td>5000.0</td>\n",
              "      <td>0.596800</td>\n",
              "      <td>0.490589</td>\n",
              "      <td>0.0</td>\n",
              "      <td>0.000000</td>\n",
              "      <td>1.000000</td>\n",
              "      <td>1.000000</td>\n",
              "      <td>1.0</td>\n",
              "    </tr>\n",
              "    <tr>\n",
              "      <th>CreditCard</th>\n",
              "      <td>5000.0</td>\n",
              "      <td>0.294000</td>\n",
              "      <td>0.455637</td>\n",
              "      <td>0.0</td>\n",
              "      <td>0.000000</td>\n",
              "      <td>0.000000</td>\n",
              "      <td>1.000000</td>\n",
              "      <td>1.0</td>\n",
              "    </tr>\n",
              "  </tbody>\n",
              "</table>\n",
              "</div>"
            ],
            "text/plain": [
              "                     count         mean          std  min          25%  \\\n",
              "ID                  5000.0  2500.500000  1443.520003  1.0  1250.750000   \n",
              "Age                 5000.0     0.507691     0.260526  0.0     0.272727   \n",
              "Experience          5000.0     0.468247     0.265470  0.0     0.232558   \n",
              "Income              5000.0     0.304510     0.213119  0.0     0.143519   \n",
              "ZIP Code            5000.0   239.664400   130.850803  0.0   131.000000   \n",
              "Family              5000.0     0.465467     0.382554  0.0     0.000000   \n",
              "CCAvg               5000.0     0.056443     0.128234  0.0     0.000000   \n",
              "Education           5000.0     0.440500     0.419935  0.0     0.000000   \n",
              "Mortgage            5000.0     0.088974     0.160179  0.0     0.000000   \n",
              "Personal Loan       5000.0     0.096000     0.294621  0.0     0.000000   \n",
              "Securities Account  5000.0     0.104400     0.305809  0.0     0.000000   \n",
              "CD Account          5000.0     0.060400     0.238250  0.0     0.000000   \n",
              "Online              5000.0     0.596800     0.490589  0.0     0.000000   \n",
              "CreditCard          5000.0     0.294000     0.455637  0.0     0.000000   \n",
              "\n",
              "                            50%          75%     max  \n",
              "ID                  2500.500000  3750.250000  5000.0  \n",
              "Age                    0.500000     0.727273     1.0  \n",
              "Experience             0.465116     0.697674     1.0  \n",
              "Income                 0.259259     0.416667     1.0  \n",
              "ZIP Code             254.000000   352.000000   466.0  \n",
              "Family                 0.333333     0.666667     1.0  \n",
              "CCAvg                  0.000000     0.040000     1.0  \n",
              "Education              0.500000     1.000000     1.0  \n",
              "Mortgage               0.000000     0.159055     1.0  \n",
              "Personal Loan          0.000000     0.000000     1.0  \n",
              "Securities Account     0.000000     0.000000     1.0  \n",
              "CD Account             0.000000     0.000000     1.0  \n",
              "Online                 1.000000     1.000000     1.0  \n",
              "CreditCard             0.000000     1.000000     1.0  "
            ]
          },
          "metadata": {
            "tags": []
          },
          "execution_count": 29
        }
      ]
    },
    {
      "cell_type": "code",
      "metadata": {
        "id": "RCiSeGo5e67P",
        "colab_type": "code",
        "colab": {}
      },
      "source": [
        "X = bank_df[['Age', 'Experience', 'Income', 'ZIP Code', 'Family', 'CCAvg', 'Education', 'Mortgage', 'Securities Account', 'CD Account', 'Online', 'CreditCard']]\n",
        "y = bank_df[['Personal Loan']]"
      ],
      "execution_count": 0,
      "outputs": []
    },
    {
      "cell_type": "markdown",
      "metadata": {
        "id": "asvT-Yiae67V",
        "colab_type": "text"
      },
      "source": [
        "# Apply Principal Component Analysis on the explored attributes and select the features that are explaining 95% variance of the data distribution and show the feature importance"
      ]
    },
    {
      "cell_type": "code",
      "metadata": {
        "id": "o-jL9zD8e67W",
        "colab_type": "code",
        "colab": {}
      },
      "source": [
        "from sklearn.decomposition import PCA"
      ],
      "execution_count": 0,
      "outputs": []
    },
    {
      "cell_type": "code",
      "metadata": {
        "id": "EdCQjSRue67b",
        "colab_type": "code",
        "colab": {}
      },
      "source": [
        "pca = PCA(0.95)"
      ],
      "execution_count": 0,
      "outputs": []
    },
    {
      "cell_type": "code",
      "metadata": {
        "id": "390k8tv1e67f",
        "colab_type": "code",
        "colab": {}
      },
      "source": [
        "pca_data = pca.fit_transform(X)"
      ],
      "execution_count": 0,
      "outputs": []
    },
    {
      "cell_type": "code",
      "metadata": {
        "id": "5YHuoCQpe67j",
        "colab_type": "code",
        "colab": {},
        "outputId": "da406a24-38c2-4c4d-e808-bde78cdf2f08"
      },
      "source": [
        "pca_data.shape"
      ],
      "execution_count": 0,
      "outputs": [
        {
          "output_type": "execute_result",
          "data": {
            "text/plain": [
              "(5000, 1)"
            ]
          },
          "metadata": {
            "tags": []
          },
          "execution_count": 59
        }
      ]
    },
    {
      "cell_type": "code",
      "metadata": {
        "id": "AAXMndjwe67t",
        "colab_type": "code",
        "colab": {},
        "outputId": "324b1c4c-fde1-4775-fb22-d2160880f7f2"
      },
      "source": [
        "pca.explained_variance_ratio_"
      ],
      "execution_count": 0,
      "outputs": [
        {
          "output_type": "execute_result",
          "data": {
            "text/plain": [
              "array([0.99993304])"
            ]
          },
          "metadata": {
            "tags": []
          },
          "execution_count": 60
        }
      ]
    },
    {
      "cell_type": "markdown",
      "metadata": {
        "id": "Jq0OTid1e67z",
        "colab_type": "text"
      },
      "source": [
        "#####  Here, just one column explains 99% of the vairance. This may lead to over-fitting of the model to the given data. But the following accuracy scores imply that the model was not over-fit upon the data"
      ]
    },
    {
      "cell_type": "markdown",
      "metadata": {
        "id": "ChN7IcOTe670",
        "colab_type": "text"
      },
      "source": [
        "# Create the training and test data set in the ratio of 70:30 respectively and set the random_state as 42."
      ]
    },
    {
      "cell_type": "code",
      "metadata": {
        "id": "qLO_lV6Ce670",
        "colab_type": "code",
        "colab": {}
      },
      "source": [
        "from sklearn.model_selection import train_test_split"
      ],
      "execution_count": 0,
      "outputs": []
    },
    {
      "cell_type": "code",
      "metadata": {
        "id": "nvneSKCZe675",
        "colab_type": "code",
        "colab": {}
      },
      "source": [
        "X_train, X_test, y_train, y_test = train_test_split(pca_data, y, test_size=0.3, random_state=42)"
      ],
      "execution_count": 0,
      "outputs": []
    },
    {
      "cell_type": "code",
      "metadata": {
        "id": "tATwOWh1e678",
        "colab_type": "code",
        "colab": {},
        "outputId": "9b40b9b0-5d6a-4443-e515-786f84ac55ef"
      },
      "source": [
        "print(X_train.shape)\n",
        "print(X_test.shape)\n",
        "print(y_train.shape)\n",
        "print(y_test.shape)"
      ],
      "execution_count": 0,
      "outputs": [
        {
          "output_type": "stream",
          "text": [
            "(3500, 1)\n",
            "(1500, 1)\n",
            "(3500, 1)\n",
            "(1500, 1)\n"
          ],
          "name": "stdout"
        }
      ]
    },
    {
      "cell_type": "markdown",
      "metadata": {
        "id": "7-ZrnWDle68D",
        "colab_type": "text"
      },
      "source": [
        "# Build a Logistic Regression Model to predict the personal loan affinity"
      ]
    },
    {
      "cell_type": "code",
      "metadata": {
        "id": "ePTbTJV6e68E",
        "colab_type": "code",
        "colab": {}
      },
      "source": [
        "from sklearn.linear_model import LogisticRegression"
      ],
      "execution_count": 0,
      "outputs": []
    },
    {
      "cell_type": "code",
      "metadata": {
        "id": "AI5hBkUZe68J",
        "colab_type": "code",
        "colab": {},
        "outputId": "3218064b-cfa3-4b32-8cf5-f16c29b07ece"
      },
      "source": [
        "logistic_regression = LogisticRegression()\n",
        "logistic_regression.fit(X_train, y_train)"
      ],
      "execution_count": 0,
      "outputs": [
        {
          "output_type": "stream",
          "text": [
            "C:\\Anaconda3\\lib\\site-packages\\sklearn\\linear_model\\logistic.py:433: FutureWarning: Default solver will be changed to 'lbfgs' in 0.22. Specify a solver to silence this warning.\n",
            "  FutureWarning)\n",
            "C:\\Anaconda3\\lib\\site-packages\\sklearn\\utils\\validation.py:761: DataConversionWarning: A column-vector y was passed when a 1d array was expected. Please change the shape of y to (n_samples, ), for example using ravel().\n",
            "  y = column_or_1d(y, warn=True)\n"
          ],
          "name": "stderr"
        },
        {
          "output_type": "execute_result",
          "data": {
            "text/plain": [
              "LogisticRegression(C=1.0, class_weight=None, dual=False, fit_intercept=True,\n",
              "          intercept_scaling=1, max_iter=100, multi_class='warn',\n",
              "          n_jobs=None, penalty='l2', random_state=None, solver='warn',\n",
              "          tol=0.0001, verbose=0, warm_start=False)"
            ]
          },
          "metadata": {
            "tags": []
          },
          "execution_count": 40
        }
      ]
    },
    {
      "cell_type": "code",
      "metadata": {
        "id": "ydrdEnZNe68O",
        "colab_type": "code",
        "colab": {},
        "outputId": "7ce155c6-8bd8-4a22-9810-cdc2387759d3"
      },
      "source": [
        "print(logistic_regression.score(X_train, y_train), logistic_regression.score(X_test, y_test))"
      ],
      "execution_count": 0,
      "outputs": [
        {
          "output_type": "stream",
          "text": [
            "0.9077142857142857 0.8953333333333333\n"
          ],
          "name": "stdout"
        }
      ]
    },
    {
      "cell_type": "markdown",
      "metadata": {
        "id": "7ZsO1Bsxe68S",
        "colab_type": "text"
      },
      "source": [
        "# Print the confusion matrix and state your insights about the performance of the model"
      ]
    },
    {
      "cell_type": "code",
      "metadata": {
        "id": "U7Lj-qMke68T",
        "colab_type": "code",
        "colab": {}
      },
      "source": [
        "from sklearn.metrics import confusion_matrix"
      ],
      "execution_count": 0,
      "outputs": []
    },
    {
      "cell_type": "code",
      "metadata": {
        "id": "6tG6BNzRe68X",
        "colab_type": "code",
        "colab": {}
      },
      "source": [
        "y_pred = logistic_regression.predict(X_test)\n",
        "a = confusion_matrix(y_test, y_pred, labels=[0, 1])"
      ],
      "execution_count": 0,
      "outputs": []
    },
    {
      "cell_type": "code",
      "metadata": {
        "id": "J-pQ6Y8Oe68b",
        "colab_type": "code",
        "colab": {},
        "outputId": "74d1dd51-0263-424e-eb23-19271aed944e"
      },
      "source": [
        "y_pred.sum()"
      ],
      "execution_count": 0,
      "outputs": [
        {
          "output_type": "execute_result",
          "data": {
            "text/plain": [
              "0"
            ]
          },
          "metadata": {
            "tags": []
          },
          "execution_count": 45
        }
      ]
    },
    {
      "cell_type": "markdown",
      "metadata": {
        "id": "HMZjH14re68g",
        "colab_type": "text"
      },
      "source": [
        "#### From the confusion matrix we can see the Logistic regression model predicted that, no customer will take a personal loan. Even then the accuracy is higher than that of other models because of the high biasness of the data and not because of the performance of the model.\n",
        "\n",
        "#### True Positive - 157\n",
        "#### True Negative - 1343"
      ]
    },
    {
      "cell_type": "markdown",
      "metadata": {
        "id": "zHcdDNphe68h",
        "colab_type": "text"
      },
      "source": [
        "# Build a k Nearest Neigbours Classifier Model to predict the personal loan affinity (Provide the k Value as 3)"
      ]
    },
    {
      "cell_type": "code",
      "metadata": {
        "id": "aLmt168Me68i",
        "colab_type": "code",
        "colab": {}
      },
      "source": [
        "from sklearn.neighbors import KNeighborsClassifier"
      ],
      "execution_count": 0,
      "outputs": []
    },
    {
      "cell_type": "code",
      "metadata": {
        "id": "u2g1LTMme68n",
        "colab_type": "code",
        "colab": {},
        "outputId": "3cc0a635-eb10-4447-e193-e5c97574bf1d"
      },
      "source": [
        "model_knn = KNeighborsClassifier(n_neighbors=3)\n",
        "model_knn.fit(X_train, y_train)"
      ],
      "execution_count": 0,
      "outputs": [
        {
          "output_type": "stream",
          "text": [
            "C:\\Anaconda3\\lib\\site-packages\\ipykernel_launcher.py:2: DataConversionWarning: A column-vector y was passed when a 1d array was expected. Please change the shape of y to (n_samples, ), for example using ravel().\n",
            "  \n"
          ],
          "name": "stderr"
        },
        {
          "output_type": "execute_result",
          "data": {
            "text/plain": [
              "KNeighborsClassifier(algorithm='auto', leaf_size=30, metric='minkowski',\n",
              "           metric_params=None, n_jobs=None, n_neighbors=3, p=2,\n",
              "           weights='uniform')"
            ]
          },
          "metadata": {
            "tags": []
          },
          "execution_count": 47
        }
      ]
    },
    {
      "cell_type": "code",
      "metadata": {
        "id": "wb-4b8Yee68r",
        "colab_type": "code",
        "colab": {},
        "outputId": "4a1aa975-39b4-4b0a-94f4-b6cdda3e7cfb"
      },
      "source": [
        "print(model_knn.score(X_train, y_train), model_knn.score(X_test, y_test))"
      ],
      "execution_count": 0,
      "outputs": [
        {
          "output_type": "stream",
          "text": [
            "0.912 0.8753333333333333\n"
          ],
          "name": "stdout"
        }
      ]
    },
    {
      "cell_type": "markdown",
      "metadata": {
        "id": "cRHLXzWqe68x",
        "colab_type": "text"
      },
      "source": [
        "# Print the confusion matrix and state your insights about the performance of the model"
      ]
    },
    {
      "cell_type": "code",
      "metadata": {
        "id": "Iq127Sete68y",
        "colab_type": "code",
        "colab": {}
      },
      "source": [
        "y_pred = model_knn.predict(X_test)\n",
        "b = confusion_matrix(y_test, y_pred, labels=[0, 1])"
      ],
      "execution_count": 0,
      "outputs": []
    },
    {
      "cell_type": "code",
      "metadata": {
        "id": "u2aAExyNe683",
        "colab_type": "code",
        "colab": {},
        "outputId": "ff2901d7-0075-4975-ca07-d20c57d6a178"
      },
      "source": [
        "y_pred.sum()"
      ],
      "execution_count": 0,
      "outputs": [
        {
          "output_type": "execute_result",
          "data": {
            "text/plain": [
              "32"
            ]
          },
          "metadata": {
            "tags": []
          },
          "execution_count": 50
        }
      ]
    },
    {
      "cell_type": "markdown",
      "metadata": {
        "collapsed": true,
        "id": "7FLdTjiVe686",
        "colab_type": "text"
      },
      "source": [
        "#### From the confusion matrix we can see that the KNN model has performed better than the above Logistic regression model. This has predicted 1 potential customer who might take loan and misclassified 156 potential customers. This may prove as a problem for the bank."
      ]
    },
    {
      "cell_type": "markdown",
      "metadata": {
        "id": "A1OplgbTe687",
        "colab_type": "text"
      },
      "source": [
        "# Apply Random Forest Classifier Method and keep the number of estimators as 10 and check if there is any improvement in the model performance. State your insights"
      ]
    },
    {
      "cell_type": "code",
      "metadata": {
        "id": "BHSf3ti7e688",
        "colab_type": "code",
        "colab": {}
      },
      "source": [
        "from sklearn.ensemble import RandomForestClassifier"
      ],
      "execution_count": 0,
      "outputs": []
    },
    {
      "cell_type": "code",
      "metadata": {
        "id": "aix2LghXe69B",
        "colab_type": "code",
        "colab": {},
        "outputId": "9225abd1-cdec-40b4-96d5-9ee4455eeb46"
      },
      "source": [
        "random_forest = RandomForestClassifier(n_estimators=10, random_state=42)\n",
        "random_forest.fit(X_train, y_train)"
      ],
      "execution_count": 0,
      "outputs": [
        {
          "output_type": "stream",
          "text": [
            "C:\\Anaconda3\\lib\\site-packages\\ipykernel_launcher.py:2: DataConversionWarning: A column-vector y was passed when a 1d array was expected. Please change the shape of y to (n_samples,), for example using ravel().\n",
            "  \n"
          ],
          "name": "stderr"
        },
        {
          "output_type": "execute_result",
          "data": {
            "text/plain": [
              "RandomForestClassifier(bootstrap=True, class_weight=None, criterion='gini',\n",
              "            max_depth=None, max_features='auto', max_leaf_nodes=None,\n",
              "            min_impurity_decrease=0.0, min_impurity_split=None,\n",
              "            min_samples_leaf=1, min_samples_split=2,\n",
              "            min_weight_fraction_leaf=0.0, n_estimators=10, n_jobs=None,\n",
              "            oob_score=False, random_state=42, verbose=0, warm_start=False)"
            ]
          },
          "metadata": {
            "tags": []
          },
          "execution_count": 52
        }
      ]
    },
    {
      "cell_type": "code",
      "metadata": {
        "id": "DKX5-v7Be69H",
        "colab_type": "code",
        "colab": {},
        "outputId": "393ea549-f0d2-4504-a800-b55ee02e58e2"
      },
      "source": [
        "print(random_forest.score(X_train, y_train), random_forest.score(X_test, y_test))"
      ],
      "execution_count": 0,
      "outputs": [
        {
          "output_type": "stream",
          "text": [
            "0.956 0.834\n"
          ],
          "name": "stdout"
        }
      ]
    },
    {
      "cell_type": "code",
      "metadata": {
        "id": "a-IgLw9Ye69M",
        "colab_type": "code",
        "colab": {}
      },
      "source": [
        "y_pred = random_forest.predict(X_test)\n",
        "c = confusion_matrix(y_test, y_pred, labels=[0, 1])"
      ],
      "execution_count": 0,
      "outputs": []
    },
    {
      "cell_type": "code",
      "metadata": {
        "id": "GUfNznYoe69Q",
        "colab_type": "code",
        "colab": {},
        "outputId": "11f23927-48c6-45b9-8250-47d56994d951"
      },
      "source": [
        "y_pred.sum()"
      ],
      "execution_count": 0,
      "outputs": [
        {
          "output_type": "execute_result",
          "data": {
            "text/plain": [
              "110"
            ]
          },
          "metadata": {
            "tags": []
          },
          "execution_count": 55
        }
      ]
    },
    {
      "cell_type": "markdown",
      "metadata": {
        "id": "IC_FWYCLe69W",
        "colab_type": "text"
      },
      "source": [
        "#### From the confusion matrix we can see that the random forest model has performed better than the above Logistic regression model and KNN model. This has predicted 9 potential customer who might take loan and misclassified 148 potential customers. This may prove as a problem for the bank."
      ]
    },
    {
      "cell_type": "markdown",
      "metadata": {
        "id": "xX0AJlSLe69X",
        "colab_type": "text"
      },
      "source": [
        "# Compare the performance of the three models you have designed and state your conclusions so as to finalize which model can be taken for solving the problem statement"
      ]
    },
    {
      "cell_type": "code",
      "metadata": {
        "id": "jBMXLemQe69X",
        "colab_type": "code",
        "colab": {},
        "outputId": "6fec90e7-7668-456f-d746-e91d51f69c05"
      },
      "source": [
        "final_array = [a[1,0], b[1,0], c[1,0]]\n",
        "final_array"
      ],
      "execution_count": 0,
      "outputs": [
        {
          "output_type": "execute_result",
          "data": {
            "text/plain": [
              "[157, 156, 148]"
            ]
          },
          "metadata": {
            "tags": []
          },
          "execution_count": 66
        }
      ]
    },
    {
      "cell_type": "code",
      "metadata": {
        "id": "4YSevgvae69m",
        "colab_type": "code",
        "colab": {},
        "outputId": "6560c716-7d5a-4e7d-8430-69bd5cea6843"
      },
      "source": [
        "pd.DataFrame(final_array, index=['lr', 'knn', 'rf']).plot(kind='bar')"
      ],
      "execution_count": 0,
      "outputs": [
        {
          "output_type": "execute_result",
          "data": {
            "text/plain": [
              "<matplotlib.axes._subplots.AxesSubplot at 0x1cdeb280be0>"
            ]
          },
          "metadata": {
            "tags": []
          },
          "execution_count": 69
        },
        {
          "output_type": "display_data",
          "data": {
            "image/png": "[encoded data removed]",
            "text/plain": [
              "<Figure size 432x288 with 1 Axes>"
            ]
          },
          "metadata": {
            "tags": [],
            "needs_background": "light"
          }
        }
      ]
    },
    {
      "cell_type": "markdown",
      "metadata": {
        "collapsed": true,
        "id": "iSh8x5mye69u",
        "colab_type": "text"
      },
      "source": [
        "### For the above problem if we go by accuracy to choose a model, we will choose Logistic regression model. But the classification was done wrongly as infered from the confusion matrix. So, this implies that which model gives the least Type-2 error has to be chosen. In this scenario, it is the Random Forest model. One more reason to choose this model is because the underlying concept in this model is Decision Tree. The decision tree classifier is data dependent and not function dependent like Logistic regression.\n",
        "\n",
        "#### Why least type-2 error? -- Potential customers are classified as csutomers who will not take loan resulting in lost revenue as compared to when a non-potential customer is called."
      ]
    }
  ]
}