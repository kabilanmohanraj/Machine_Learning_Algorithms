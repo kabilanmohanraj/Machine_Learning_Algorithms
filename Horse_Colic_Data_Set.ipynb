{
  "nbformat": 4,
  "nbformat_minor": 0,
  "metadata": {
    "kernelspec": {
      "display_name": "Python 3",
      "language": "python",
      "name": "python3"
    },
    "language_info": {
      "codemirror_mode": {
        "name": "ipython",
        "version": 3
      },
      "file_extension": ".py",
      "mimetype": "text/x-python",
      "name": "python",
      "nbconvert_exporter": "python",
      "pygments_lexer": "ipython3",
      "version": "3.7.1"
    },
    "colab": {
      "name": "Horse_Colic_Data_Set.ipynb",
      "provenance": [],
      "collapsed_sections": []
    }
  },
  "cells": [
    {
      "cell_type": "code",
      "metadata": {
        "id": "7qxmHnZ2DYXg",
        "colab_type": "code",
        "colab": {}
      },
      "source": [
        "import numpy as np\n",
        "import pandas as pd\n",
        "import matplotlib.pyplot as plt\n",
        "%matplotlib inline\n",
        "import seaborn as sns"
      ],
      "execution_count": 0,
      "outputs": []
    },
    {
      "cell_type": "code",
      "metadata": {
        "id": "KQXH9_99DYXx",
        "colab_type": "code",
        "colab": {}
      },
      "source": [
        "# from sklearn.preprocessing import Imputer\n",
        "# imp = Imputer(missing_values='NaN', strategy='most_frequent', axis=0)"
      ],
      "execution_count": 0,
      "outputs": []
    },
    {
      "cell_type": "code",
      "metadata": {
        "id": "gs1RN-UODYX_",
        "colab_type": "code",
        "colab": {}
      },
      "source": [
        "import warnings\n",
        "warnings.filterwarnings('ignore')"
      ],
      "execution_count": 0,
      "outputs": []
    },
    {
      "cell_type": "code",
      "metadata": {
        "id": "NLOG5qq3DYYL",
        "colab_type": "code",
        "outputId": "bc6a2d54-36d8-4e11-869e-16c04d79ac67",
        "colab": {}
      },
      "source": [
        "horse_data = pd.read_csv('../DataSets/horse.csv')\n",
        "horse_data.head()"
      ],
      "execution_count": 0,
      "outputs": [
        {
          "output_type": "execute_result",
          "data": {
            "text/html": [
              "<div>\n",
              "<style scoped>\n",
              "    .dataframe tbody tr th:only-of-type {\n",
              "        vertical-align: middle;\n",
              "    }\n",
              "\n",
              "    .dataframe tbody tr th {\n",
              "        vertical-align: top;\n",
              "    }\n",
              "\n",
              "    .dataframe thead th {\n",
              "        text-align: right;\n",
              "    }\n",
              "</style>\n",
              "<table border=\"1\" class=\"dataframe\">\n",
              "  <thead>\n",
              "    <tr style=\"text-align: right;\">\n",
              "      <th></th>\n",
              "      <th>surgery</th>\n",
              "      <th>age</th>\n",
              "      <th>hospital_number</th>\n",
              "      <th>rectal_temp</th>\n",
              "      <th>pulse</th>\n",
              "      <th>respiratory_rate</th>\n",
              "      <th>temp_of_extremities</th>\n",
              "      <th>peripheral_pulse</th>\n",
              "      <th>mucous_membrane</th>\n",
              "      <th>capillary_refill_time</th>\n",
              "      <th>...</th>\n",
              "      <th>packed_cell_volume</th>\n",
              "      <th>total_protein</th>\n",
              "      <th>abdomo_appearance</th>\n",
              "      <th>abdomo_protein</th>\n",
              "      <th>outcome</th>\n",
              "      <th>surgical_lesion</th>\n",
              "      <th>lesion_1</th>\n",
              "      <th>lesion_2</th>\n",
              "      <th>lesion_3</th>\n",
              "      <th>cp_data</th>\n",
              "    </tr>\n",
              "  </thead>\n",
              "  <tbody>\n",
              "    <tr>\n",
              "      <th>0</th>\n",
              "      <td>no</td>\n",
              "      <td>adult</td>\n",
              "      <td>530101</td>\n",
              "      <td>38.5</td>\n",
              "      <td>66.0</td>\n",
              "      <td>28.0</td>\n",
              "      <td>cool</td>\n",
              "      <td>reduced</td>\n",
              "      <td>NaN</td>\n",
              "      <td>more_3_sec</td>\n",
              "      <td>...</td>\n",
              "      <td>45.0</td>\n",
              "      <td>8.4</td>\n",
              "      <td>NaN</td>\n",
              "      <td>NaN</td>\n",
              "      <td>died</td>\n",
              "      <td>no</td>\n",
              "      <td>11300</td>\n",
              "      <td>0</td>\n",
              "      <td>0</td>\n",
              "      <td>no</td>\n",
              "    </tr>\n",
              "    <tr>\n",
              "      <th>1</th>\n",
              "      <td>yes</td>\n",
              "      <td>adult</td>\n",
              "      <td>534817</td>\n",
              "      <td>39.2</td>\n",
              "      <td>88.0</td>\n",
              "      <td>20.0</td>\n",
              "      <td>NaN</td>\n",
              "      <td>NaN</td>\n",
              "      <td>pale_cyanotic</td>\n",
              "      <td>less_3_sec</td>\n",
              "      <td>...</td>\n",
              "      <td>50.0</td>\n",
              "      <td>85.0</td>\n",
              "      <td>cloudy</td>\n",
              "      <td>2.0</td>\n",
              "      <td>euthanized</td>\n",
              "      <td>no</td>\n",
              "      <td>2208</td>\n",
              "      <td>0</td>\n",
              "      <td>0</td>\n",
              "      <td>no</td>\n",
              "    </tr>\n",
              "    <tr>\n",
              "      <th>2</th>\n",
              "      <td>no</td>\n",
              "      <td>adult</td>\n",
              "      <td>530334</td>\n",
              "      <td>38.3</td>\n",
              "      <td>40.0</td>\n",
              "      <td>24.0</td>\n",
              "      <td>normal</td>\n",
              "      <td>normal</td>\n",
              "      <td>pale_pink</td>\n",
              "      <td>less_3_sec</td>\n",
              "      <td>...</td>\n",
              "      <td>33.0</td>\n",
              "      <td>6.7</td>\n",
              "      <td>NaN</td>\n",
              "      <td>NaN</td>\n",
              "      <td>lived</td>\n",
              "      <td>no</td>\n",
              "      <td>0</td>\n",
              "      <td>0</td>\n",
              "      <td>0</td>\n",
              "      <td>yes</td>\n",
              "    </tr>\n",
              "    <tr>\n",
              "      <th>3</th>\n",
              "      <td>yes</td>\n",
              "      <td>young</td>\n",
              "      <td>5290409</td>\n",
              "      <td>39.1</td>\n",
              "      <td>164.0</td>\n",
              "      <td>84.0</td>\n",
              "      <td>cold</td>\n",
              "      <td>normal</td>\n",
              "      <td>dark_cyanotic</td>\n",
              "      <td>more_3_sec</td>\n",
              "      <td>...</td>\n",
              "      <td>48.0</td>\n",
              "      <td>7.2</td>\n",
              "      <td>serosanguious</td>\n",
              "      <td>5.3</td>\n",
              "      <td>died</td>\n",
              "      <td>yes</td>\n",
              "      <td>2208</td>\n",
              "      <td>0</td>\n",
              "      <td>0</td>\n",
              "      <td>yes</td>\n",
              "    </tr>\n",
              "    <tr>\n",
              "      <th>4</th>\n",
              "      <td>no</td>\n",
              "      <td>adult</td>\n",
              "      <td>530255</td>\n",
              "      <td>37.3</td>\n",
              "      <td>104.0</td>\n",
              "      <td>35.0</td>\n",
              "      <td>NaN</td>\n",
              "      <td>NaN</td>\n",
              "      <td>dark_cyanotic</td>\n",
              "      <td>more_3_sec</td>\n",
              "      <td>...</td>\n",
              "      <td>74.0</td>\n",
              "      <td>7.4</td>\n",
              "      <td>NaN</td>\n",
              "      <td>NaN</td>\n",
              "      <td>died</td>\n",
              "      <td>no</td>\n",
              "      <td>4300</td>\n",
              "      <td>0</td>\n",
              "      <td>0</td>\n",
              "      <td>no</td>\n",
              "    </tr>\n",
              "  </tbody>\n",
              "</table>\n",
              "<p>5 rows × 28 columns</p>\n",
              "</div>"
            ],
            "text/plain": [
              "  surgery    age  hospital_number  rectal_temp  pulse  respiratory_rate  \\\n",
              "0      no  adult           530101         38.5   66.0              28.0   \n",
              "1     yes  adult           534817         39.2   88.0              20.0   \n",
              "2      no  adult           530334         38.3   40.0              24.0   \n",
              "3     yes  young          5290409         39.1  164.0              84.0   \n",
              "4      no  adult           530255         37.3  104.0              35.0   \n",
              "\n",
              "  temp_of_extremities peripheral_pulse mucous_membrane capillary_refill_time  \\\n",
              "0                cool          reduced             NaN            more_3_sec   \n",
              "1                 NaN              NaN   pale_cyanotic            less_3_sec   \n",
              "2              normal           normal       pale_pink            less_3_sec   \n",
              "3                cold           normal   dark_cyanotic            more_3_sec   \n",
              "4                 NaN              NaN   dark_cyanotic            more_3_sec   \n",
              "\n",
              "    ...    packed_cell_volume total_protein abdomo_appearance abdomo_protein  \\\n",
              "0   ...                  45.0           8.4               NaN            NaN   \n",
              "1   ...                  50.0          85.0            cloudy            2.0   \n",
              "2   ...                  33.0           6.7               NaN            NaN   \n",
              "3   ...                  48.0           7.2     serosanguious            5.3   \n",
              "4   ...                  74.0           7.4               NaN            NaN   \n",
              "\n",
              "      outcome  surgical_lesion lesion_1 lesion_2  lesion_3  cp_data  \n",
              "0        died               no    11300        0         0       no  \n",
              "1  euthanized               no     2208        0         0       no  \n",
              "2       lived               no        0        0         0      yes  \n",
              "3        died              yes     2208        0         0      yes  \n",
              "4        died               no     4300        0         0       no  \n",
              "\n",
              "[5 rows x 28 columns]"
            ]
          },
          "metadata": {
            "tags": []
          },
          "execution_count": 48
        }
      ]
    },
    {
      "cell_type": "code",
      "metadata": {
        "id": "NHRvdPIYDYYW",
        "colab_type": "code",
        "outputId": "5db39765-086a-4bd4-d97d-41cbebd671dc",
        "colab": {}
      },
      "source": [
        "horse_data.info()"
      ],
      "execution_count": 0,
      "outputs": [
        {
          "output_type": "stream",
          "text": [
            "<class 'pandas.core.frame.DataFrame'>\n",
            "RangeIndex: 299 entries, 0 to 298\n",
            "Data columns (total 28 columns):\n",
            "surgery                  299 non-null object\n",
            "age                      299 non-null object\n",
            "hospital_number          299 non-null int64\n",
            "rectal_temp              239 non-null float64\n",
            "pulse                    275 non-null float64\n",
            "respiratory_rate         241 non-null float64\n",
            "temp_of_extremities      243 non-null object\n",
            "peripheral_pulse         230 non-null object\n",
            "mucous_membrane          252 non-null object\n",
            "capillary_refill_time    267 non-null object\n",
            "pain                     244 non-null object\n",
            "peristalsis              255 non-null object\n",
            "abdominal_distention     243 non-null object\n",
            "nasogastric_tube         195 non-null object\n",
            "nasogastric_reflux       193 non-null object\n",
            "nasogastric_reflux_ph    53 non-null float64\n",
            "rectal_exam_feces        197 non-null object\n",
            "abdomen                  181 non-null object\n",
            "packed_cell_volume       270 non-null float64\n",
            "total_protein            266 non-null float64\n",
            "abdomo_appearance        134 non-null object\n",
            "abdomo_protein           101 non-null float64\n",
            "outcome                  299 non-null object\n",
            "surgical_lesion          299 non-null object\n",
            "lesion_1                 299 non-null int64\n",
            "lesion_2                 299 non-null int64\n",
            "lesion_3                 299 non-null int64\n",
            "cp_data                  299 non-null object\n",
            "dtypes: float64(7), int64(4), object(17)\n",
            "memory usage: 65.5+ KB\n"
          ],
          "name": "stdout"
        }
      ]
    },
    {
      "cell_type": "code",
      "metadata": {
        "id": "M3pFcr5EDYYh",
        "colab_type": "code",
        "outputId": "02fd248b-a5cd-400b-9675-8b3a696a50b1",
        "colab": {}
      },
      "source": [
        "horse_data.dropna(axis = 1, thresh=250, inplace = True)\n",
        "horse_data.info()"
      ],
      "execution_count": 0,
      "outputs": [
        {
          "output_type": "stream",
          "text": [
            "<class 'pandas.core.frame.DataFrame'>\n",
            "RangeIndex: 299 entries, 0 to 298\n",
            "Data columns (total 15 columns):\n",
            "surgery                  299 non-null object\n",
            "age                      299 non-null object\n",
            "hospital_number          299 non-null int64\n",
            "pulse                    275 non-null float64\n",
            "mucous_membrane          252 non-null object\n",
            "capillary_refill_time    267 non-null object\n",
            "peristalsis              255 non-null object\n",
            "packed_cell_volume       270 non-null float64\n",
            "total_protein            266 non-null float64\n",
            "outcome                  299 non-null object\n",
            "surgical_lesion          299 non-null object\n",
            "lesion_1                 299 non-null int64\n",
            "lesion_2                 299 non-null int64\n",
            "lesion_3                 299 non-null int64\n",
            "cp_data                  299 non-null object\n",
            "dtypes: float64(3), int64(4), object(8)\n",
            "memory usage: 35.1+ KB\n"
          ],
          "name": "stdout"
        }
      ]
    },
    {
      "cell_type": "code",
      "metadata": {
        "id": "8hWAJGHZDYYr",
        "colab_type": "code",
        "outputId": "4dfec398-cee5-4c75-ba1d-6f1dbb022a1f",
        "colab": {}
      },
      "source": [
        "horse_data.head()"
      ],
      "execution_count": 0,
      "outputs": [
        {
          "output_type": "execute_result",
          "data": {
            "text/html": [
              "<div>\n",
              "<style scoped>\n",
              "    .dataframe tbody tr th:only-of-type {\n",
              "        vertical-align: middle;\n",
              "    }\n",
              "\n",
              "    .dataframe tbody tr th {\n",
              "        vertical-align: top;\n",
              "    }\n",
              "\n",
              "    .dataframe thead th {\n",
              "        text-align: right;\n",
              "    }\n",
              "</style>\n",
              "<table border=\"1\" class=\"dataframe\">\n",
              "  <thead>\n",
              "    <tr style=\"text-align: right;\">\n",
              "      <th></th>\n",
              "      <th>surgery</th>\n",
              "      <th>age</th>\n",
              "      <th>hospital_number</th>\n",
              "      <th>pulse</th>\n",
              "      <th>mucous_membrane</th>\n",
              "      <th>capillary_refill_time</th>\n",
              "      <th>peristalsis</th>\n",
              "      <th>packed_cell_volume</th>\n",
              "      <th>total_protein</th>\n",
              "      <th>outcome</th>\n",
              "      <th>surgical_lesion</th>\n",
              "      <th>lesion_1</th>\n",
              "      <th>lesion_2</th>\n",
              "      <th>lesion_3</th>\n",
              "      <th>cp_data</th>\n",
              "    </tr>\n",
              "  </thead>\n",
              "  <tbody>\n",
              "    <tr>\n",
              "      <th>0</th>\n",
              "      <td>no</td>\n",
              "      <td>adult</td>\n",
              "      <td>530101</td>\n",
              "      <td>66.0</td>\n",
              "      <td>NaN</td>\n",
              "      <td>more_3_sec</td>\n",
              "      <td>absent</td>\n",
              "      <td>45.0</td>\n",
              "      <td>8.4</td>\n",
              "      <td>died</td>\n",
              "      <td>no</td>\n",
              "      <td>11300</td>\n",
              "      <td>0</td>\n",
              "      <td>0</td>\n",
              "      <td>no</td>\n",
              "    </tr>\n",
              "    <tr>\n",
              "      <th>1</th>\n",
              "      <td>yes</td>\n",
              "      <td>adult</td>\n",
              "      <td>534817</td>\n",
              "      <td>88.0</td>\n",
              "      <td>pale_cyanotic</td>\n",
              "      <td>less_3_sec</td>\n",
              "      <td>absent</td>\n",
              "      <td>50.0</td>\n",
              "      <td>85.0</td>\n",
              "      <td>euthanized</td>\n",
              "      <td>no</td>\n",
              "      <td>2208</td>\n",
              "      <td>0</td>\n",
              "      <td>0</td>\n",
              "      <td>no</td>\n",
              "    </tr>\n",
              "    <tr>\n",
              "      <th>2</th>\n",
              "      <td>no</td>\n",
              "      <td>adult</td>\n",
              "      <td>530334</td>\n",
              "      <td>40.0</td>\n",
              "      <td>pale_pink</td>\n",
              "      <td>less_3_sec</td>\n",
              "      <td>hypomotile</td>\n",
              "      <td>33.0</td>\n",
              "      <td>6.7</td>\n",
              "      <td>lived</td>\n",
              "      <td>no</td>\n",
              "      <td>0</td>\n",
              "      <td>0</td>\n",
              "      <td>0</td>\n",
              "      <td>yes</td>\n",
              "    </tr>\n",
              "    <tr>\n",
              "      <th>3</th>\n",
              "      <td>yes</td>\n",
              "      <td>young</td>\n",
              "      <td>5290409</td>\n",
              "      <td>164.0</td>\n",
              "      <td>dark_cyanotic</td>\n",
              "      <td>more_3_sec</td>\n",
              "      <td>absent</td>\n",
              "      <td>48.0</td>\n",
              "      <td>7.2</td>\n",
              "      <td>died</td>\n",
              "      <td>yes</td>\n",
              "      <td>2208</td>\n",
              "      <td>0</td>\n",
              "      <td>0</td>\n",
              "      <td>yes</td>\n",
              "    </tr>\n",
              "    <tr>\n",
              "      <th>4</th>\n",
              "      <td>no</td>\n",
              "      <td>adult</td>\n",
              "      <td>530255</td>\n",
              "      <td>104.0</td>\n",
              "      <td>dark_cyanotic</td>\n",
              "      <td>more_3_sec</td>\n",
              "      <td>NaN</td>\n",
              "      <td>74.0</td>\n",
              "      <td>7.4</td>\n",
              "      <td>died</td>\n",
              "      <td>no</td>\n",
              "      <td>4300</td>\n",
              "      <td>0</td>\n",
              "      <td>0</td>\n",
              "      <td>no</td>\n",
              "    </tr>\n",
              "  </tbody>\n",
              "</table>\n",
              "</div>"
            ],
            "text/plain": [
              "  surgery    age  hospital_number  pulse mucous_membrane  \\\n",
              "0      no  adult           530101   66.0             NaN   \n",
              "1     yes  adult           534817   88.0   pale_cyanotic   \n",
              "2      no  adult           530334   40.0       pale_pink   \n",
              "3     yes  young          5290409  164.0   dark_cyanotic   \n",
              "4      no  adult           530255  104.0   dark_cyanotic   \n",
              "\n",
              "  capillary_refill_time peristalsis  packed_cell_volume  total_protein  \\\n",
              "0            more_3_sec      absent                45.0            8.4   \n",
              "1            less_3_sec      absent                50.0           85.0   \n",
              "2            less_3_sec  hypomotile                33.0            6.7   \n",
              "3            more_3_sec      absent                48.0            7.2   \n",
              "4            more_3_sec         NaN                74.0            7.4   \n",
              "\n",
              "      outcome surgical_lesion  lesion_1  lesion_2  lesion_3 cp_data  \n",
              "0        died              no     11300         0         0      no  \n",
              "1  euthanized              no      2208         0         0      no  \n",
              "2       lived              no         0         0         0     yes  \n",
              "3        died             yes      2208         0         0     yes  \n",
              "4        died              no      4300         0         0      no  "
            ]
          },
          "metadata": {
            "tags": []
          },
          "execution_count": 51
        }
      ]
    },
    {
      "cell_type": "code",
      "metadata": {
        "id": "kuK5WxPADYYz",
        "colab_type": "code",
        "colab": {}
      },
      "source": [
        "for column in list(horse_data.columns):\n",
        "    if(horse_data[column].dtype not in ['object']):\n",
        "        horse_data[column].fillna(horse_data[column].median(), inplace=True)\n",
        "    else:\n",
        "        horse_data[column].fillna(horse_data[column].mode()[0], inplace=True)"
      ],
      "execution_count": 0,
      "outputs": []
    },
    {
      "cell_type": "code",
      "metadata": {
        "id": "wxdpXtzZDYY6",
        "colab_type": "code",
        "outputId": "a54012d9-89e7-48e9-e5f2-495f5234f9ad",
        "colab": {}
      },
      "source": [
        "horse_data.info()"
      ],
      "execution_count": 0,
      "outputs": [
        {
          "output_type": "stream",
          "text": [
            "<class 'pandas.core.frame.DataFrame'>\n",
            "RangeIndex: 299 entries, 0 to 298\n",
            "Data columns (total 15 columns):\n",
            "surgery                  299 non-null object\n",
            "age                      299 non-null object\n",
            "hospital_number          299 non-null int64\n",
            "pulse                    299 non-null float64\n",
            "mucous_membrane          299 non-null object\n",
            "capillary_refill_time    299 non-null object\n",
            "peristalsis              299 non-null object\n",
            "packed_cell_volume       299 non-null float64\n",
            "total_protein            299 non-null float64\n",
            "outcome                  299 non-null object\n",
            "surgical_lesion          299 non-null object\n",
            "lesion_1                 299 non-null int64\n",
            "lesion_2                 299 non-null int64\n",
            "lesion_3                 299 non-null int64\n",
            "cp_data                  299 non-null object\n",
            "dtypes: float64(3), int64(4), object(8)\n",
            "memory usage: 35.1+ KB\n"
          ],
          "name": "stdout"
        }
      ]
    },
    {
      "cell_type": "code",
      "metadata": {
        "id": "kvdDK5CWDYZB",
        "colab_type": "code",
        "outputId": "aa8a5db6-4f94-4c3d-83b8-14a9e28c3bc8",
        "colab": {}
      },
      "source": [
        "horse_data.head()"
      ],
      "execution_count": 0,
      "outputs": [
        {
          "output_type": "execute_result",
          "data": {
            "text/html": [
              "<div>\n",
              "<style scoped>\n",
              "    .dataframe tbody tr th:only-of-type {\n",
              "        vertical-align: middle;\n",
              "    }\n",
              "\n",
              "    .dataframe tbody tr th {\n",
              "        vertical-align: top;\n",
              "    }\n",
              "\n",
              "    .dataframe thead th {\n",
              "        text-align: right;\n",
              "    }\n",
              "</style>\n",
              "<table border=\"1\" class=\"dataframe\">\n",
              "  <thead>\n",
              "    <tr style=\"text-align: right;\">\n",
              "      <th></th>\n",
              "      <th>surgery</th>\n",
              "      <th>age</th>\n",
              "      <th>hospital_number</th>\n",
              "      <th>pulse</th>\n",
              "      <th>mucous_membrane</th>\n",
              "      <th>capillary_refill_time</th>\n",
              "      <th>peristalsis</th>\n",
              "      <th>packed_cell_volume</th>\n",
              "      <th>total_protein</th>\n",
              "      <th>outcome</th>\n",
              "      <th>surgical_lesion</th>\n",
              "      <th>lesion_1</th>\n",
              "      <th>lesion_2</th>\n",
              "      <th>lesion_3</th>\n",
              "      <th>cp_data</th>\n",
              "    </tr>\n",
              "  </thead>\n",
              "  <tbody>\n",
              "    <tr>\n",
              "      <th>0</th>\n",
              "      <td>no</td>\n",
              "      <td>adult</td>\n",
              "      <td>530101</td>\n",
              "      <td>66.0</td>\n",
              "      <td>normal_pink</td>\n",
              "      <td>more_3_sec</td>\n",
              "      <td>absent</td>\n",
              "      <td>45.0</td>\n",
              "      <td>8.4</td>\n",
              "      <td>died</td>\n",
              "      <td>no</td>\n",
              "      <td>11300</td>\n",
              "      <td>0</td>\n",
              "      <td>0</td>\n",
              "      <td>no</td>\n",
              "    </tr>\n",
              "    <tr>\n",
              "      <th>1</th>\n",
              "      <td>yes</td>\n",
              "      <td>adult</td>\n",
              "      <td>534817</td>\n",
              "      <td>88.0</td>\n",
              "      <td>pale_cyanotic</td>\n",
              "      <td>less_3_sec</td>\n",
              "      <td>absent</td>\n",
              "      <td>50.0</td>\n",
              "      <td>85.0</td>\n",
              "      <td>euthanized</td>\n",
              "      <td>no</td>\n",
              "      <td>2208</td>\n",
              "      <td>0</td>\n",
              "      <td>0</td>\n",
              "      <td>no</td>\n",
              "    </tr>\n",
              "    <tr>\n",
              "      <th>2</th>\n",
              "      <td>no</td>\n",
              "      <td>adult</td>\n",
              "      <td>530334</td>\n",
              "      <td>40.0</td>\n",
              "      <td>pale_pink</td>\n",
              "      <td>less_3_sec</td>\n",
              "      <td>hypomotile</td>\n",
              "      <td>33.0</td>\n",
              "      <td>6.7</td>\n",
              "      <td>lived</td>\n",
              "      <td>no</td>\n",
              "      <td>0</td>\n",
              "      <td>0</td>\n",
              "      <td>0</td>\n",
              "      <td>yes</td>\n",
              "    </tr>\n",
              "    <tr>\n",
              "      <th>3</th>\n",
              "      <td>yes</td>\n",
              "      <td>young</td>\n",
              "      <td>5290409</td>\n",
              "      <td>164.0</td>\n",
              "      <td>dark_cyanotic</td>\n",
              "      <td>more_3_sec</td>\n",
              "      <td>absent</td>\n",
              "      <td>48.0</td>\n",
              "      <td>7.2</td>\n",
              "      <td>died</td>\n",
              "      <td>yes</td>\n",
              "      <td>2208</td>\n",
              "      <td>0</td>\n",
              "      <td>0</td>\n",
              "      <td>yes</td>\n",
              "    </tr>\n",
              "    <tr>\n",
              "      <th>4</th>\n",
              "      <td>no</td>\n",
              "      <td>adult</td>\n",
              "      <td>530255</td>\n",
              "      <td>104.0</td>\n",
              "      <td>dark_cyanotic</td>\n",
              "      <td>more_3_sec</td>\n",
              "      <td>hypomotile</td>\n",
              "      <td>74.0</td>\n",
              "      <td>7.4</td>\n",
              "      <td>died</td>\n",
              "      <td>no</td>\n",
              "      <td>4300</td>\n",
              "      <td>0</td>\n",
              "      <td>0</td>\n",
              "      <td>no</td>\n",
              "    </tr>\n",
              "  </tbody>\n",
              "</table>\n",
              "</div>"
            ],
            "text/plain": [
              "  surgery    age  hospital_number  pulse mucous_membrane  \\\n",
              "0      no  adult           530101   66.0     normal_pink   \n",
              "1     yes  adult           534817   88.0   pale_cyanotic   \n",
              "2      no  adult           530334   40.0       pale_pink   \n",
              "3     yes  young          5290409  164.0   dark_cyanotic   \n",
              "4      no  adult           530255  104.0   dark_cyanotic   \n",
              "\n",
              "  capillary_refill_time peristalsis  packed_cell_volume  total_protein  \\\n",
              "0            more_3_sec      absent                45.0            8.4   \n",
              "1            less_3_sec      absent                50.0           85.0   \n",
              "2            less_3_sec  hypomotile                33.0            6.7   \n",
              "3            more_3_sec      absent                48.0            7.2   \n",
              "4            more_3_sec  hypomotile                74.0            7.4   \n",
              "\n",
              "      outcome surgical_lesion  lesion_1  lesion_2  lesion_3 cp_data  \n",
              "0        died              no     11300         0         0      no  \n",
              "1  euthanized              no      2208         0         0      no  \n",
              "2       lived              no         0         0         0     yes  \n",
              "3        died             yes      2208         0         0     yes  \n",
              "4        died              no      4300         0         0      no  "
            ]
          },
          "metadata": {
            "tags": []
          },
          "execution_count": 54
        }
      ]
    },
    {
      "cell_type": "code",
      "metadata": {
        "id": "JlNTVPhgDYZK",
        "colab_type": "code",
        "colab": {}
      },
      "source": [
        "from sklearn.preprocessing import MinMaxScaler"
      ],
      "execution_count": 0,
      "outputs": []
    },
    {
      "cell_type": "code",
      "metadata": {
        "id": "AoE0cHV_DYZT",
        "colab_type": "code",
        "outputId": "a19d2b1d-e6c9-4cd9-a9d3-88557fe282ba",
        "colab": {}
      },
      "source": [
        "scaler = MinMaxScaler()\n",
        "for column in list(horse_data.columns):\n",
        "    if(horse_data[column].dtype not in ['object']):\n",
        "        horse_data[column] = scaler.fit_transform(horse_data[[column]])\n",
        "horse_data.head()"
      ],
      "execution_count": 0,
      "outputs": [
        {
          "output_type": "execute_result",
          "data": {
            "text/html": [
              "<div>\n",
              "<style scoped>\n",
              "    .dataframe tbody tr th:only-of-type {\n",
              "        vertical-align: middle;\n",
              "    }\n",
              "\n",
              "    .dataframe tbody tr th {\n",
              "        vertical-align: top;\n",
              "    }\n",
              "\n",
              "    .dataframe thead th {\n",
              "        text-align: right;\n",
              "    }\n",
              "</style>\n",
              "<table border=\"1\" class=\"dataframe\">\n",
              "  <thead>\n",
              "    <tr style=\"text-align: right;\">\n",
              "      <th></th>\n",
              "      <th>surgery</th>\n",
              "      <th>age</th>\n",
              "      <th>hospital_number</th>\n",
              "      <th>pulse</th>\n",
              "      <th>mucous_membrane</th>\n",
              "      <th>capillary_refill_time</th>\n",
              "      <th>peristalsis</th>\n",
              "      <th>packed_cell_volume</th>\n",
              "      <th>total_protein</th>\n",
              "      <th>outcome</th>\n",
              "      <th>surgical_lesion</th>\n",
              "      <th>lesion_1</th>\n",
              "      <th>lesion_2</th>\n",
              "      <th>lesion_3</th>\n",
              "      <th>cp_data</th>\n",
              "    </tr>\n",
              "  </thead>\n",
              "  <tbody>\n",
              "    <tr>\n",
              "      <th>0</th>\n",
              "      <td>no</td>\n",
              "      <td>adult</td>\n",
              "      <td>0.002428</td>\n",
              "      <td>0.233766</td>\n",
              "      <td>normal_pink</td>\n",
              "      <td>more_3_sec</td>\n",
              "      <td>absent</td>\n",
              "      <td>0.423077</td>\n",
              "      <td>0.059510</td>\n",
              "      <td>died</td>\n",
              "      <td>no</td>\n",
              "      <td>0.274872</td>\n",
              "      <td>0.0</td>\n",
              "      <td>0.0</td>\n",
              "      <td>no</td>\n",
              "    </tr>\n",
              "    <tr>\n",
              "      <th>1</th>\n",
              "      <td>yes</td>\n",
              "      <td>adult</td>\n",
              "      <td>0.003414</td>\n",
              "      <td>0.376623</td>\n",
              "      <td>pale_cyanotic</td>\n",
              "      <td>less_3_sec</td>\n",
              "      <td>absent</td>\n",
              "      <td>0.519231</td>\n",
              "      <td>0.953326</td>\n",
              "      <td>euthanized</td>\n",
              "      <td>no</td>\n",
              "      <td>0.053710</td>\n",
              "      <td>0.0</td>\n",
              "      <td>0.0</td>\n",
              "      <td>no</td>\n",
              "    </tr>\n",
              "    <tr>\n",
              "      <th>2</th>\n",
              "      <td>no</td>\n",
              "      <td>adult</td>\n",
              "      <td>0.002477</td>\n",
              "      <td>0.064935</td>\n",
              "      <td>pale_pink</td>\n",
              "      <td>less_3_sec</td>\n",
              "      <td>hypomotile</td>\n",
              "      <td>0.192308</td>\n",
              "      <td>0.039673</td>\n",
              "      <td>lived</td>\n",
              "      <td>no</td>\n",
              "      <td>0.000000</td>\n",
              "      <td>0.0</td>\n",
              "      <td>0.0</td>\n",
              "      <td>yes</td>\n",
              "    </tr>\n",
              "    <tr>\n",
              "      <th>3</th>\n",
              "      <td>yes</td>\n",
              "      <td>young</td>\n",
              "      <td>0.996821</td>\n",
              "      <td>0.870130</td>\n",
              "      <td>dark_cyanotic</td>\n",
              "      <td>more_3_sec</td>\n",
              "      <td>absent</td>\n",
              "      <td>0.480769</td>\n",
              "      <td>0.045508</td>\n",
              "      <td>died</td>\n",
              "      <td>yes</td>\n",
              "      <td>0.053710</td>\n",
              "      <td>0.0</td>\n",
              "      <td>0.0</td>\n",
              "      <td>yes</td>\n",
              "    </tr>\n",
              "    <tr>\n",
              "      <th>4</th>\n",
              "      <td>no</td>\n",
              "      <td>adult</td>\n",
              "      <td>0.002461</td>\n",
              "      <td>0.480519</td>\n",
              "      <td>dark_cyanotic</td>\n",
              "      <td>more_3_sec</td>\n",
              "      <td>hypomotile</td>\n",
              "      <td>0.980769</td>\n",
              "      <td>0.047841</td>\n",
              "      <td>died</td>\n",
              "      <td>no</td>\n",
              "      <td>0.104597</td>\n",
              "      <td>0.0</td>\n",
              "      <td>0.0</td>\n",
              "      <td>no</td>\n",
              "    </tr>\n",
              "  </tbody>\n",
              "</table>\n",
              "</div>"
            ],
            "text/plain": [
              "  surgery    age  hospital_number     pulse mucous_membrane  \\\n",
              "0      no  adult         0.002428  0.233766     normal_pink   \n",
              "1     yes  adult         0.003414  0.376623   pale_cyanotic   \n",
              "2      no  adult         0.002477  0.064935       pale_pink   \n",
              "3     yes  young         0.996821  0.870130   dark_cyanotic   \n",
              "4      no  adult         0.002461  0.480519   dark_cyanotic   \n",
              "\n",
              "  capillary_refill_time peristalsis  packed_cell_volume  total_protein  \\\n",
              "0            more_3_sec      absent            0.423077       0.059510   \n",
              "1            less_3_sec      absent            0.519231       0.953326   \n",
              "2            less_3_sec  hypomotile            0.192308       0.039673   \n",
              "3            more_3_sec      absent            0.480769       0.045508   \n",
              "4            more_3_sec  hypomotile            0.980769       0.047841   \n",
              "\n",
              "      outcome surgical_lesion  lesion_1  lesion_2  lesion_3 cp_data  \n",
              "0        died              no  0.274872       0.0       0.0      no  \n",
              "1  euthanized              no  0.053710       0.0       0.0      no  \n",
              "2       lived              no  0.000000       0.0       0.0     yes  \n",
              "3        died             yes  0.053710       0.0       0.0     yes  \n",
              "4        died              no  0.104597       0.0       0.0      no  "
            ]
          },
          "metadata": {
            "tags": []
          },
          "execution_count": 56
        }
      ]
    },
    {
      "cell_type": "code",
      "metadata": {
        "id": "x8rc4CMbDYZb",
        "colab_type": "code",
        "outputId": "85063179-f967-4c9b-e3db-a4ce21b45ce3",
        "colab": {}
      },
      "source": [
        "for column in list(horse_data.columns):\n",
        "    if(horse_data[column].dtype in ['object']):\n",
        "        print(horse_data[column].unique())"
      ],
      "execution_count": 0,
      "outputs": [
        {
          "output_type": "stream",
          "text": [
            "['no' 'yes']\n",
            "['adult' 'young']\n",
            "['normal_pink' 'pale_cyanotic' 'pale_pink' 'dark_cyanotic' 'bright_red'\n",
            " 'bright_pink']\n",
            "['more_3_sec' 'less_3_sec' '3']\n",
            "['absent' 'hypomotile' 'hypermotile' 'normal']\n",
            "['died' 'euthanized' 'lived']\n",
            "['no' 'yes']\n",
            "['no' 'yes']\n"
          ],
          "name": "stdout"
        }
      ]
    },
    {
      "cell_type": "code",
      "metadata": {
        "id": "SV2hBG5cDYZk",
        "colab_type": "code",
        "colab": {}
      },
      "source": [
        "# Outlier removal"
      ],
      "execution_count": 0,
      "outputs": []
    },
    {
      "cell_type": "code",
      "metadata": {
        "id": "nflq9A4SDYZr",
        "colab_type": "code",
        "colab": {}
      },
      "source": [
        "from sklearn.preprocessing import LabelEncoder"
      ],
      "execution_count": 0,
      "outputs": []
    },
    {
      "cell_type": "code",
      "metadata": {
        "id": "2B8qx-atDYZz",
        "colab_type": "code",
        "outputId": "451009a3-7f05-42be-f2f1-ece8e050648d",
        "colab": {}
      },
      "source": [
        "encoder = LabelEncoder()\n",
        "for column in list(horse_data.columns):\n",
        "    if(horse_data[column].dtype in ['object']):\n",
        "        horse_data[column] = encoder.fit_transform(horse_data[[column]])\n",
        "horse_data.head()"
      ],
      "execution_count": 0,
      "outputs": [
        {
          "output_type": "execute_result",
          "data": {
            "text/html": [
              "<div>\n",
              "<style scoped>\n",
              "    .dataframe tbody tr th:only-of-type {\n",
              "        vertical-align: middle;\n",
              "    }\n",
              "\n",
              "    .dataframe tbody tr th {\n",
              "        vertical-align: top;\n",
              "    }\n",
              "\n",
              "    .dataframe thead th {\n",
              "        text-align: right;\n",
              "    }\n",
              "</style>\n",
              "<table border=\"1\" class=\"dataframe\">\n",
              "  <thead>\n",
              "    <tr style=\"text-align: right;\">\n",
              "      <th></th>\n",
              "      <th>surgery</th>\n",
              "      <th>age</th>\n",
              "      <th>hospital_number</th>\n",
              "      <th>pulse</th>\n",
              "      <th>mucous_membrane</th>\n",
              "      <th>capillary_refill_time</th>\n",
              "      <th>peristalsis</th>\n",
              "      <th>packed_cell_volume</th>\n",
              "      <th>total_protein</th>\n",
              "      <th>outcome</th>\n",
              "      <th>surgical_lesion</th>\n",
              "      <th>lesion_1</th>\n",
              "      <th>lesion_2</th>\n",
              "      <th>lesion_3</th>\n",
              "      <th>cp_data</th>\n",
              "    </tr>\n",
              "  </thead>\n",
              "  <tbody>\n",
              "    <tr>\n",
              "      <th>0</th>\n",
              "      <td>0</td>\n",
              "      <td>0</td>\n",
              "      <td>0.002428</td>\n",
              "      <td>0.233766</td>\n",
              "      <td>3</td>\n",
              "      <td>2</td>\n",
              "      <td>0</td>\n",
              "      <td>0.423077</td>\n",
              "      <td>0.059510</td>\n",
              "      <td>0</td>\n",
              "      <td>0</td>\n",
              "      <td>0.274872</td>\n",
              "      <td>0.0</td>\n",
              "      <td>0.0</td>\n",
              "      <td>0</td>\n",
              "    </tr>\n",
              "    <tr>\n",
              "      <th>1</th>\n",
              "      <td>1</td>\n",
              "      <td>0</td>\n",
              "      <td>0.003414</td>\n",
              "      <td>0.376623</td>\n",
              "      <td>4</td>\n",
              "      <td>1</td>\n",
              "      <td>0</td>\n",
              "      <td>0.519231</td>\n",
              "      <td>0.953326</td>\n",
              "      <td>1</td>\n",
              "      <td>0</td>\n",
              "      <td>0.053710</td>\n",
              "      <td>0.0</td>\n",
              "      <td>0.0</td>\n",
              "      <td>0</td>\n",
              "    </tr>\n",
              "    <tr>\n",
              "      <th>2</th>\n",
              "      <td>0</td>\n",
              "      <td>0</td>\n",
              "      <td>0.002477</td>\n",
              "      <td>0.064935</td>\n",
              "      <td>5</td>\n",
              "      <td>1</td>\n",
              "      <td>2</td>\n",
              "      <td>0.192308</td>\n",
              "      <td>0.039673</td>\n",
              "      <td>2</td>\n",
              "      <td>0</td>\n",
              "      <td>0.000000</td>\n",
              "      <td>0.0</td>\n",
              "      <td>0.0</td>\n",
              "      <td>1</td>\n",
              "    </tr>\n",
              "    <tr>\n",
              "      <th>3</th>\n",
              "      <td>1</td>\n",
              "      <td>1</td>\n",
              "      <td>0.996821</td>\n",
              "      <td>0.870130</td>\n",
              "      <td>2</td>\n",
              "      <td>2</td>\n",
              "      <td>0</td>\n",
              "      <td>0.480769</td>\n",
              "      <td>0.045508</td>\n",
              "      <td>0</td>\n",
              "      <td>1</td>\n",
              "      <td>0.053710</td>\n",
              "      <td>0.0</td>\n",
              "      <td>0.0</td>\n",
              "      <td>1</td>\n",
              "    </tr>\n",
              "    <tr>\n",
              "      <th>4</th>\n",
              "      <td>0</td>\n",
              "      <td>0</td>\n",
              "      <td>0.002461</td>\n",
              "      <td>0.480519</td>\n",
              "      <td>2</td>\n",
              "      <td>2</td>\n",
              "      <td>2</td>\n",
              "      <td>0.980769</td>\n",
              "      <td>0.047841</td>\n",
              "      <td>0</td>\n",
              "      <td>0</td>\n",
              "      <td>0.104597</td>\n",
              "      <td>0.0</td>\n",
              "      <td>0.0</td>\n",
              "      <td>0</td>\n",
              "    </tr>\n",
              "  </tbody>\n",
              "</table>\n",
              "</div>"
            ],
            "text/plain": [
              "   surgery  age  hospital_number     pulse  mucous_membrane  \\\n",
              "0        0    0         0.002428  0.233766                3   \n",
              "1        1    0         0.003414  0.376623                4   \n",
              "2        0    0         0.002477  0.064935                5   \n",
              "3        1    1         0.996821  0.870130                2   \n",
              "4        0    0         0.002461  0.480519                2   \n",
              "\n",
              "   capillary_refill_time  peristalsis  packed_cell_volume  total_protein  \\\n",
              "0                      2            0            0.423077       0.059510   \n",
              "1                      1            0            0.519231       0.953326   \n",
              "2                      1            2            0.192308       0.039673   \n",
              "3                      2            0            0.480769       0.045508   \n",
              "4                      2            2            0.980769       0.047841   \n",
              "\n",
              "   outcome  surgical_lesion  lesion_1  lesion_2  lesion_3  cp_data  \n",
              "0        0                0  0.274872       0.0       0.0        0  \n",
              "1        1                0  0.053710       0.0       0.0        0  \n",
              "2        2                0  0.000000       0.0       0.0        1  \n",
              "3        0                1  0.053710       0.0       0.0        1  \n",
              "4        0                0  0.104597       0.0       0.0        0  "
            ]
          },
          "metadata": {
            "tags": []
          },
          "execution_count": 60
        }
      ]
    },
    {
      "cell_type": "code",
      "metadata": {
        "id": "tX8nh62DDYaA",
        "colab_type": "code",
        "outputId": "9d100691-d5b1-454c-ea61-088bdfd0a7ae",
        "colab": {}
      },
      "source": [
        "feature_data = horse_data.copy()\n",
        "feature_data.drop(columns=['outcome'], inplace=True)\n",
        "target_data = pd.DataFrame(horse_data['outcome'])\n",
        "target_data.info()"
      ],
      "execution_count": 0,
      "outputs": [
        {
          "output_type": "stream",
          "text": [
            "<class 'pandas.core.frame.DataFrame'>\n",
            "RangeIndex: 299 entries, 0 to 298\n",
            "Data columns (total 1 columns):\n",
            "outcome    299 non-null int32\n",
            "dtypes: int32(1)\n",
            "memory usage: 1.2 KB\n"
          ],
          "name": "stdout"
        }
      ]
    },
    {
      "cell_type": "code",
      "metadata": {
        "id": "ZOixz_wYDYaH",
        "colab_type": "code",
        "colab": {}
      },
      "source": [
        "from sklearn.discriminant_analysis import LinearDiscriminantAnalysis as LDA"
      ],
      "execution_count": 0,
      "outputs": []
    },
    {
      "cell_type": "code",
      "metadata": {
        "id": "nALnh0XwDYaM",
        "colab_type": "code",
        "colab": {}
      },
      "source": [
        "lda = LDA()\n",
        "lda_data = lda.fit_transform(feature_data, target_data)"
      ],
      "execution_count": 0,
      "outputs": []
    },
    {
      "cell_type": "code",
      "metadata": {
        "id": "gdxHtYayDYaR",
        "colab_type": "code",
        "colab": {}
      },
      "source": [
        "lda_data"
      ],
      "execution_count": 0,
      "outputs": []
    },
    {
      "cell_type": "code",
      "metadata": {
        "id": "_q7b7oFVDYaX",
        "colab_type": "code",
        "colab": {}
      },
      "source": [
        "X = lda_data.copy()\n",
        "y = target_data.copy()"
      ],
      "execution_count": 0,
      "outputs": []
    },
    {
      "cell_type": "code",
      "metadata": {
        "id": "-Xa7vw0eDYah",
        "colab_type": "code",
        "outputId": "2911fc93-9f8d-4402-9ac5-f24242d8cf22",
        "colab": {}
      },
      "source": [
        "for model in models:\n",
        "    print(model)\n",
        "    model_score_train=[]\n",
        "    model_score_test=[]\n",
        "    for i,(train,value) in enumerate(k_fold.split(X, y)):\n",
        "        model.fit(X[train],y.iloc[train])\n",
        "        pred=model.predict(X[value])\n",
        "        model_score_train.append(model.score(X[train],y.iloc[train]))\n",
        "        model_score_test.append(model.score(X[value],y.iloc[value]))\n",
        "        print(model.score(X[train],y.iloc[train]),model.score(X[value],y.iloc[value]))\n",
        "    print('\\n\\n\\n')\n",
        "    print(sum(model_score_train)/len(model_score_train), sum(model_score_test)/len(model_score_test))\n",
        "    print('\\n\\n\\n')"
      ],
      "execution_count": 0,
      "outputs": [
        {
          "output_type": "stream",
          "text": [
            "LogisticRegression(C=1.0, class_weight=None, dual=False, fit_intercept=True,\n",
            "          intercept_scaling=1, max_iter=100, multi_class='warn',\n",
            "          n_jobs=None, penalty='l2', random_state=None, solver='warn',\n",
            "          tol=0.0001, verbose=0, warm_start=False)\n",
            "0.7154811715481172 0.7333333333333333\n",
            "0.702928870292887 0.7333333333333333\n",
            "0.7280334728033473 0.6166666666666667\n",
            "0.7071129707112971 0.7333333333333333\n",
            "0.6958333333333333 0.7457627118644068\n",
            "\n",
            "\n",
            "\n",
            "\n",
            "0.7098779637377964 0.7124858757062146\n",
            "\n",
            "\n",
            "\n",
            "\n",
            "KNeighborsClassifier(algorithm='auto', leaf_size=30, metric='minkowski',\n",
            "           metric_params=None, n_jobs=None, n_neighbors=5, p=2,\n",
            "           weights='uniform')\n",
            "0.7322175732217573 0.6833333333333333\n",
            "0.7489539748953975 0.6333333333333333\n",
            "0.7238493723849372 0.6333333333333333\n",
            "0.7322175732217573 0.7\n",
            "0.7375 0.6271186440677966\n",
            "\n",
            "\n",
            "\n",
            "\n",
            "0.7349476987447698 0.6554237288135594\n",
            "\n",
            "\n",
            "\n",
            "\n",
            "DecisionTreeClassifier(class_weight=None, criterion='gini', max_depth=None,\n",
            "            max_features=None, max_leaf_nodes=None,\n",
            "            min_impurity_decrease=0.0, min_impurity_split=None,\n",
            "            min_samples_leaf=1, min_samples_split=2,\n",
            "            min_weight_fraction_leaf=0.0, presort=False, random_state=None,\n",
            "            splitter='best')\n",
            "1.0 0.6833333333333333\n",
            "1.0 0.5333333333333333\n",
            "1.0 0.55\n",
            "1.0 0.75\n",
            "1.0 0.576271186440678\n",
            "\n",
            "\n",
            "\n",
            "\n",
            "1.0 0.618587570621469\n",
            "\n",
            "\n",
            "\n",
            "\n",
            "SVC(C=1.0, cache_size=200, class_weight=None, coef0=0.0,\n",
            "  decision_function_shape='ovr', degree=3, gamma='auto_deprecated',\n",
            "  kernel='rbf', max_iter=-1, probability=False, random_state=None,\n",
            "  shrinking=True, tol=0.001, verbose=False)\n",
            "0.7280334728033473 0.6666666666666666\n",
            "0.7154811715481172 0.6833333333333333\n",
            "0.7364016736401674 0.6833333333333333\n",
            "0.7322175732217573 0.7833333333333333\n",
            "0.7333333333333333 0.7288135593220338\n",
            "\n",
            "\n",
            "\n",
            "\n",
            "0.7290934449093445 0.70909604519774\n",
            "\n",
            "\n",
            "\n",
            "\n"
          ],
          "name": "stdout"
        }
      ]
    },
    {
      "cell_type": "code",
      "metadata": {
        "id": "2h4PUMYJDYao",
        "colab_type": "code",
        "colab": {}
      },
      "source": [
        "from sklearn.decomposition import PCA"
      ],
      "execution_count": 0,
      "outputs": []
    },
    {
      "cell_type": "code",
      "metadata": {
        "id": "ZIwd1BI2DYas",
        "colab_type": "code",
        "outputId": "7d469713-b06f-4456-ab7f-ecd9a1914ff1",
        "colab": {}
      },
      "source": [
        "pca = PCA(0.95)\n",
        "pca_data = pca.fit_transform(feature_data, target_data)\n",
        "pca.explained_variance_ratio_"
      ],
      "execution_count": 0,
      "outputs": [
        {
          "output_type": "execute_result",
          "data": {
            "text/plain": [
              "array([0.5235935 , 0.19434677, 0.08911337, 0.05819018, 0.04294573,\n",
              "       0.03384035, 0.02236736])"
            ]
          },
          "metadata": {
            "tags": []
          },
          "execution_count": 66
        }
      ]
    },
    {
      "cell_type": "code",
      "metadata": {
        "id": "RCAAP5j2DYay",
        "colab_type": "code",
        "outputId": "d08ecd7c-165c-4c4e-d63b-4e4288fc4a74",
        "colab": {}
      },
      "source": [
        "pca_data.shape"
      ],
      "execution_count": 0,
      "outputs": [
        {
          "output_type": "execute_result",
          "data": {
            "text/plain": [
              "(299, 7)"
            ]
          },
          "metadata": {
            "tags": []
          },
          "execution_count": 79
        }
      ]
    },
    {
      "cell_type": "code",
      "metadata": {
        "id": "Xh-O2l0hDYa3",
        "colab_type": "code",
        "colab": {}
      },
      "source": [
        "from sklearn.feature_selection import RFE"
      ],
      "execution_count": 0,
      "outputs": []
    },
    {
      "cell_type": "code",
      "metadata": {
        "id": "3wvnA7dLDYa9",
        "colab_type": "code",
        "colab": {}
      },
      "source": [
        "from sklearn.linear_model import LogisticRegression\n",
        "from sklearn.neighbors import KNeighborsClassifier\n",
        "from sklearn.tree import DecisionTreeClassifier\n",
        "from sklearn.svm import SVC"
      ],
      "execution_count": 0,
      "outputs": []
    },
    {
      "cell_type": "code",
      "metadata": {
        "id": "rSLYUlPGDYbD",
        "colab_type": "code",
        "colab": {}
      },
      "source": [
        "# Model building\n",
        "logistic_regression = LogisticRegression()\n",
        "knn = KNeighborsClassifier()\n",
        "decision_tree = DecisionTreeClassifier()\n",
        "svm = SVC()\n",
        "models = [logistic_regression, knn, decision_tree, svm]"
      ],
      "execution_count": 0,
      "outputs": []
    },
    {
      "cell_type": "code",
      "metadata": {
        "id": "ysbk_-RxDYbJ",
        "colab_type": "code",
        "colab": {}
      },
      "source": [
        "from sklearn.model_selection import KFold"
      ],
      "execution_count": 0,
      "outputs": []
    },
    {
      "cell_type": "code",
      "metadata": {
        "id": "PLdUwIzvDYbN",
        "colab_type": "code",
        "colab": {}
      },
      "source": [
        "k_fold = KFold(n_splits=5,shuffle=False,random_state=40)"
      ],
      "execution_count": 0,
      "outputs": []
    },
    {
      "cell_type": "code",
      "metadata": {
        "id": "EiWh6eoyDYbS",
        "colab_type": "code",
        "colab": {}
      },
      "source": [
        "X = feature_data.copy()\n",
        "y = target_data.copy()"
      ],
      "execution_count": 0,
      "outputs": []
    },
    {
      "cell_type": "code",
      "metadata": {
        "id": "p1rezWImDYbW",
        "colab_type": "code",
        "outputId": "05712093-d9f6-4049-de04-a0ff4f27325d",
        "colab": {}
      },
      "source": [
        "for model in models:\n",
        "    print(model)\n",
        "    model_score_train=[]\n",
        "    model_score_test=[]\n",
        "    for i,(train,value) in enumerate(k_fold.split(X, y)):\n",
        "        model.fit(X.iloc[train],y.iloc[train])\n",
        "        pred=model.predict(X.iloc[value])\n",
        "        model_score_train.append(model.score(X.iloc[train],y.iloc[train]))\n",
        "        model_score_test.append(model.score(X.iloc[value],y.iloc[value]))\n",
        "        print(model.score(X.iloc[train],y.iloc[train]),model.score(X.iloc[value],y.iloc[value]))\n",
        "    print('\\n\\n\\n')\n",
        "    print(\"Train data score:\", sum(model_score_train)/len(model_score_train), \"Test data score:\", sum(model_score_test)/len(model_score_test))\n",
        "    print('\\n\\n\\n')"
      ],
      "execution_count": 0,
      "outputs": [
        {
          "output_type": "stream",
          "text": [
            "LogisticRegression(C=1.0, class_weight=None, dual=False, fit_intercept=True,\n",
            "          intercept_scaling=1, max_iter=100, multi_class='warn',\n",
            "          n_jobs=None, penalty='l2', random_state=None, solver='warn',\n",
            "          tol=0.0001, verbose=0, warm_start=False)\n",
            "0.702928870292887 0.6333333333333333\n",
            "0.6903765690376569 0.6666666666666666\n",
            "0.7154811715481172 0.6166666666666667\n",
            "0.694560669456067 0.7333333333333333\n",
            "0.6791666666666667 0.6949152542372882\n",
            "\n",
            "\n",
            "\n",
            "\n",
            "0.6965027894002789 0.6689830508474576\n",
            "\n",
            "\n",
            "\n",
            "\n",
            "KNeighborsClassifier(algorithm='auto', leaf_size=30, metric='minkowski',\n",
            "           metric_params=None, n_jobs=None, n_neighbors=5, p=2,\n",
            "           weights='uniform')\n",
            "0.7071129707112971 0.7333333333333333\n",
            "0.7489539748953975 0.5666666666666667\n",
            "0.7447698744769874 0.6166666666666667\n",
            "0.7322175732217573 0.6\n",
            "0.7333333333333333 0.6610169491525424\n",
            "\n",
            "\n",
            "\n",
            "\n",
            "0.7332775453277545 0.6355367231638418\n",
            "\n",
            "\n",
            "\n",
            "\n",
            "DecisionTreeClassifier(class_weight=None, criterion='gini', max_depth=None,\n",
            "            max_features=None, max_leaf_nodes=None,\n",
            "            min_impurity_decrease=0.0, min_impurity_split=None,\n",
            "            min_samples_leaf=1, min_samples_split=2,\n",
            "            min_weight_fraction_leaf=0.0, presort=False, random_state=None,\n",
            "            splitter='best')\n",
            "1.0 0.6\n",
            "1.0 0.6166666666666667\n",
            "1.0 0.6\n",
            "1.0 0.7166666666666667\n",
            "1.0 0.6610169491525424\n",
            "\n",
            "\n",
            "\n",
            "\n",
            "1.0 0.6388700564971752\n",
            "\n",
            "\n",
            "\n",
            "\n",
            "SVC(C=1.0, cache_size=200, class_weight=None, coef0=0.0,\n",
            "  decision_function_shape='ovr', degree=3, gamma='auto_deprecated',\n",
            "  kernel='rbf', max_iter=-1, probability=False, random_state=None,\n",
            "  shrinking=True, tol=0.001, verbose=False)\n",
            "0.6359832635983264 0.5333333333333333\n",
            "0.6527196652719666 0.6333333333333333\n",
            "0.6569037656903766 0.6333333333333333\n",
            "0.6569037656903766 0.7\n",
            "0.6541666666666667 0.576271186440678\n",
            "\n",
            "\n",
            "\n",
            "\n",
            "0.6513354253835426 0.6152542372881357\n",
            "\n",
            "\n",
            "\n",
            "\n"
          ],
          "name": "stdout"
        }
      ]
    },
    {
      "cell_type": "code",
      "metadata": {
        "id": "5lABygC5DYbb",
        "colab_type": "code",
        "outputId": "5ed5a0de-cbc7-4cba-b7ba-ce3500b926a5",
        "colab": {}
      },
      "source": [
        "horse_data.groupby(by='outcome').count()"
      ],
      "execution_count": 0,
      "outputs": [
        {
          "output_type": "execute_result",
          "data": {
            "text/html": [
              "<div>\n",
              "<style scoped>\n",
              "    .dataframe tbody tr th:only-of-type {\n",
              "        vertical-align: middle;\n",
              "    }\n",
              "\n",
              "    .dataframe tbody tr th {\n",
              "        vertical-align: top;\n",
              "    }\n",
              "\n",
              "    .dataframe thead th {\n",
              "        text-align: right;\n",
              "    }\n",
              "</style>\n",
              "<table border=\"1\" class=\"dataframe\">\n",
              "  <thead>\n",
              "    <tr style=\"text-align: right;\">\n",
              "      <th></th>\n",
              "      <th>surgery</th>\n",
              "      <th>age</th>\n",
              "      <th>hospital_number</th>\n",
              "      <th>pulse</th>\n",
              "      <th>mucous_membrane</th>\n",
              "      <th>capillary_refill_time</th>\n",
              "      <th>peristalsis</th>\n",
              "      <th>packed_cell_volume</th>\n",
              "      <th>total_protein</th>\n",
              "      <th>surgical_lesion</th>\n",
              "      <th>lesion_1</th>\n",
              "      <th>lesion_2</th>\n",
              "      <th>lesion_3</th>\n",
              "      <th>cp_data</th>\n",
              "    </tr>\n",
              "    <tr>\n",
              "      <th>outcome</th>\n",
              "      <th></th>\n",
              "      <th></th>\n",
              "      <th></th>\n",
              "      <th></th>\n",
              "      <th></th>\n",
              "      <th></th>\n",
              "      <th></th>\n",
              "      <th></th>\n",
              "      <th></th>\n",
              "      <th></th>\n",
              "      <th></th>\n",
              "      <th></th>\n",
              "      <th></th>\n",
              "      <th></th>\n",
              "    </tr>\n",
              "  </thead>\n",
              "  <tbody>\n",
              "    <tr>\n",
              "      <th>0</th>\n",
              "      <td>77</td>\n",
              "      <td>77</td>\n",
              "      <td>77</td>\n",
              "      <td>77</td>\n",
              "      <td>77</td>\n",
              "      <td>77</td>\n",
              "      <td>77</td>\n",
              "      <td>77</td>\n",
              "      <td>77</td>\n",
              "      <td>77</td>\n",
              "      <td>77</td>\n",
              "      <td>77</td>\n",
              "      <td>77</td>\n",
              "      <td>77</td>\n",
              "    </tr>\n",
              "    <tr>\n",
              "      <th>1</th>\n",
              "      <td>44</td>\n",
              "      <td>44</td>\n",
              "      <td>44</td>\n",
              "      <td>44</td>\n",
              "      <td>44</td>\n",
              "      <td>44</td>\n",
              "      <td>44</td>\n",
              "      <td>44</td>\n",
              "      <td>44</td>\n",
              "      <td>44</td>\n",
              "      <td>44</td>\n",
              "      <td>44</td>\n",
              "      <td>44</td>\n",
              "      <td>44</td>\n",
              "    </tr>\n",
              "    <tr>\n",
              "      <th>2</th>\n",
              "      <td>178</td>\n",
              "      <td>178</td>\n",
              "      <td>178</td>\n",
              "      <td>178</td>\n",
              "      <td>178</td>\n",
              "      <td>178</td>\n",
              "      <td>178</td>\n",
              "      <td>178</td>\n",
              "      <td>178</td>\n",
              "      <td>178</td>\n",
              "      <td>178</td>\n",
              "      <td>178</td>\n",
              "      <td>178</td>\n",
              "      <td>178</td>\n",
              "    </tr>\n",
              "  </tbody>\n",
              "</table>\n",
              "</div>"
            ],
            "text/plain": [
              "         surgery  age  hospital_number  pulse  mucous_membrane  \\\n",
              "outcome                                                          \n",
              "0             77   77               77     77               77   \n",
              "1             44   44               44     44               44   \n",
              "2            178  178              178    178              178   \n",
              "\n",
              "         capillary_refill_time  peristalsis  packed_cell_volume  \\\n",
              "outcome                                                           \n",
              "0                           77           77                  77   \n",
              "1                           44           44                  44   \n",
              "2                          178          178                 178   \n",
              "\n",
              "         total_protein  surgical_lesion  lesion_1  lesion_2  lesion_3  cp_data  \n",
              "outcome                                                                         \n",
              "0                   77               77        77        77        77       77  \n",
              "1                   44               44        44        44        44       44  \n",
              "2                  178              178       178       178       178      178  "
            ]
          },
          "metadata": {
            "tags": []
          },
          "execution_count": 75
        }
      ]
    },
    {
      "cell_type": "code",
      "metadata": {
        "id": "pwySJNwsDYbh",
        "colab_type": "code",
        "colab": {}
      },
      "source": [
        "X = pca_data.copy()\n",
        "y = target_data.copy()"
      ],
      "execution_count": 0,
      "outputs": []
    },
    {
      "cell_type": "code",
      "metadata": {
        "id": "46d-Mi-EDYbl",
        "colab_type": "code",
        "outputId": "2cecc36e-e685-43aa-81a1-0b30de4d088e",
        "colab": {}
      },
      "source": [
        "for model in models:\n",
        "    print(model)\n",
        "    model_score_train=[]\n",
        "    model_score_test=[]\n",
        "    for i,(train,value) in enumerate(k_fold.split(X, y)):\n",
        "        model.fit(X[train],y.iloc[train])\n",
        "        pred=model.predict(X[value])\n",
        "        model_score_train.append(model.score(X[train],y.iloc[train]))\n",
        "        model_score_test.append(model.score(X[value],y.iloc[value]))\n",
        "        print(model.score(X[train],y.iloc[train]),model.score(X[value],y.iloc[value]))\n",
        "    print('\\n\\n\\n')\n",
        "    print(sum(model_score_train)/len(model_score_train), sum(model_score_test)/len(model_score_test))\n",
        "    print('\\n\\n\\n')"
      ],
      "execution_count": 0,
      "outputs": [
        {
          "output_type": "stream",
          "text": [
            "LogisticRegression(C=1.0, class_weight=None, dual=False, fit_intercept=True,\n",
            "          intercept_scaling=1, max_iter=100, multi_class='warn',\n",
            "          n_jobs=None, penalty='l2', random_state=None, solver='warn',\n",
            "          tol=0.0001, verbose=0, warm_start=False)\n",
            "0.6694560669456067 0.5666666666666667\n",
            "0.6276150627615062 0.6333333333333333\n",
            "0.6359832635983264 0.6166666666666667\n",
            "0.6234309623430963 0.6666666666666666\n",
            "0.6416666666666667 0.6271186440677966\n",
            "\n",
            "\n",
            "\n",
            "\n",
            "0.6396304044630404 0.622090395480226\n",
            "\n",
            "\n",
            "\n",
            "\n",
            "KNeighborsClassifier(algorithm='auto', leaf_size=30, metric='minkowski',\n",
            "           metric_params=None, n_jobs=None, n_neighbors=5, p=2,\n",
            "           weights='uniform')\n",
            "0.7196652719665272 0.65\n",
            "0.7364016736401674 0.55\n",
            "0.694560669456067 0.6166666666666667\n",
            "0.698744769874477 0.5833333333333334\n",
            "0.7041666666666667 0.576271186440678\n",
            "\n",
            "\n",
            "\n",
            "\n",
            "0.7107078103207811 0.5952542372881358\n",
            "\n",
            "\n",
            "\n",
            "\n",
            "DecisionTreeClassifier(class_weight=None, criterion='gini', max_depth=None,\n",
            "            max_features=None, max_leaf_nodes=None,\n",
            "            min_impurity_decrease=0.0, min_impurity_split=None,\n",
            "            min_samples_leaf=1, min_samples_split=2,\n",
            "            min_weight_fraction_leaf=0.0, presort=False, random_state=None,\n",
            "            splitter='best')\n",
            "1.0 0.5166666666666667\n",
            "1.0 0.6166666666666667\n",
            "1.0 0.5666666666666667\n",
            "1.0 0.5666666666666667\n",
            "1.0 0.6271186440677966\n",
            "\n",
            "\n",
            "\n",
            "\n",
            "1.0 0.5787570621468927\n",
            "\n",
            "\n",
            "\n",
            "\n",
            "SVC(C=1.0, cache_size=200, class_weight=None, coef0=0.0,\n",
            "  decision_function_shape='ovr', degree=3, gamma='auto_deprecated',\n",
            "  kernel='rbf', max_iter=-1, probability=False, random_state=None,\n",
            "  shrinking=True, tol=0.001, verbose=False)\n",
            "0.6610878661087866 0.5166666666666667\n",
            "0.6694560669456067 0.6\n",
            "0.6694560669456067 0.6166666666666667\n",
            "0.6569037656903766 0.6666666666666666\n",
            "0.6666666666666666 0.6101694915254238\n",
            "\n",
            "\n",
            "\n",
            "\n",
            "0.6647140864714086 0.6020338983050848\n",
            "\n",
            "\n",
            "\n",
            "\n"
          ],
          "name": "stdout"
        }
      ]
    },
    {
      "cell_type": "code",
      "metadata": {
        "id": "EaDPxtm5DYbq",
        "colab_type": "code",
        "colab": {}
      },
      "source": [
        "from sklearn.feature_selection import RFE"
      ],
      "execution_count": 0,
      "outputs": []
    },
    {
      "cell_type": "code",
      "metadata": {
        "id": "Zds7oV5eDYbw",
        "colab_type": "code",
        "colab": {}
      },
      "source": [
        "X = feature_data.copy()\n",
        "y = target_data.copy()"
      ],
      "execution_count": 0,
      "outputs": []
    },
    {
      "cell_type": "code",
      "metadata": {
        "id": "JQVmb8M9DYb0",
        "colab_type": "code",
        "outputId": "3ae778f2-1689-49ad-fe06-bf2ef8aea356",
        "colab": {}
      },
      "source": [
        "selector_log_reg = RFE(logistic_regression, 7)\n",
        "selector_log_reg = selector_log_reg.fit(X, y)\n",
        "selector_log_reg.support_"
      ],
      "execution_count": 0,
      "outputs": [
        {
          "output_type": "execute_result",
          "data": {
            "text/plain": [
              "array([False,  True, False,  True, False,  True, False,  True,  True,\n",
              "        True, False,  True, False, False])"
            ]
          },
          "metadata": {
            "tags": []
          },
          "execution_count": 82
        }
      ]
    },
    {
      "cell_type": "code",
      "metadata": {
        "id": "H1YOOy8QDYb4",
        "colab_type": "code",
        "outputId": "38c4fd56-f476-403b-ac70-a6bc6b6fd48b",
        "colab": {}
      },
      "source": [
        "selector_dec_tree = RFE(decision_tree, 7)\n",
        "selector_dec_tree = selector_dec_tree.fit(X, y)\n",
        "selector_dec_tree.support_"
      ],
      "execution_count": 0,
      "outputs": [
        {
          "output_type": "execute_result",
          "data": {
            "text/plain": [
              "array([False, False,  True,  True,  True, False,  True,  True,  True,\n",
              "       False,  True, False, False, False])"
            ]
          },
          "metadata": {
            "tags": []
          },
          "execution_count": 83
        }
      ]
    },
    {
      "cell_type": "code",
      "metadata": {
        "id": "gF0nHnYpDYb9",
        "colab_type": "code",
        "outputId": "3b1c6d57-c730-4d6e-83cb-ad6739d1cef4",
        "colab": {}
      },
      "source": [
        "feature_data.columns"
      ],
      "execution_count": 0,
      "outputs": [
        {
          "output_type": "execute_result",
          "data": {
            "text/plain": [
              "Index(['surgery', 'age', 'hospital_number', 'pulse', 'mucous_membrane',\n",
              "       'capillary_refill_time', 'peristalsis', 'packed_cell_volume',\n",
              "       'total_protein', 'surgical_lesion', 'lesion_1', 'lesion_2', 'lesion_3',\n",
              "       'cp_data'],\n",
              "      dtype='object')"
            ]
          },
          "metadata": {
            "tags": []
          },
          "execution_count": 84
        }
      ]
    },
    {
      "cell_type": "code",
      "metadata": {
        "id": "_0-nZ0SwDYcC",
        "colab_type": "code",
        "colab": {}
      },
      "source": [
        "# 2,4,6,8,9,10,12\n",
        "X_log_reg = feature_data[['age', 'pulse', 'capillary_refill_time', 'packed_cell_volume', 'total_protein', 'surgical_lesion', 'lesion_2']]\n",
        "\n",
        "# 3,4,5,7,8,9,11\n",
        "X_dec_tree = feature_data[['hospital_number', 'pulse', 'mucous_membrane', 'peristalsis', 'packed_cell_volume', 'total_protein', 'lesion_1']]"
      ],
      "execution_count": 0,
      "outputs": []
    },
    {
      "cell_type": "code",
      "metadata": {
        "id": "Eot64BTyDYcG",
        "colab_type": "code",
        "outputId": "9b7770a4-15bf-4caa-beb5-e3e430d97867",
        "colab": {}
      },
      "source": [
        "model_score_train=[]\n",
        "model_score_test=[]\n",
        "model = logistic_regression\n",
        "print(model)\n",
        "X = X_log_reg\n",
        "for i,(train,value) in enumerate(k_fold.split(X, y)):\n",
        "    model.fit(X.iloc[train],y.iloc[train])\n",
        "    pred=model.predict(X.iloc[value])\n",
        "    model_score_train.append(model.score(X.iloc[train],y.iloc[train]))\n",
        "    model_score_test.append(model.score(X.iloc[value],y.iloc[value]))\n",
        "    print(model.score(X.iloc[train],y.iloc[train]),model.score(X.iloc[value],y.iloc[value]))\n",
        "print('\\n\\n\\n')\n",
        "print(sum(model_score_train)/len(model_score_train), sum(model_score_test)/len(model_score_test))\n",
        "print('\\n\\n\\n')"
      ],
      "execution_count": 0,
      "outputs": [
        {
          "output_type": "stream",
          "text": [
            "LogisticRegression(C=1.0, class_weight=None, dual=False, fit_intercept=True,\n",
            "          intercept_scaling=1, max_iter=100, multi_class='warn',\n",
            "          n_jobs=None, penalty='l2', random_state=None, solver='warn',\n",
            "          tol=0.0001, verbose=0, warm_start=False)\n",
            "0.6820083682008368 0.65\n",
            "0.6778242677824268 0.7\n",
            "0.6903765690376569 0.6\n",
            "0.6694560669456067 0.6833333333333333\n",
            "0.675 0.6779661016949152\n",
            "\n",
            "\n",
            "\n",
            "\n",
            "0.6789330543933054 0.6622598870056497\n",
            "\n",
            "\n",
            "\n",
            "\n"
          ],
          "name": "stdout"
        }
      ]
    },
    {
      "cell_type": "code",
      "metadata": {
        "id": "Z2KZYlMkDYcL",
        "colab_type": "code",
        "outputId": "f402b56e-6d23-4bee-e2a3-b9a2ef431530",
        "colab": {}
      },
      "source": [
        "model_score_train=[]\n",
        "model_score_test=[]\n",
        "model = decision_tree\n",
        "print(model)\n",
        "X = X_dec_tree\n",
        "for i,(train,value) in enumerate(k_fold.split(X, y)):\n",
        "    model.fit(X.iloc[train],y.iloc[train])\n",
        "    pred=model.predict(X.iloc[value])\n",
        "    model_score_train.append(model.score(X.iloc[train],y.iloc[train]))\n",
        "    model_score_test.append(model.score(X.iloc[value],y.iloc[value]))\n",
        "    print(model.score(X.iloc[train],y.iloc[train]),model.score(X.iloc[value],y.iloc[value]))\n",
        "print('\\n\\n\\n')\n",
        "print(sum(model_score_train)/len(model_score_train), sum(model_score_test)/len(model_score_test))\n",
        "print('\\n\\n\\n')"
      ],
      "execution_count": 0,
      "outputs": [
        {
          "output_type": "stream",
          "text": [
            "DecisionTreeClassifier(class_weight=None, criterion='gini', max_depth=None,\n",
            "            max_features=None, max_leaf_nodes=None,\n",
            "            min_impurity_decrease=0.0, min_impurity_split=None,\n",
            "            min_samples_leaf=1, min_samples_split=2,\n",
            "            min_weight_fraction_leaf=0.0, presort=False, random_state=None,\n",
            "            splitter='best')\n",
            "1.0 0.6166666666666667\n",
            "1.0 0.5166666666666667\n",
            "1.0 0.6333333333333333\n",
            "1.0 0.65\n",
            "1.0 0.6440677966101694\n",
            "\n",
            "\n",
            "\n",
            "\n",
            "1.0 0.6121468926553673\n",
            "\n",
            "\n",
            "\n",
            "\n"
          ],
          "name": "stdout"
        }
      ]
    },
    {
      "cell_type": "code",
      "metadata": {
        "id": "wj-5id9QDYcR",
        "colab_type": "code",
        "colab": {}
      },
      "source": [
        "from sklearn.model_selection import train_test_split"
      ],
      "execution_count": 0,
      "outputs": []
    },
    {
      "cell_type": "code",
      "metadata": {
        "id": "wzqQWcsMDYcV",
        "colab_type": "code",
        "colab": {}
      },
      "source": [
        "X_train,X_test,y_train,y_test=train_test_split(X_dec_tree,y,test_size=0.2,random_state=42)"
      ],
      "execution_count": 0,
      "outputs": []
    },
    {
      "cell_type": "code",
      "metadata": {
        "id": "c__KezDZDYcb",
        "colab_type": "code",
        "colab": {}
      },
      "source": [
        "from sklearn.ensemble import RandomForestClassifier"
      ],
      "execution_count": 0,
      "outputs": []
    },
    {
      "cell_type": "code",
      "metadata": {
        "id": "99sU3nwPDYcf",
        "colab_type": "code",
        "outputId": "e4960363-25c8-4a35-e105-f82331bc750b",
        "colab": {}
      },
      "source": [
        "random_forest = RandomForestClassifier(n_estimators=20)\n",
        "random_forest.fit(X_train, y_train)\n",
        "random_forest.score(X_test, y_test)"
      ],
      "execution_count": 0,
      "outputs": [
        {
          "output_type": "execute_result",
          "data": {
            "text/plain": [
              "0.7"
            ]
          },
          "metadata": {
            "tags": []
          },
          "execution_count": 110
        }
      ]
    },
    {
      "cell_type": "code",
      "metadata": {
        "id": "HoiKUuczDYcj",
        "colab_type": "code",
        "colab": {}
      },
      "source": [
        "X = feature_data.copy()\n",
        "y = target_data.copy()"
      ],
      "execution_count": 0,
      "outputs": []
    },
    {
      "cell_type": "code",
      "metadata": {
        "id": "pNHRR0x9DYcn",
        "colab_type": "code",
        "colab": {}
      },
      "source": [
        "X_train,X_test,y_train,y_test=train_test_split(X,y,test_size=0.2,random_state=42)"
      ],
      "execution_count": 0,
      "outputs": []
    },
    {
      "cell_type": "code",
      "metadata": {
        "id": "qAorPZwPDYcs",
        "colab_type": "code",
        "outputId": "ff8db8d3-c99c-46a8-e655-90ab67bb7096",
        "colab": {}
      },
      "source": [
        "random_forest = RandomForestClassifier(n_estimators=20)\n",
        "random_forest.fit(X_train, y_train)\n",
        "random_forest.score(X_test, y_test)"
      ],
      "execution_count": 0,
      "outputs": [
        {
          "output_type": "execute_result",
          "data": {
            "text/plain": [
              "0.7666666666666667"
            ]
          },
          "metadata": {
            "tags": []
          },
          "execution_count": 116
        }
      ]
    },
    {
      "cell_type": "code",
      "metadata": {
        "id": "Jerw1wNEDYc0",
        "colab_type": "code",
        "outputId": "af9eff86-ff5d-40eb-c309-4d1874cf8213",
        "colab": {}
      },
      "source": [
        "random_forest = RandomForestClassifier(n_estimators=20)\n",
        "random_forest.fit(X_train, y_train)\n",
        "random_forest.score(X_test, y_test)"
      ],
      "execution_count": 0,
      "outputs": [
        {
          "output_type": "execute_result",
          "data": {
            "text/plain": [
              "0.7833333333333333"
            ]
          },
          "metadata": {
            "tags": []
          },
          "execution_count": 159
        }
      ]
    },
    {
      "cell_type": "code",
      "metadata": {
        "id": "ooAhIDswDYc3",
        "colab_type": "code",
        "colab": {}
      },
      "source": [
        "from sklearn.ensemble import AdaBoostClassifier"
      ],
      "execution_count": 0,
      "outputs": []
    },
    {
      "cell_type": "code",
      "metadata": {
        "id": "2KDxGKYzDYc7",
        "colab_type": "code",
        "colab": {}
      },
      "source": [
        "X_train,X_test,y_train,y_test=train_test_split(pca_data,y,test_size=0.2,random_state=42)"
      ],
      "execution_count": 0,
      "outputs": []
    },
    {
      "cell_type": "code",
      "metadata": {
        "id": "4GIjngbZDYc_",
        "colab_type": "code",
        "outputId": "64f4fe92-87c1-41e0-cc70-2cb498207d6e",
        "colab": {}
      },
      "source": [
        "for model in [logistic_regression, decision_tree]:\n",
        "    ada_boost = AdaBoostClassifier(base_estimator=model)\n",
        "    ada_boost.fit(X_train, y_train)\n",
        "    print(ada_boost.score(X_test, y_test))"
      ],
      "execution_count": 0,
      "outputs": [
        {
          "output_type": "stream",
          "text": [
            "0.5666666666666667\n",
            "0.65\n"
          ],
          "name": "stdout"
        }
      ]
    },
    {
      "cell_type": "code",
      "metadata": {
        "id": "nw9Ldz6-DYdC",
        "colab_type": "code",
        "colab": {}
      },
      "source": [
        "X_train,X_test,y_train,y_test=train_test_split(lda_data,y,test_size=0.2,random_state=42)"
      ],
      "execution_count": 0,
      "outputs": []
    },
    {
      "cell_type": "code",
      "metadata": {
        "id": "peMj1RRaDYdK",
        "colab_type": "code",
        "outputId": "8e58c319-556a-4aa9-bf72-f69f8bd745df",
        "colab": {}
      },
      "source": [
        "for model in [logistic_regression, decision_tree]:\n",
        "    ada_boost = AdaBoostClassifier(base_estimator=model)\n",
        "    ada_boost.fit(X_train, y_train)\n",
        "    print(ada_boost.score(X_test, y_test))"
      ],
      "execution_count": 0,
      "outputs": [
        {
          "output_type": "stream",
          "text": [
            "0.7166666666666667\n",
            "0.7333333333333333\n"
          ],
          "name": "stdout"
        }
      ]
    }
  ]
}