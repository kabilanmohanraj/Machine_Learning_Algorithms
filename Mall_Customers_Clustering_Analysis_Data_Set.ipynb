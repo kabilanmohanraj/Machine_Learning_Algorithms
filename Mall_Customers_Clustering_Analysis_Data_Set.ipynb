{
  "nbformat": 4,
  "nbformat_minor": 0,
  "metadata": {
    "_datascience": {},
    "kernelspec": {
      "display_name": "Python 3",
      "language": "python",
      "name": "python3"
    },
    "language_info": {
      "codemirror_mode": {
        "name": "ipython",
        "version": 3
      },
      "file_extension": ".py",
      "mimetype": "text/x-python",
      "name": "python",
      "nbconvert_exporter": "python",
      "pygments_lexer": "ipython3",
      "version": "3.7.1"
    },
    "colab": {
      "name": "Mall_Customers_Clustering_Analysis_Data_Set.ipynb",
      "provenance": [],
      "collapsed_sections": []
    }
  },
  "cells": [
    {
      "cell_type": "markdown",
      "metadata": {
        "id": "q97R_At0g36n",
        "colab_type": "text"
      },
      "source": [
        "# Import Libraries\n",
        "\n",
        "**Import the usual libraries **"
      ]
    },
    {
      "cell_type": "code",
      "metadata": {
        "ExecuteTime": {
          "end_time": "2016-11-04T22:20:42.013547",
          "start_time": "2016-11-04T22:20:40.829057"
        },
        "_datascience": {},
        "id": "XhPsKwf_g36q",
        "colab_type": "code",
        "colab": {}
      },
      "source": [
        "import pandas as pd\n",
        "import numpy as np\n",
        "import matplotlib.pyplot as plt\n",
        "import seaborn as sns\n",
        "sns.set()  # for plot styling\n",
        "%matplotlib inline\n",
        "import warnings\n",
        "warnings.filterwarnings('ignore')\n",
        "import matplotlib.pyplot as plt\n",
        "plt.rcParams['figure.figsize'] = (12, 6)"
      ],
      "execution_count": 0,
      "outputs": []
    },
    {
      "cell_type": "markdown",
      "metadata": {
        "id": "cYhkSCBBg37G",
        "colab_type": "text"
      },
      "source": [
        "## Get the Data\n",
        "\n",
        "** Use pandas to read driver-data.csv as a dataframe called df.**"
      ]
    },
    {
      "cell_type": "code",
      "metadata": {
        "_datascience": {
          "keep": true
        },
        "id": "HxYHVJQng37I",
        "colab_type": "code",
        "colab": {},
        "outputId": "f9dc1413-ee0c-436c-e6a5-213308795407"
      },
      "source": [
        "df=pd.read_csv('shopping_data.csv')\n",
        "df.head()"
      ],
      "execution_count": 0,
      "outputs": [
        {
          "output_type": "execute_result",
          "data": {
            "text/html": [
              "<div>\n",
              "<style scoped>\n",
              "    .dataframe tbody tr th:only-of-type {\n",
              "        vertical-align: middle;\n",
              "    }\n",
              "\n",
              "    .dataframe tbody tr th {\n",
              "        vertical-align: top;\n",
              "    }\n",
              "\n",
              "    .dataframe thead th {\n",
              "        text-align: right;\n",
              "    }\n",
              "</style>\n",
              "<table border=\"1\" class=\"dataframe\">\n",
              "  <thead>\n",
              "    <tr style=\"text-align: right;\">\n",
              "      <th></th>\n",
              "      <th>CustomerID</th>\n",
              "      <th>Genre</th>\n",
              "      <th>Age</th>\n",
              "      <th>Annual Income (k$)</th>\n",
              "      <th>Spending Score (1-100)</th>\n",
              "    </tr>\n",
              "  </thead>\n",
              "  <tbody>\n",
              "    <tr>\n",
              "      <th>0</th>\n",
              "      <td>1</td>\n",
              "      <td>Male</td>\n",
              "      <td>19</td>\n",
              "      <td>15</td>\n",
              "      <td>39</td>\n",
              "    </tr>\n",
              "    <tr>\n",
              "      <th>1</th>\n",
              "      <td>2</td>\n",
              "      <td>Male</td>\n",
              "      <td>21</td>\n",
              "      <td>15</td>\n",
              "      <td>81</td>\n",
              "    </tr>\n",
              "    <tr>\n",
              "      <th>2</th>\n",
              "      <td>3</td>\n",
              "      <td>Female</td>\n",
              "      <td>20</td>\n",
              "      <td>16</td>\n",
              "      <td>6</td>\n",
              "    </tr>\n",
              "    <tr>\n",
              "      <th>3</th>\n",
              "      <td>4</td>\n",
              "      <td>Female</td>\n",
              "      <td>23</td>\n",
              "      <td>16</td>\n",
              "      <td>77</td>\n",
              "    </tr>\n",
              "    <tr>\n",
              "      <th>4</th>\n",
              "      <td>5</td>\n",
              "      <td>Female</td>\n",
              "      <td>31</td>\n",
              "      <td>17</td>\n",
              "      <td>40</td>\n",
              "    </tr>\n",
              "  </tbody>\n",
              "</table>\n",
              "</div>"
            ],
            "text/plain": [
              "   CustomerID   Genre  Age  Annual Income (k$)  Spending Score (1-100)\n",
              "0           1    Male   19                  15                      39\n",
              "1           2    Male   21                  15                      81\n",
              "2           3  Female   20                  16                       6\n",
              "3           4  Female   23                  16                      77\n",
              "4           5  Female   31                  17                      40"
            ]
          },
          "metadata": {
            "tags": []
          },
          "execution_count": 2
        }
      ]
    },
    {
      "cell_type": "code",
      "metadata": {
        "id": "g4nv3Y1yg37V",
        "colab_type": "code",
        "colab": {},
        "outputId": "1ac86470-e525-480e-bc90-fd2dc7f54be2"
      },
      "source": [
        "# Check the no. of records -- It should be 4000\n",
        "df.info()"
      ],
      "execution_count": 0,
      "outputs": [
        {
          "output_type": "stream",
          "text": [
            "<class 'pandas.core.frame.DataFrame'>\n",
            "RangeIndex: 200 entries, 0 to 199\n",
            "Data columns (total 5 columns):\n",
            "CustomerID                200 non-null int64\n",
            "Genre                     200 non-null object\n",
            "Age                       200 non-null int64\n",
            "Annual Income (k$)        200 non-null int64\n",
            "Spending Score (1-100)    200 non-null int64\n",
            "dtypes: int64(4), object(1)\n",
            "memory usage: 7.9+ KB\n"
          ],
          "name": "stdout"
        }
      ]
    },
    {
      "cell_type": "code",
      "metadata": {
        "id": "CKYZJcFjg37e",
        "colab_type": "code",
        "colab": {},
        "outputId": "3fd6767b-9d09-470b-a636-4bb06d72659e"
      },
      "source": [
        "# Check the Basic Distribution of Data\n",
        "df.describe().T"
      ],
      "execution_count": 0,
      "outputs": [
        {
          "output_type": "execute_result",
          "data": {
            "text/html": [
              "<div>\n",
              "<style scoped>\n",
              "    .dataframe tbody tr th:only-of-type {\n",
              "        vertical-align: middle;\n",
              "    }\n",
              "\n",
              "    .dataframe tbody tr th {\n",
              "        vertical-align: top;\n",
              "    }\n",
              "\n",
              "    .dataframe thead th {\n",
              "        text-align: right;\n",
              "    }\n",
              "</style>\n",
              "<table border=\"1\" class=\"dataframe\">\n",
              "  <thead>\n",
              "    <tr style=\"text-align: right;\">\n",
              "      <th></th>\n",
              "      <th>count</th>\n",
              "      <th>mean</th>\n",
              "      <th>std</th>\n",
              "      <th>min</th>\n",
              "      <th>25%</th>\n",
              "      <th>50%</th>\n",
              "      <th>75%</th>\n",
              "      <th>max</th>\n",
              "    </tr>\n",
              "  </thead>\n",
              "  <tbody>\n",
              "    <tr>\n",
              "      <th>CustomerID</th>\n",
              "      <td>200.0</td>\n",
              "      <td>100.50</td>\n",
              "      <td>57.879185</td>\n",
              "      <td>1.0</td>\n",
              "      <td>50.75</td>\n",
              "      <td>100.5</td>\n",
              "      <td>150.25</td>\n",
              "      <td>200.0</td>\n",
              "    </tr>\n",
              "    <tr>\n",
              "      <th>Age</th>\n",
              "      <td>200.0</td>\n",
              "      <td>38.85</td>\n",
              "      <td>13.969007</td>\n",
              "      <td>18.0</td>\n",
              "      <td>28.75</td>\n",
              "      <td>36.0</td>\n",
              "      <td>49.00</td>\n",
              "      <td>70.0</td>\n",
              "    </tr>\n",
              "    <tr>\n",
              "      <th>Annual Income (k$)</th>\n",
              "      <td>200.0</td>\n",
              "      <td>60.56</td>\n",
              "      <td>26.264721</td>\n",
              "      <td>15.0</td>\n",
              "      <td>41.50</td>\n",
              "      <td>61.5</td>\n",
              "      <td>78.00</td>\n",
              "      <td>137.0</td>\n",
              "    </tr>\n",
              "    <tr>\n",
              "      <th>Spending Score (1-100)</th>\n",
              "      <td>200.0</td>\n",
              "      <td>50.20</td>\n",
              "      <td>25.823522</td>\n",
              "      <td>1.0</td>\n",
              "      <td>34.75</td>\n",
              "      <td>50.0</td>\n",
              "      <td>73.00</td>\n",
              "      <td>99.0</td>\n",
              "    </tr>\n",
              "  </tbody>\n",
              "</table>\n",
              "</div>"
            ],
            "text/plain": [
              "                        count    mean        std   min    25%    50%     75%  \\\n",
              "CustomerID              200.0  100.50  57.879185   1.0  50.75  100.5  150.25   \n",
              "Age                     200.0   38.85  13.969007  18.0  28.75   36.0   49.00   \n",
              "Annual Income (k$)      200.0   60.56  26.264721  15.0  41.50   61.5   78.00   \n",
              "Spending Score (1-100)  200.0   50.20  25.823522   1.0  34.75   50.0   73.00   \n",
              "\n",
              "                          max  \n",
              "CustomerID              200.0  \n",
              "Age                      70.0  \n",
              "Annual Income (k$)      137.0  \n",
              "Spending Score (1-100)   99.0  "
            ]
          },
          "metadata": {
            "tags": []
          },
          "execution_count": 4
        }
      ]
    },
    {
      "cell_type": "markdown",
      "metadata": {
        "_datascience": {
          "keep": true
        },
        "id": "jqlQCHWtg37n",
        "colab_type": "text"
      },
      "source": [
        "Run the algorithm with K=2, which is the minimum number of clusters that can exist in a dataset."
      ]
    },
    {
      "cell_type": "code",
      "metadata": {
        "id": "xVwW-xXhg37p",
        "colab_type": "code",
        "colab": {}
      },
      "source": [
        "# Using the KMeans from sklearn\n",
        "from sklearn.cluster import KMeans"
      ],
      "execution_count": 0,
      "outputs": []
    },
    {
      "cell_type": "markdown",
      "metadata": {
        "id": "gdg9506sg370",
        "colab_type": "text"
      },
      "source": [
        "** Create an instance of a k-means model with 2 clusters.**"
      ]
    },
    {
      "cell_type": "code",
      "metadata": {
        "id": "tB1Bg1i6g371",
        "colab_type": "code",
        "colab": {}
      },
      "source": [
        "kmeans = KMeans(n_clusters=5)\n",
        "df_analyze = df.drop(['CustomerID', 'Genre'],axis=1)"
      ],
      "execution_count": 0,
      "outputs": []
    },
    {
      "cell_type": "markdown",
      "metadata": {
        "id": "3gt-mvZ-g378",
        "colab_type": "text"
      },
      "source": [
        "**Fit the model to all the data, except for the id label.**"
      ]
    },
    {
      "cell_type": "code",
      "metadata": {
        "_datascience": {},
        "id": "w0clsMlMg379",
        "colab_type": "code",
        "colab": {},
        "outputId": "75b962ef-3240-4235-ad9d-d753becfa767"
      },
      "source": [
        "kmeans.fit(df_analyze)"
      ],
      "execution_count": 0,
      "outputs": [
        {
          "output_type": "execute_result",
          "data": {
            "text/plain": [
              "KMeans(algorithm='auto', copy_x=True, init='k-means++', max_iter=300,\n",
              "    n_clusters=5, n_init=10, n_jobs=None, precompute_distances='auto',\n",
              "    random_state=None, tol=0.0001, verbose=0)"
            ]
          },
          "metadata": {
            "tags": []
          },
          "execution_count": 11
        }
      ]
    },
    {
      "cell_type": "markdown",
      "metadata": {
        "id": "WKkIa0dXg38E",
        "colab_type": "text"
      },
      "source": [
        "** Q1. What are the cluster center vectors?**"
      ]
    },
    {
      "cell_type": "code",
      "metadata": {
        "id": "NdpOIfPZg38G",
        "colab_type": "code",
        "colab": {},
        "outputId": "faefa4dc-d0ea-4a01-a215-aaf17a106554"
      },
      "source": [
        "kmeans.cluster_centers_"
      ],
      "execution_count": 0,
      "outputs": [
        {
          "output_type": "execute_result",
          "data": {
            "text/plain": [
              "array([[40.66666667, 87.75      , 17.58333333],\n",
              "       [25.52173913, 26.30434783, 78.56521739],\n",
              "       [32.69230769, 86.53846154, 82.12820513],\n",
              "       [45.2173913 , 26.30434783, 20.91304348],\n",
              "       [43.08860759, 55.29113924, 49.56962025]])"
            ]
          },
          "metadata": {
            "tags": []
          },
          "execution_count": 12
        }
      ]
    },
    {
      "cell_type": "markdown",
      "metadata": {
        "id": "z6Fxco5Qg38N",
        "colab_type": "text"
      },
      "source": [
        "** Check the lables of data point\n",
        "<br>Check the size of labels : should match dataset count \n",
        "   **\n",
        "   <br>The cluster labels are returned in `kmeans.labels_`. "
      ]
    },
    {
      "cell_type": "code",
      "metadata": {
        "id": "0ZoN2vbMg38P",
        "colab_type": "code",
        "colab": {},
        "outputId": "4c9a4142-7844-473e-a171-e3b72d9544e8"
      },
      "source": [
        "print (kmeans.labels_)\n",
        "print (len(kmeans.labels_))"
      ],
      "execution_count": 0,
      "outputs": [
        {
          "output_type": "stream",
          "text": [
            "[3 1 3 1 3 1 3 1 3 1 3 1 3 1 3 1 3 1 3 1 3 1 3 1 3 1 3 1 3 1 3 1 3 1 3 1 3\n",
            " 1 3 1 3 1 3 1 3 1 4 4 4 4 4 4 4 4 4 4 4 4 4 4 4 4 4 4 4 4 4 4 4 4 4 4 4 4\n",
            " 4 4 4 4 4 4 4 4 4 4 4 4 4 4 4 4 4 4 4 4 4 4 4 4 4 4 4 4 4 4 4 4 4 4 4 4 4\n",
            " 4 4 4 4 4 4 4 4 4 4 4 4 2 0 2 4 2 0 2 0 2 0 2 0 2 0 2 0 2 0 2 4 2 0 2 0 2\n",
            " 0 2 0 2 0 2 0 2 0 2 0 2 0 2 0 2 0 2 0 2 0 2 0 2 0 2 0 2 0 2 0 2 0 2 0 2 0\n",
            " 2 0 2 0 2 0 2 0 2 0 2 0 2 0 2]\n",
            "200\n"
          ],
          "name": "stdout"
        }
      ]
    },
    {
      "cell_type": "markdown",
      "metadata": {
        "id": "Di_4LN_4g38X",
        "colab_type": "text"
      },
      "source": [
        "** Q2. How many drivers are there in 1st and 2nd Cluster?**"
      ]
    },
    {
      "cell_type": "code",
      "metadata": {
        "id": "rzHE3X6qg38Z",
        "colab_type": "code",
        "colab": {},
        "outputId": "1993e711-8bc7-4d4e-9e88-921a3073d5e5"
      },
      "source": [
        "print (type(kmeans.labels_))\n",
        "unique, counts = np.unique(kmeans.labels_, return_counts=True)\n",
        "print(dict(zip(unique, counts)))"
      ],
      "execution_count": 0,
      "outputs": [
        {
          "output_type": "stream",
          "text": [
            "<class 'numpy.ndarray'>\n",
            "{0: 36, 1: 23, 2: 39, 3: 23, 4: 79}\n"
          ],
          "name": "stdout"
        }
      ]
    },
    {
      "cell_type": "markdown",
      "metadata": {
        "id": "B6qJxJ1qg38g",
        "colab_type": "text"
      },
      "source": [
        "** Plot the Cluster Data **"
      ]
    },
    {
      "cell_type": "code",
      "metadata": {
        "id": "XULKjpBxg38i",
        "colab_type": "code",
        "colab": {},
        "outputId": "7edc6b75-7985-486f-e32e-61f43b3c1f30"
      },
      "source": [
        "# plot the data \n",
        "df_analyze['cluster'] = kmeans.labels_\n",
        "sns.set_style('whitegrid')\n",
        "sns.lmplot('Annual Income (k$)','Spending Score (1-100)',data=df_analyze, hue='cluster',\n",
        "           palette='coolwarm',size=6,aspect=1,fit_reg=False)"
      ],
      "execution_count": 0,
      "outputs": [
        {
          "output_type": "execute_result",
          "data": {
            "text/plain": [
              "<seaborn.axisgrid.FacetGrid at 0x181c851b4a8>"
            ]
          },
          "metadata": {
            "tags": []
          },
          "execution_count": 16
        },
        {
          "output_type": "display_data",
          "data": {
            "image/png": "[encoded data removed]",
            "text/plain": [
              "<Figure size 477.85x432 with 1 Axes>"
            ]
          },
          "metadata": {
            "tags": []
          }
        }
      ]
    },
    {
      "cell_type": "markdown",
      "metadata": {
        "id": "DFZlpwykg38r",
        "colab_type": "text"
      },
      "source": [
        "\n",
        "** What are the cluster center vectors?\n",
        "<br> How many points are there in each of the Clusters?**\n"
      ]
    },
    {
      "cell_type": "code",
      "metadata": {
        "id": "NBTVPwk9g38t",
        "colab_type": "code",
        "colab": {},
        "outputId": "e1b9ac01-2f69-41b5-9dcd-88666ac69e00"
      },
      "source": [
        "kmeans_4 = KMeans(n_clusters=4)\n",
        "kmeans_4.fit(df.drop(['CustomerID','Genre'],axis=1))\n",
        "# kmeans_4.fit(df.drop('id',axis=1))\n",
        "print(kmeans_4.cluster_centers_)\t\n",
        "unique, counts = np.unique(kmeans_4.labels_, return_counts=True)\n",
        "\n",
        "kmeans_4.cluster_centers_\n",
        "print(dict(zip(unique, counts)))"
      ],
      "execution_count": 0,
      "outputs": [
        {
          "output_type": "stream",
          "text": [
            "[[32.69230769 86.53846154 82.12820513]\n",
            " [44.89473684 48.70526316 42.63157895]\n",
            " [40.39473684 87.         18.63157895]\n",
            " [24.82142857 28.71428571 74.25      ]]\n",
            "{0: 39, 1: 95, 2: 38, 3: 28}\n"
          ],
          "name": "stdout"
        }
      ]
    },
    {
      "cell_type": "markdown",
      "metadata": {
        "_datascience": {
          "keep": true
        },
        "id": "qydWQJbLg38z",
        "colab_type": "text"
      },
      "source": [
        "** Plot the Cluster Data **\n"
      ]
    },
    {
      "cell_type": "code",
      "metadata": {
        "_datascience": {
          "keep": true
        },
        "id": "Sn5SIY-Vg381",
        "colab_type": "code",
        "colab": {},
        "outputId": "2238173a-107e-48a4-db13-6ddb2c81d768"
      },
      "source": [
        "# plot the data \n",
        "df_analyze['cluster'] = kmeans_4.labels_\n",
        "sns.set_style('whitegrid')\n",
        "sns.lmplot('Annual Income (k$)','Spending Score (1-100)',data=df_analyze, hue='cluster',\n",
        "           palette='coolwarm',size=6,aspect=1,fit_reg=False)"
      ],
      "execution_count": 0,
      "outputs": [
        {
          "output_type": "execute_result",
          "data": {
            "text/plain": [
              "<seaborn.axisgrid.FacetGrid at 0x181c8d39390>"
            ]
          },
          "metadata": {
            "tags": []
          },
          "execution_count": 21
        },
        {
          "output_type": "display_data",
          "data": {
            "image/png": "[encoded data removed]",
            "text/plain": [
              "<Figure size 477.725x432 with 1 Axes>"
            ]
          },
          "metadata": {
            "tags": []
          }
        }
      ]
    },
    {
      "cell_type": "code",
      "metadata": {
        "id": "B1qLtT6nhItU",
        "colab_type": "code",
        "colab": {}
      },
      "source": [
        ""
      ],
      "execution_count": 0,
      "outputs": []
    }
  ]
}